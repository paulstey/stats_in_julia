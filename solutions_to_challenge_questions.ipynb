{
 "cells": [
  {
   "cell_type": "markdown",
   "metadata": {},
   "source": [
    "# Solutions to Challenge Questions"
   ]
  },
  {
   "cell_type": "markdown",
   "metadata": {},
   "source": [
    "## Question 1\n",
    "Using the `stagec` dataset from the rpart package in R, find the Gleason score of oldest patient. As a hint, you may consider using the `indmax()` function."
   ]
  },
  {
   "cell_type": "code",
   "execution_count": null,
   "metadata": {
    "collapsed": true
   },
   "outputs": [],
   "source": [
    "using RDatasets\n",
    "stagec = datasets(\"rpart\", \"stagec\")"
   ]
  },
  {
   "cell_type": "code",
   "execution_count": null,
   "metadata": {
    "collapsed": true
   },
   "outputs": [],
   "source": [
    "row_idx = indmax(stagec[:Age])              # get row index for oldest patient\n",
    "stagec[row_idx, :Gleason]                   "
   ]
  },
  {
   "cell_type": "markdown",
   "metadata": {},
   "source": [
    "---"
   ]
  },
  {
   "cell_type": "markdown",
   "metadata": {},
   "source": [
    "## Question 2\n",
    "Using the `stagec` dataset, determine if patients with tetraploidy tumors have higher Gleason scores than patients with diploid tumors."
   ]
  },
  {
   "cell_type": "code",
   "execution_count": null,
   "metadata": {
    "collapsed": true
   },
   "outputs": [],
   "source": [
    "using RDatasets\n",
    "\n",
    "stagec = dataset(\"rpart\", \"stagec\")\n",
    "\n",
    "# get row indices\n",
    "tetra_idx = find(stagec[:Ploidy] .== \"tetraploid\");\n",
    "dip_idx = find(stagec[:Ploidy] .== \"diploid\");\n",
    "\n",
    "# get Gleason scores\n",
    "tetra_grp = stagec[tetra_idx, :Gleason];\n",
    "dip_grp = stagec[dip_idx, :Gleason];\n",
    "\n",
    "EqualVarianceTTest(dropna(tetra_grp), dropna(dip_grp))"
   ]
  }
 ],
 "metadata": {
  "kernelspec": {
   "display_name": "Julia 0.5.0",
   "language": "julia",
   "name": "julia-0.5"
  },
  "language_info": {
   "file_extension": ".jl",
   "mimetype": "application/julia",
   "name": "julia",
   "version": "0.5.0"
  }
 },
 "nbformat": 4,
 "nbformat_minor": 0
}

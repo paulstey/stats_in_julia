{
 "cells": [
  {
   "cell_type": "markdown",
   "metadata": {},
   "source": [
    "# Solutions to Challenge Questions"
   ]
  },
  {
   "cell_type": "markdown",
   "metadata": {},
   "source": [
    "## Question 1\n",
    "Using the `stagec` dataset from the rpart package in R, find the Gleason score of oldest patient. As a hint, you may consider using the `indmax()` function."
   ]
  },
  {
   "cell_type": "code",
   "execution_count": 46,
   "metadata": {
    "collapsed": false
   },
   "outputs": [
    {
     "ename": "LoadError",
     "evalue": "LoadError: UndefVarError: datasets not defined\nwhile loading In[46], in expression starting on line 2",
     "output_type": "error",
     "traceback": [
      "LoadError: UndefVarError: datasets not defined\nwhile loading In[46], in expression starting on line 2",
      ""
     ]
    }
   ],
   "source": [
    "using RDatasets\n",
    "stagec = dataset(\"rpart\", \"stagec\")"
   ]
  },
  {
   "cell_type": "code",
   "execution_count": 47,
   "metadata": {
    "collapsed": false
   },
   "outputs": [
    {
     "data": {
      "text/plain": [
       "NA"
      ]
     },
     "execution_count": 47,
     "metadata": {},
     "output_type": "execute_result"
    }
   ],
   "source": [
    "row_idx = indmax(stagec[:Age])              # get row index for oldest patient\n",
    "stagec[row_idx, :Gleason]                   "
   ]
  },
  {
   "cell_type": "markdown",
   "metadata": {},
   "source": [
    "---"
   ]
  },
  {
   "cell_type": "markdown",
   "metadata": {},
   "source": [
    "## Question 2\n",
    "Using the `stagec` dataset, determine if patients with tetraploidy tumors have higher Gleason scores than patients with diploid tumors."
   ]
  },
  {
   "cell_type": "code",
   "execution_count": 56,
   "metadata": {
    "collapsed": false
   },
   "outputs": [
    {
     "data": {
      "text/plain": [
       "Two sample t-test (equal variance)\n",
       "----------------------------------\n",
       "Population details:\n",
       "    parameter of interest:   Mean difference\n",
       "    value under h_0:         0\n",
       "    point estimate:          0.7033295063145806\n",
       "    95% confidence interval: (0.2520598786091346,1.1545991340200266)\n",
       "\n",
       "Test summary:\n",
       "    outcome with 95% confidence: reject h_0\n",
       "    two-sided p-value:           0.0024996266792327855 (very significant)\n",
       "\n",
       "Details:\n",
       "    number of observations:   [67,65]\n",
       "    t-statistic:              3.083418932802007\n",
       "    degrees of freedom:       130\n",
       "    empirical standard error: 0.22810053438811873\n"
      ]
     },
     "execution_count": 56,
     "metadata": {},
     "output_type": "execute_result"
    }
   ],
   "source": [
    "using RDatasets\n",
    "using HypothesisTests\n",
    "\n",
    "stagec = dataset(\"rpart\", \"stagec\")\n",
    "\n",
    "# get row indices\n",
    "tetra_idx = find(stagec[:Ploidy] .== \"tetraploid\");\n",
    "dip_idx = find(stagec[:Ploidy] .== \"diploid\");\n",
    "\n",
    "# get Gleason scores\n",
    "tetra_grp = stagec[tetra_idx, :Gleason];\n",
    "dip_grp = stagec[dip_idx, :Gleason];\n",
    "\n",
    "EqualVarianceTTest(dropna(tetra_grp), dropna(dip_grp))"
   ]
  },
  {
   "cell_type": "markdown",
   "metadata": {},
   "source": [
    "---"
   ]
  },
  {
   "cell_type": "markdown",
   "metadata": {},
   "source": [
    "## Question 3\n",
    "Create a plot to check the assumption of normality of error terms for model `fm3`."
   ]
  },
  {
   "cell_type": "code",
   "execution_count": 49,
   "metadata": {
    "collapsed": false,
    "scrolled": true
   },
   "outputs": [
    {
     "data": {
      "text/html": [
       "<table class=\"data-frame\"><tr><th></th><th>PgTime</th><th>PgStat</th><th>Age</th><th>EET</th><th>G2</th><th>Grade</th><th>Gleason</th><th>Ploidy</th></tr><tr><th>1</th><td>6.1</td><td>0</td><td>64</td><td>2</td><td>10.26</td><td>2</td><td>4</td><td>diploid</td></tr><tr><th>2</th><td>9.4</td><td>0</td><td>62</td><td>1</td><td>NA</td><td>3</td><td>8</td><td>aneuploid</td></tr><tr><th>3</th><td>5.2</td><td>1</td><td>59</td><td>2</td><td>9.99</td><td>3</td><td>7</td><td>diploid</td></tr><tr><th>4</th><td>3.2</td><td>1</td><td>62</td><td>2</td><td>3.57</td><td>2</td><td>4</td><td>diploid</td></tr><tr><th>5</th><td>1.9</td><td>1</td><td>64</td><td>2</td><td>22.56</td><td>4</td><td>8</td><td>tetraploid</td></tr><tr><th>6</th><td>4.8</td><td>0</td><td>69</td><td>1</td><td>6.14</td><td>3</td><td>7</td><td>diploid</td></tr><tr><th>7</th><td>5.8</td><td>0</td><td>75</td><td>2</td><td>13.69</td><td>2</td><td>NA</td><td>tetraploid</td></tr><tr><th>8</th><td>7.3</td><td>0</td><td>71</td><td>2</td><td>NA</td><td>3</td><td>7</td><td>aneuploid</td></tr><tr><th>9</th><td>3.7</td><td>1</td><td>73</td><td>2</td><td>11.77</td><td>3</td><td>6</td><td>diploid</td></tr><tr><th>10</th><td>15.9</td><td>0</td><td>64</td><td>2</td><td>27.27</td><td>3</td><td>7</td><td>tetraploid</td></tr><tr><th>11</th><td>6.3</td><td>0</td><td>65</td><td>2</td><td>19.34</td><td>3</td><td>7</td><td>tetraploid</td></tr><tr><th>12</th><td>2.9</td><td>1</td><td>58</td><td>2</td><td>14.82</td><td>4</td><td>8</td><td>tetraploid</td></tr><tr><th>13</th><td>1.5</td><td>1</td><td>70</td><td>2</td><td>10.22</td><td>3</td><td>8</td><td>diploid</td></tr><tr><th>14</th><td>14.5</td><td>0</td><td>67</td><td>2</td><td>15.66</td><td>2</td><td>6</td><td>tetraploid</td></tr><tr><th>15</th><td>4.2</td><td>1</td><td>66</td><td>2</td><td>17.79</td><td>3</td><td>7</td><td>tetraploid</td></tr><tr><th>16</th><td>1.7</td><td>1</td><td>74</td><td>2</td><td>11.11</td><td>3</td><td>8</td><td>diploid</td></tr><tr><th>17</th><td>5.0</td><td>0</td><td>70</td><td>2</td><td>11.44</td><td>2</td><td>5</td><td>diploid</td></tr><tr><th>18</th><td>13.2</td><td>0</td><td>57</td><td>2</td><td>14.78</td><td>2</td><td>4</td><td>tetraploid</td></tr><tr><th>19</th><td>10.9</td><td>0</td><td>63</td><td>2</td><td>54.93</td><td>3</td><td>8</td><td>tetraploid</td></tr><tr><th>20</th><td>13.0</td><td>0</td><td>65</td><td>2</td><td>24.58</td><td>3</td><td>7</td><td>tetraploid</td></tr><tr><th>21</th><td>11.4</td><td>0</td><td>62</td><td>2</td><td>27.79</td><td>2</td><td>5</td><td>tetraploid</td></tr><tr><th>22</th><td>2.6</td><td>1</td><td>72</td><td>2</td><td>14.86</td><td>3</td><td>6</td><td>tetraploid</td></tr><tr><th>23</th><td>9.8</td><td>0</td><td>64</td><td>1</td><td>10.51</td><td>2</td><td>5</td><td>diploid</td></tr><tr><th>24</th><td>3.4</td><td>1</td><td>67</td><td>NA</td><td>14.22</td><td>2</td><td>6</td><td>tetraploid</td></tr><tr><th>25</th><td>7.6</td><td>1</td><td>64</td><td>2</td><td>15.28</td><td>2</td><td>5</td><td>tetraploid</td></tr><tr><th>26</th><td>4.8</td><td>1</td><td>70</td><td>2</td><td>16.91</td><td>3</td><td>6</td><td>tetraploid</td></tr><tr><th>27</th><td>3.7</td><td>1</td><td>58</td><td>1</td><td>17.87</td><td>3</td><td>7</td><td>tetraploid</td></tr><tr><th>28</th><td>13.9</td><td>0</td><td>57</td><td>2</td><td>12.13</td><td>3</td><td>6</td><td>diploid</td></tr><tr><th>29</th><td>4.9</td><td>1</td><td>54</td><td>1</td><td>17.25</td><td>2</td><td>5</td><td>tetraploid</td></tr><tr><th>30</th><td>15.9</td><td>0</td><td>61</td><td>1</td><td>16.53</td><td>3</td><td>7</td><td>tetraploid</td></tr><tr><th>&vellip;</th><td>&vellip;</td><td>&vellip;</td><td>&vellip;</td><td>&vellip;</td><td>&vellip;</td><td>&vellip;</td><td>&vellip;</td><td>&vellip;</td></tr></table>"
      ],
      "text/plain": [
       "146×8 DataFrames.DataFrame\n",
       "│ Row │ PgTime │ PgStat │ Age │ EET │ G2    │ Grade │ Gleason │ Ploidy       │\n",
       "├─────┼────────┼────────┼─────┼─────┼───────┼───────┼─────────┼──────────────┤\n",
       "│ 1   │ 6.1    │ 0      │ 64  │ 2   │ 10.26 │ 2     │ 4       │ \"diploid\"    │\n",
       "│ 2   │ 9.4    │ 0      │ 62  │ 1   │ NA    │ 3     │ 8       │ \"aneuploid\"  │\n",
       "│ 3   │ 5.2    │ 1      │ 59  │ 2   │ 9.99  │ 3     │ 7       │ \"diploid\"    │\n",
       "│ 4   │ 3.2    │ 1      │ 62  │ 2   │ 3.57  │ 2     │ 4       │ \"diploid\"    │\n",
       "│ 5   │ 1.9    │ 1      │ 64  │ 2   │ 22.56 │ 4     │ 8       │ \"tetraploid\" │\n",
       "│ 6   │ 4.8    │ 0      │ 69  │ 1   │ 6.14  │ 3     │ 7       │ \"diploid\"    │\n",
       "│ 7   │ 5.8    │ 0      │ 75  │ 2   │ 13.69 │ 2     │ NA      │ \"tetraploid\" │\n",
       "│ 8   │ 7.3    │ 0      │ 71  │ 2   │ NA    │ 3     │ 7       │ \"aneuploid\"  │\n",
       "│ 9   │ 3.7    │ 1      │ 73  │ 2   │ 11.77 │ 3     │ 6       │ \"diploid\"    │\n",
       "│ 10  │ 15.9   │ 0      │ 64  │ 2   │ 27.27 │ 3     │ 7       │ \"tetraploid\" │\n",
       "│ 11  │ 6.3    │ 0      │ 65  │ 2   │ 19.34 │ 3     │ 7       │ \"tetraploid\" │\n",
       "⋮\n",
       "│ 135 │ 6.0    │ 0      │ 52  │ 2   │ 9.9   │ 2     │ 4       │ \"diploid\"    │\n",
       "│ 136 │ 5.4    │ 0      │ 68  │ 2   │ 13.01 │ 2     │ 5       │ \"diploid\"    │\n",
       "│ 137 │ 2.4    │ 0      │ 63  │ 2   │ 4.81  │ 3     │ 8       │ \"diploid\"    │\n",
       "│ 138 │ 4.2    │ 0      │ 67  │ 2   │ 14.71 │ 2     │ 5       │ \"tetraploid\" │\n",
       "│ 139 │ 5.5    │ 0      │ 59  │ 1   │ 9.01  │ 2     │ 5       │ \"diploid\"    │\n",
       "│ 140 │ 5.4    │ 0      │ 57  │ 1   │ 10.9  │ 3     │ 6       │ \"diploid\"    │\n",
       "│ 141 │ 8.2    │ 0      │ 62  │ 2   │ 10.72 │ 3     │ 7       │ \"diploid\"    │\n",
       "│ 142 │ 10.2   │ 0      │ 63  │ 2   │ 5.14  │ 2     │ 5       │ \"diploid\"    │\n",
       "│ 143 │ 2.5    │ 1      │ 73  │ 2   │ 46.92 │ 4     │ 9       │ \"tetraploid\" │\n",
       "│ 144 │ 7.9    │ 0      │ 68  │ 2   │ NA    │ 2     │ 5       │ \"aneuploid\"  │\n",
       "│ 145 │ 5.6    │ 0      │ 51  │ 2   │ 9.59  │ 3     │ 6       │ \"diploid\"    │\n",
       "│ 146 │ 2.1    │ 1      │ 56  │ 2   │ 9.01  │ 3     │ 7       │ \"diploid\"    │"
      ]
     },
     "execution_count": 49,
     "metadata": {},
     "output_type": "execute_result"
    }
   ],
   "source": [
    "using Plots\n",
    "using GLM\n",
    "using RDatasets\n",
    "\n",
    "pyplot()\n",
    "\n",
    "stagec = dataset(\"rpart\", \"stagec\")"
   ]
  },
  {
   "cell_type": "code",
   "execution_count": 50,
   "metadata": {
    "collapsed": false,
    "scrolled": true
   },
   "outputs": [
    {
     "data": {
      "text/plain": [
       "DataFrames.DataFrameRegressionModel{GLM.LinearModel{GLM.LmResp{Array{Float64,1}},GLM.DensePredQR{Float64}},Array{Float64,2}}\n",
       "\n",
       "Formula: G2 ~ 1 + Age + Gleason + Grade\n",
       "\n",
       "Coefficients:\n",
       "             Estimate Std.Error  t value Pr(>|t|)\n",
       "(Intercept)  -9.19135   8.15383 -1.12724   0.2617\n",
       "Age          0.178597  0.117116  1.52496   0.1297\n",
       "Gleason       1.76439  0.872139  2.02306   0.0451\n",
       "Grade        0.472942   1.99455 0.237116   0.8129\n"
      ]
     },
     "execution_count": 50,
     "metadata": {},
     "output_type": "execute_result"
    }
   ],
   "source": [
    "fm3 = lm(G2 ~ 1 + Age + Gleason + Grade, stagec)"
   ]
  },
  {
   "cell_type": "code",
   "execution_count": 51,
   "metadata": {
    "collapsed": false
   },
   "outputs": [
    {
     "data": {
      "text/plain": [
       "136-element Array{Float64,1}:\n",
       "   0.0177294\n",
       "  -5.1254   \n",
       "  -6.31508  \n",
       "   4.31429  \n",
       " -10.7614   \n",
       "  -4.08136  \n",
       "  11.2616   \n",
       "   3.15302  \n",
       "  -2.35413  \n",
       "  -8.62435  \n",
       "   1.35316  \n",
       "   1.42443  \n",
       "  -8.44874  \n",
       "   ⋮        \n",
       "  -3.4254   \n",
       "   1.80089  \n",
       "   0.288953 \n",
       " -12.7842   \n",
       "   2.16755  \n",
       "  -2.10368  \n",
       "  -2.09382  \n",
       "  -4.93119  \n",
       "  -6.68806  \n",
       "  25.3025   \n",
       "  -2.33224  \n",
       "  -5.56961  "
      ]
     },
     "execution_count": 51,
     "metadata": {},
     "output_type": "execute_result"
    }
   ],
   "source": [
    "resid = residuals(fm3)"
   ]
  },
  {
   "cell_type": "code",
   "execution_count": 52,
   "metadata": {
    "collapsed": false,
    "scrolled": false
   },
   "outputs": [
    {
     "data": {
      "text/html": [
       "<img src=\"data:image/png;base64,iVBORw0KGgoAAAANSUhEUgAAAlgAAAGQCAYAAAByNR6YAAAABHNCSVQICAgIfAhkiAAAAAlwSFlzAAAPYQAAD2EBqD+naQAAIABJREFUeJzt3W1s1fX9//E3UCkUuYY6RQ4tW1BGxsXBi3WaqdxoJ1tOUEdIVcLa6CSjDdyw1WTJv5BNYxtmRmijLqnEq7VVl1UTN2HxKtR5g3G8uNOODa01TKCVHVxWWlr4/m/8RqXtFyif8zn9vL+f83wkJOPYfs/r7OUHXran50wIgiAQAAAAWDPRdQAAAADfMLAAAAAsy8nkxXt6emTv3r1SUFAgU6dOzeRdAQAAOHHq1Cnp7OyUkpISmTdvnohkeGDt3btX7r///kzeBQAAgAovvvii3HfffSKS4YFVUFAwdIdLly7N5F1lvW3btslvf/tb1zGcaO/5j/zn9GBa15h2xSRZNn+GpUTfyOZeNKMXfehEJ3oZm/b2drn//vuHdo9IhgfWuW8LLl26VOLxeCbvKuvNmjUra/8/TnV2y9T+9AbWrNwciRfMt5TovOtmcS+a0Ys+dKITvVye858OxZPcPXH69GnXERCCXnSiF33oRCd6MZfRr2Bh/Hz00UeuIyAEvehEL/rQiU7p9tLV1SU9PT2W0ugxb948icViF/0YBpYnrrvuOtcREIJedKIXfehEp3R66erqkqVLl0pvb6/FRDrk5eVJe3v7RUcWA8sTmzdvdh0BIehFJ3rRh050SqeXnp4e6e3t9e4H3c49ob2np4eBlQ1KS0tdR0AIetGJXvShE51s9JKtP+jGk9wBAAAsY2B5orGx0XUEhKAXnehFHzrRiV7MMbA8kUwmXUdACHrRiV70oROdsqWXzz//XO644w6rr/vFc7A80dDQ4DoCQtCLTvSiD53olIlekkdT8nWaLw59vhm5ORL/1qz0rjFjhjz22GNy8uRJ+eUvf2klFwMLAACMm6/7B+VE34CT+/7Nb34jhw4dkmeeeUZERE6ePCnf+c535B//+If84Ac/kPfee8/affEtQgAAkBUeeOABee211+Trr78WEZE9e/bIunXrZNas9L4CFoaBBQAAssLMmTPlpz/9qTz77LMiIvLUU09JRUVFRu6LgeWJRCLhOgJC0ItO9KIPnejkYy+VlZXy1FNPyZtvvin5+fmyYsWKjNwPz8HyRKYWONJDLzrRiz50olMmepmRa3d6XO71rrvuOlm8eLH8/Oc/l507dw77Z0EQSBAEVnIxsDxRXFzsOgJC0ItO9KIPneiUiV7S/Yk/Gx588EGprKyUe+65R0RETp06JUuWLJHTp0/LyZMnJRaLycaNG+Wxxx4zvg8GFgAAyCrvvPOO/OIXv5BJkyaJiMjUqVPliy++sHofDCwAAJAVvvzyS1mzZo3MnTtX9u7dm9H74knunmhtbXUdASHoRSd60YdOdPKtl6uvvlra29ulra1Npk2bltH7YmB5oqmpyXUEhKAXnehFHzrRiV7MMbA80dLS4joCQtCLTvSiD53oRC/meA4WAADImPb2dtcRrBrr42FgAQAA6+bNmyd5eXly//33u45iXV5ensybN++iH8PAAgAA1sViMWlvb5eenh7XUaybN2+exGKxi34MA8sTZWVlsmfPHtcxMAK96EQv+tCJTun2EovFLjlEfMWT3D3BqyDrRC860Ys+dKITvZhjYHmitLTUdQSEoBed6EUfOtGJXswxsAAAACxjYAEAAFjGwPJEW1ub6wgIQS860Ys+dKITvZhjYHmirq7OdQSEoBed6EUfOtGJXswxsDzR3NzsOgJC0ItO9KIPnehEL+YYWJ7Iy8tzHQEh6EUnetGHTnSiF3MMLAAAAMsYWAAAAJYxsDxRVVXlOgJC0ItO9KIPnehEL+YYWJ7I1vd60o5edKIXfehEJ3oxNyEIgiBTF08mk7J69Wo5ePCgxOPxTN0Nstzbnd2S6h9M6xqzcnNkTcF8S4kAANkkbO/wFSwAAADLGFgAAACWMbA80dHR4ToCQtCLTvSiD53oRC/mGFieqK6udh0BIehFJ3rRh050ohdzDCxP1NfXu46AEPSiE73oQyc60Ys5BpYn+FFanehFJ3rRh050ohdzDCwAAADLGFgAAACWMbA8UVtb6zoCQtCLTvSiD53oRC/mGFie6O3tdR0BIehFJ3rRh050ohdzvFUOIo+3ygEAuMRb5QAAAIwDBhYAAIBlDCxP9PT0uI6AEPSiE73oQyc60Ys5BpYnysvLXUdACHrRiV70oROd6MUcA8sT27dvdx0BIehFJ3rRh050ohdzDCxP8FOaOtGLTvSiD53oRC/mGFgAAACWhQ6s/v5+ueuuu+T666+XVatWSUlJiRw+fFhERLq7u+XOO++UJUuWyPLly2X//v3jGhgAAEC7C34F66GHHpKOjg758MMPJZFIyAMPPCAiIo888ogUFRXJoUOH5Nlnn5V7771Xzpw5M26BEa6xsdF1BISgF53oRR860YlezIUOrNzcXPnRj3409Pvvf//78vnnn4uIyCuvvCKbN28WEZEbbrhBFixYIO+99944RMXFJJNJ1xEQgl50ohd96EQnejE3pudg7dq1S9atWycnTpyQwcFByc/PH/pnixYtkq6urowFxNg0NDS4joAQ9KITvehDJzrRi7mcS33A448/LocPH5bf/e53vOkjAADAGFz0K1g7d+6U1tZWefPNN2XKlCkyZ84cycnJkePHjw99TGdnp8RisYveydq1ayWRSAz7VVRUJK2trcM+bt++fZJIJEZ9/pYtW0Z9HziZTEoikRj1KrM1NTVSW1s77Lauri5JJBLS0dEx7Pbdu3dLVVXVsNt6e3slkUhIW1vbsNubmpqkrKxsVLYNGzbwOBw9jky8Pkt7ezt98Dh4HDwOHgeP44KPo6mpSQoLC2XlypVDm2bbtm2jrjchCIJg1K0i8uSTT8rvf/97eeutt2TmzJlDt5eXl8uiRYukpqZGDhw4IHfffbd0dnbKpEmTRl0j7N2lAdve7uyWVP9gWteYlZsjawrmW0oEAMgmYXsn9CtYR44ckYcfflhOnjwpd9xxh6xatUqKiopEROSJJ56Qv/71r7JkyRIpLy+Xl156KXRcYXyF/ZcC3KMXnehFHzrRiV7MhT4Ha8GCBXL27NnQT8jPz5e9e/dmNBQuX0VFhesICEEvOtGLPnSiE72Y45XcPVFcXOw6AkLQi070og+d6EQv5hhYAAAAljGwAAAALGNgeWLkj5ZCB3rRiV70oROd6MUcA8sTTU1NriMgBL3oRC/60IlO9GKOgeWJlpYW1xEQgl50ohd96EQnejHHwAIAALCMgQUAAGAZAwsAAMAyBpYnwt64Eu7Ri070og+d6EQv5hhYnuDVdnWiF53oRR860YlezDGwPFFaWuo6AkLQi070og+d6EQv5hhYAAAAljGwAAAALGNgeaKtrc11BISgF53oRR860YlezDGwPFFXV+c6AkLQi070og+d6EQv5hhYnmhubnYdASHoRSd60YdOdKIXcwwsT+Tl5bmOgBD0ohO96EMnOtGLOQYWAACAZQwsAAAAyxhYnqiqqnIdASHoRSd60YdOdKIXcwwsT8RiMdcREIJedKIXfehEJ3oxNyEIgiBTF08mk7J69Wo5ePCgxOPxTN0Nstzbnd2S6h9M6xqzcnNkTcF8S4kAANkkbO/wFSwAAADLGFgAAACWMbA80dHR4ToCQtCLTvSiD53oRC/mGFieqK6udh0BIehFJ3rRh050ohdzDCxP1NfXu46AEPSiE73oQyc60Ys5BpYn+FFanehFJ3rRh050ohdzDCwAAADLGFgAAACWMbA8UVtb6zoCQtCLTvSiD53oRC/mGFie6O3tdR0BIehFJ3rRh050ohdzvFUOIo+3ygEAuMRb5QAAAIwDBhYAAIBlDCxP9PT0uI6AEPSiE73oQyc60Ys5BpYnysvLXUdACHrRiV70oROd6MUcA8sT27dvdx0BIehFJ3rRh050ohdzDCxP8FOaOtGLTvSiD53oRC/mGFgAAACWMbAAAAAsY2B5orGx0XUEhKAXnehFHzrRiV7MMbA8kUwmXUdACHrRiV70oROd6MUcb5UDJ5JHU5LqG0jrGldNy5Vl82fwVjkAAKfC9k6O40zIUqm+gbRH0ZWT+dcXAKAT3yIEAACwjIEFAABgGQPLE4lEwnUEhKAXnehFHzrRiV7MMbA8UVFR4ToCQtCLTvSiD53oRC/mGFieKC4udh0BIehFJ3rRh050ohdzDCwAAADLGFgAAACWMbA80dra6joCQtCLTvSiD53oRC/mGFieaGpqch0BIehFJ3rRh050ohdzDCxPtLS0uI6AEPSiE73oQyc60Ys5BhYAAIBlDCwAAADLGFhABARB4DoCAOAy5LgOADvKyspkz549rmNghOTRlKT6BtK6xvTJOXLjNbMtJYII50UjOtGJXswxsDzBq+3qlOobkFT/oOsYGIHzog+d6EQv5vgWoSdKS0tdRwAig/OiD53oRC/mGFgAAACWMbAAAAAsY2B5oq2tzXUEIDI4L/rQiU70Yo6B5Ym6ujrXEYDI4LzoQyc60Ys5BpYnmpubXUcAIoPzog+d6EQv5hhYnsjLy3MdAYgMzos+dKITvZhjYAEAAFgWOrC2bt0qhYWFMnHiRPnkk0+Gbr/99ttl8eLFEo/HJR6Py65du8YtKAAAQFSEDqz169fL+++/LwUFBcNunzBhguzatUuSyaQkk0nZunXreGTEGFRVVbmOAEQG50UfOtGJXsyFvlXOrbfeKiLhbzB79uzZzCaCkVgs5joCEBmcF33oRCd6MXfZz8F65JFHZMWKFVJaWiqfffZZJjLBQGVlpesIQGRwXvShE53oxdxlDawXX3xROjo65OOPP5Zbb71VfvKTn2QqFwAAQGRd1sBasGDB0P/esmWLfPrpp/Lvf//7kp+3du1aSSQSw34VFRVJa2vrsI/bt2+fJBKJUZ+/ZcsWaWxsHHZbMpmURCIhPT09w26vqamR2traYbd1dXVJIpGQjo6OYbfv3r171PeXe3t7JZFIjHr12qamJikrKxuVbcOGDTyOy3wcGk2epP8Haj/44AP+veJx8Dh4HDwOx4+jqalJCgsLZeXKlUObZtu2baOuNyEIe6LV/xQWFsprr70my5cvlzNnzshXX30l+fn5IiLyhz/8QR5++OGLfpswmUzK6tWr5eDBgxKPxy/4cUhfR0eHXH/99a5jjNnbnd2S6h9M6xrXTp8iN10z2+q1kkdTkuobSOtaIiJXTcuVZfNnWMk2KzdH1hTMTzsTvhG185IN6EQnehmbsL0T+p/tmzdvloULF8qRI0ekpKRElixZIqdPn5Yf//jHsmLFClm5cqU8/fTT8vrrr4/rA8CFVVdXu47ghVTfgKT6B9P+9d+BM64fCi6C86IPnehEL+ZCf4rw6aefDv3gAwcOZDQMzNXX17uOAEQG50UfOtGJXszpf+IJxoQfpQXGjvOiD53oRC/mGFgAAACWMbAAAAAsY2B5IgovhQBowXnRh050ohdzDCxP9Pb2uo4ARAbnRR860YlezDGwPLFjxw7XEYDI4LzoQyc60Ys5BhYAAIBlDCwAAADLGFieGPkeTgAujPOiD53oRC/mGFieKC8vdx0BiAzOiz50ohO9mGNgeWL79u2uIwCRwXnRh050ohdzDCxPnHv3bgCXxnnRh050ohdzDCwAAADLclwHQHQkj6Yk1TeQ1jWumpYry+bPsJQIAACd+AqWJxobGzN+H6m+AUn1D6b1678DZzKeE7iU8TgvuDx0ohO9mGNgeSKZTLqOAEQG50UfOtGJXswxsDzR0NDgOgIQGZwXfehEJ3oxx8ACAACwjIEFAABgGQMLAADAMgaWJxKJhOsIQGRwXvShE53oxRwDyxMVFRWuIwCRwXnRh050ohdzDCxPFBcXu44ARAbnRR860YlezDGwAAAALGNgAQAAWMbA8kRra6vrCEBkcF70oROd6MUcA8sTTU1NriMAkcF50YdOdKIXcwwsT7S0tLiOAEQG50UfOtGJXswxsAAAACxjYAEAAFjGwAIAALCMgeWJsrIy1xGAyOC86EMnOtGLOQaWJ3i1XWDsOC/60IlO9GKOgeWJ0tJS1xGAyOC86EMnOtGLOQYWAACAZQwsAAAAyxhYnmhra3MdAYgMzos+dKITvZhjYHmirq7OdQQgMjgv+tCJTvRijoHliebmZtcRgMjgvOhDJzrRizkGlify8vJcRwAig/OiD53oRC/mGFgAAACWMbAAAAAsY2B5oqqqynUEIDI4L/rQiU70Yo6B5YlYLOY6AhAZnBd96EQnejHHwPJEZWWl6whAZHBe9KETnejFHAMLAADAMgYWAACAZQwsT3R0dLiOAEQG50UfOtGJXswxsDxRXV3tOgIQGZwXfehEJ3oxx8DyRH19vesIQGRwXvShE53oxRwDyxP8KC0wdpwXfehEJ3oxx8ACAACwjIEFAABgGQPLE7W1ta4jAJHBedGHTnSiF3MMLE/09va6jgBEBudFHzrRiV7MMbA8sWPHDtcRgMjgvOhDJzrRizkGFgAAgGUMLAAAAMsYWJ7o6elxHQGIDM6LPnSiE72YY2B5ory83HUEIDI4L/rQiU70Yo6B5Ynt27e7jgBEBudFHzrRiV7MMbA8EY/HXUcAIoPzog+d6EQv5hhYAAAAljGwAAAALGNgeaKxsdF1BCAyOC/60IlO9GKOgeWJZDLpOgIQGZwXfehEJ3oxx8DyRENDg+sIQGRwXvShE53oxRwDCwAAwDIGFgAAgGUMLAAAAMtCB9bWrVulsLBQJk6cKJ988snQ7d3d3XLnnXfKkiVLZPny5bJ///5xC4qLSyQSriMAkcF50YdOdKIXc6EDa/369fL+++9LQUHBsNsfffRRKSoqkkOHDsmzzz4r9957r5w5c2Y8cuISKioqXEcAIoPzog+d6EQv5nLCbrz11ltFRCQIgmG3v/zyy3L48GEREbnhhhtkwYIF8t5778maNWsyHBOXUlxc7DoCEBmcF33oRCd6MTfm52CdOHFCBgcHJT8/f+i2RYsWSVdXV0aCAQAARBVPcgcAALBszANrzpw5kpOTI8ePHx+6rbOzU2Kx2CU/d+3atZJIJIb9KioqktbW1mEft2/fvtAn1G3ZsmXUy/Unk0lJJBLS09Mz7Paamhqpra0ddltXV5ckEgnp6OgYdvvu3bulqqpq2G29vb2SSCSkra1t2O1NTU1SVlY2KtuGDRtUPI5169aN2+OAGx988AHnw9LjaGlp8eJx+NJHb2+v3HTTTV48Dl/6OPc4zs8X5cdxvnQfR1NTkxQWFsrKlSuHNs22bdtGXW9CMPKJVucpLCyU1157TZYvXy4iIuXl5bJo0SKpqamRAwcOyN133y2dnZ0yadKk0M9PJpOyevVqOXjwoMTj8QvdDSzYsGGDtLS0ZPQ+3u7sllT/YFrXuHb6FLnpmtleX8v29Wbl5siagvlpZ8I3xuO84PLQiU70MjZheyf0Se6bN2+WN954Q44dOyYlJSUyffp0OXTokDzxxBOyceNGWbJkieTm5spLL710wXGF8cUBAMaO86IPnehEL+ZCB9bTTz8d+sH5+fmyd+/ejAYCAACIOp7kDgAAYBkDCwAAwDIGlifCfiICQDjOiz50ohO9mGNgeYJX2wXGjvOiD53oRC/mGFieKC0tdR0BiAzOiz50ohO9mGNgAQAAWMbAAgAAsIyB5YmRbwUA4MI4L/rQiU70Yo6B5Ym6ujrXEYDI4LzoQyc60Ys5BpYnmpubXUcAIoPzog+d6EQv5hhYnsjLy3MdAYgMzos+dKITvZhjYAFQIQgC1xEAwJrQN3sGgLFKHk1Jqm8grWtMn5wjN14z21IiAHCPr2B5oqqqynUEZKlU34Ck+gfT+vWf04Pjmpnzog+d6EQv5hhYnojFYq4jAJHBedGHTnSiF3MMLE9UVla6jgBEBudFHzrRiV7MMbAAAAAsY2ABAABYxsDyREdHh+sIQGRwXvShE53oxRwDyxPV1dWuIwCRwXnRh050ohdzDCxP1NfXu44ARAbnRR860YlezDGwPMGP0gJjx3nRh050ohdzDCwAAADLGFgAAACWMbA8UVtb6zoCEBmcF33oRCd6McfA8kRvb6/rCEBkcF70oROd6MUcA8sTO3bscB0BiAzOiz50ohO9mGNgAcpNnsQxBYCoyXEdAMDFnRtYyaMpSfUNpHWtq6blyrL5M6xeCwAwGgPLEz09PTJv3jzXMZBBqb4BSfUPpnWNKyfnWL9WFHFe9KETnejFHN978ER5ebnrCEBkcF70oROd6MUcA8sT27dvdx0BiAzOiz50ohO9mGNgeSIej7uOAEQG50UfOtGJXswxsAAAACxjYAEAAFjGwPJEY2Oj6whAZHBe9KETnejFHAPLE8lk0nUEIDI4L/rQiU70Yo6B5YmGhgbXEYDI4LzoQyc60Ys5BhYAAIBlDCwAAADLGFgAAACWMbA8kUgkXEcAIoPzog+d6EQv5hhYnqioqHAdAYgMzos+dKITvZhjYHmiuLjYdQQgMjgv+tCJTvRijoEFAABgGQMLAADAMgaWJ1pbW11HACKD86IPnehEL+YYWJ5oampyHQGIDM6LPnSiE72YY2B5oqWlxXUEIDI4L/rQiU70Yo6BBQAAYBkDCwAAwDIGFgAAgGUMLE+UlZW5jgBEBudFHzrRiV7MMbA8wavtAmPHedGHTnSiF3MMLE+Ulpa6jgBEBudFHzrRiV7MMbAAAAAsY2ABAABYxsDyRFtbm+sIQGRwXvShE53oxRwDyxN1dXWuIwCRwXnRh050ohdzDCxPNDc3u44ARAbnRR860YlezDGwPJGXl+c6AhAZnBd96EQnejHHwAIAALCMgQUAAGAZA8sTVVVVriMAkcF50YdOdKIXcwwsT8RiMdcRgMjgvOhDJzrRizkGlicqKytdRwAig/OiD53oRC/mGFgAAACWMbAAAAAsY2B5oqOjw3UEIDI4L/rQiU70Ys5oYBUUFMjSpUtl1apVEo/H5ZVXXrGdC5epurradQQgMjgv+tCJTvRiLsfkkyZOnCgvv/yyfO9737OdB4bq6+tdRwAig/OiD53oRC/mjL6CFQSBBEFgOwvSwI/SAmPHedGHTnSiF3PGz8HauHGjrFixQh588EHp6emxmQkAACDSjAbW/v375eOPP5ZkMilz586VTZs22c4FAAAQWUYD69prrxURkUmTJsm2bdukra3toh+/du1aSSQSw34VFRVJa2vrsI/bt2+fJBKJUZ+/ZcsWaWxsHHZbMpmURCIx6qtnNTU1UltbO+y2rq4uSSQSo34aYvfu3aPeBqC3t1cSicSox9TU1CRlZWWjsm3YsCEjj8OG/v7TcuDAgWG32XgcQKaM/HcwU+f8V7/6lYpz7sufVzYex3e/+10vHocvfZx7HOdfJ8qP43zpPo6mpiYpLCyUlStXDm2abdu2jbrehOAyn0zV29srAwMDMnPmTBERefLJJ+X111+Xd999d9THJpNJWb16tRw8eFDi8fjl3E1WSx5NSapvIK1rTJ+cIzdeM9tSov/zdme3pPoH07rGtdOnyE3XzPb6Wpqzab3WrNwcWVMwP61rXI6amhrZsWPHuN0fLo1OdKKXsQnbO5f9U4THjh2Te+65R86ePStBEMjixYvl+eeftx42m6X6Bqz8JQ8gHH9h6EMnOtGLucseWIWFhZJMJjORBQAAwAu8kjsAAIBlDCwAWYeXltGHTnSiF3MMLABZp7y83HUEjEAnOtGLOQYWgKyzfft21xEwAp3oRC/mGFgAsg4vG6MPnehEL+YYWAAAAJYxsAAAACxjYAHIOiPfqgPu0YlO9GKOgQUg6/BiyfrQiU70Yo6BBSDrNDQ0uI6AEehEJ3oxx8ACAACwjIEFAABgGQPLU5MnUS0AAK7kuA6AzDg3sJJHU5LqG0jrWldNy5Vl82fYiAWokEgk5PXXX3cdA+ehE53oxRwDy3OpvgFJ9Q+mdY0rJ/OvCfxSUVHhOgJGoBOd6MUc30cCkHWKi4tdR8AIdKITvZhjYAEAAFjGwAIAALCMgQUg67S2trqOgBHoRCd6McfAApB1mpqaXEfACHSiE72YY2AByDotLS2uI2AEOtGJXswxsAAAACxjYAEAAFjGwAIAALCMgQUg65SVlbmOgBHoRCd6McfAApB1eHVqfehEJ3oxx8ACkHVKS0tdR8AIdKITvZhjYAEAAFjGwAIAALCMgQUg67S1tbmOgBHoRCd6McfAApB16urqXEfACHSiE72YY2AByDrNzc2uI2AEOtGJXswxsABknby8PNcRMAKd6EQv5hhYAAAAljGwAAAALGNgAcg6VVVVriNgBDrRiV7MMbAAZJ1YLOY6AkagE53oxRwDC0DWqaysdB0BI9CJTvRijoEFAABgGQMLAADAMgYWgKzT0dHhOgJGoBOd6MUcAwtA1qmurnYdASPQiU70Yo6BBSDrPPPMM64jYIT6+nrXERCCXswxsAA4N3nS+P5RdPXVV4/r/Z0TBIGT+70UDbky/XIAGh5jFPEyDeZyXAcAgHMDK3k0Jam+gbSuddW0XFk2f4a6a02fnCM3XjM7rWuMpDWXTdnwGOEnBhYANVJ9A5LqH0zrGldOzlF5rUzQmsumbHiM8BPfIgQAOFdbW+s6AkLQizkGFgDAud7eXtcREIJezDGwAADO7dixw3UEhKAXcwwsAAAAyxhYAAAAljGwAADO9fT0uI6AEPRijoEFAHCuvLzcdQSEoBdzDCwAgHPbt293HQEh6MUcAwsA4Fw8HncdASHoxRwDCwAAwDIGFgAAgGUMLACAc42Nja4jIAS9mGNgAQCc6+7udh0BIZLJpOsIkRWpgRUEgesIAIAMePTRRzN27cmTdP9Vp/nvtoaGBtcRIitnPO6kvec/kupM779Opk/OkRuvmW0pkX3JoylJ9Q2kdY2rpuXKsvkzLCUCADe0/Xl4bmDZyCXyTTYb19P+d1s2sNHjke6vR902LgPrP6cHZWoXpUIXAAAFIElEQVT/4HjclTOpvgFJpfkYr5w8LnUAQEZp/fPQRi6Rb7LZuh7cstHjfwfOjLpN99dNAQAAIoiBBQAAQiUSCdcRIouBBQAAQlVUVLiOEFkMLAAAEKq4uNh1hMhiYAEAAFjGwAIAALCMgQUAAEK1tra6jhBZDCwAABCqtrbWdYTIMhpY//znP+WWW26R6667Tm6++WZpb2+3nQsAADg2f/581xEiy2hgPfTQQ7J582b5+9//LtXV1bJp0ybbuQAAACLrsgdWd3e3HDx4UO677z4REbnnnnvkiy++kE8//dR6OAAAgCi67IH1xRdfyNVXXy0TJ37zqbFYTLq6uqwGAwAAiKqMvrvwqVOnRESku/Nw2tf67xWTJHnCzjurZ8KR7q9D3+zxcpyZeoXkHL2Sa0X8WpqzcS1318rEn2E+59Lao+3raf+7bfbs2ZJMJl3HyCgbPZ7bOed2j4jBwFq4cKF8+eWXcvbs2aGvYnV1dUksFhv1sZ2dnSIi8v8qHzLJCwAAHHv++eddR4iMzs5OueWWW0TEYGDNnz9f4vG4vPDCC7Jp0yZ59dVXZeHChbJ48eJRH1tSUiIvvviiFBQUyNSpU9NPDgAAoMypU6eks7NTSkpKhm6bEARBcLkXOnTokPzsZz+Tr776SmbOnCl79uyRZcuWWQ0LAAAQVUYDCwAAABfGK7kDAABYxsCKoK1bt0phYaFMnDhRPvnkk2H/rLu7W+68805ZsmSJLF++XPbv3+8oZXbj3Q50uNBZ4Zy409/fL3fddZdcf/31smrVKikpKZHDh//vJ7Doxa2SkhJZuXKlrFq1Sm677Tb56KOPRIRejAWInP379wdHjhwJCgsLg48//njYPysvLw927NgRBEEQHDhwILj22muDwcFBFzGz2po1a4Lnn38+CIIgePXVV4Mbb7zRcaLsdKGzwjlxp6+vL/jzn/889Pv6+vrg9ttvD4IgCMrKyujFoZMnTw797z/+8Y/BihUrgiCgF1MMrAgrKCgYNbCuvPLK4NixY0O/v/nmm4O33nprvKNltePHjwczZ84Mzpw5M3Tbt771reDw4cMOU2W3kWeFc6LH3/72t6CwsDAIAnrRZM+ePUE8Hg+CgF5MZfSFRjG+Tpw4IYODg5Kfnz9026JFi3iV/XF2sXc7CHs5E4wvzokuu3btknXr1tGLEps2bZJ33nlHJkyYIH/605/oJQ08BwsA4MTjjz8uhw8flscff9x1FPzPc889J11dXfLrX/9aqqurRUQk4MUGjDCwIuCFF16QVatWSTwel+eee+6CHzdnzhzJycmR48ePD93W2dkZ+ir7yJzz3+3gnAu92wHGH+dEh507d0pra6u8+eabMmXKFHpRZuPGjfLuu++KiMgVV1xBLwYYWBGwceNG+fDDDyWZTMqmTZsu+rHr16+Xp556SkREDhw4IP/617/ktttuG4+Y+J/z3+1ARC76bgdwg3Pi1pNPPinNzc3yl7/8RaZPnz50O724c/LkSfnyyy+Hft/a2ipz586VOXPm0IshXmg0gjZv3ixvvPGGHDt2TObOnSvTp0+XQ4cOiYjI8ePHZePGjfLZZ59Jbm6uNDQ0yA9/+EPHibMP73agw4XOCufEnSNHjsjChQvl29/+tkyfPl2CIJApU6bIBx98QC8OdXV1yfr166Wvr08mTJgg+fn5snPnTlm+fDm9GGJgAQAAWMa3CAEAACxjYAEAAFjGwAIAALCMgQUAAGAZAwsAAMCy/w/FYyHJoqy6JwAAAABJRU5ErkJggg==\" />"
      ]
     },
     "execution_count": 52,
     "metadata": {},
     "output_type": "execute_result"
    }
   ],
   "source": [
    "histogram(resid, line = \"white\", color = \"lightblue\")"
   ]
  },
  {
   "cell_type": "markdown",
   "metadata": {
    "collapsed": true
   },
   "source": [
    "---"
   ]
  },
  {
   "cell_type": "markdown",
   "metadata": {},
   "source": [
    "## Challenge Question 4\n",
    "Using the `aldh2` dataset from the `gap` package, try fitting a few random forest (or bagged tree) models that predicts whether a given patient is an alcohol using their genetic information. What is the prediction accuracy of your best model? What were the meta-paremeters of your best-fitting model?"
   ]
  },
  {
   "cell_type": "code",
   "execution_count": 53,
   "metadata": {
    "collapsed": false
   },
   "outputs": [],
   "source": [
    "using RDatasets\n",
    "using DecisionTree\n",
    "\n",
    "aldh2 = dataset(\"gap\", \"aldh2\");"
   ]
  },
  {
   "cell_type": "code",
   "execution_count": 66,
   "metadata": {
    "collapsed": false
   },
   "outputs": [
    {
     "data": {
      "text/plain": [
       "Ensemble of Decision Trees\n",
       "Trees:      100\n",
       "Avg Leaves: 57.47\n",
       "Avg Depth:  13.5"
      ]
     },
     "execution_count": 66,
     "metadata": {},
     "output_type": "execute_result"
    }
   ],
   "source": [
    "# must convert to Array\n",
    "y = convert(Array{Float64,1}, aldh2[:Y])\n",
    "X = convert(Array{Float64,2}, aldh2[:, 3:end])\n",
    "\n",
    "# fit model\n",
    "fm10 = build_forest(y, X, 2, 100)"
   ]
  },
  {
   "cell_type": "code",
   "execution_count": 67,
   "metadata": {
    "collapsed": false
   },
   "outputs": [
    {
     "data": {
      "text/plain": [
       "0.9695817490494296"
      ]
     },
     "execution_count": 67,
     "metadata": {},
     "output_type": "execute_result"
    }
   ],
   "source": [
    "# get prediction accuracy\n",
    "yhat_bool = apply_forest(fm10, X) .> 0.5\n",
    "ybool = y .== 1\n",
    "mean(ybool .== yhat_bool)"
   ]
  },
  {
   "cell_type": "code",
   "execution_count": null,
   "metadata": {
    "collapsed": true
   },
   "outputs": [],
   "source": []
  }
 ],
 "metadata": {
  "kernelspec": {
   "display_name": "Julia 0.5.0-rc2",
   "language": "julia",
   "name": "julia-0.5"
  },
  "language_info": {
   "file_extension": ".jl",
   "mimetype": "application/julia",
   "name": "julia",
   "version": "0.5.0"
  }
 },
 "nbformat": 4,
 "nbformat_minor": 0
}

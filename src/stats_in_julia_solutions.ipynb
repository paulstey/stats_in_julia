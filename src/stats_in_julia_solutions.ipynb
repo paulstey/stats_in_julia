{
 "cells": [
  {
   "cell_type": "markdown",
   "metadata": {},
   "source": [
    "# Question 1\n",
    "\n",
    "Using the data in chronic_kidney_disease.csv, determine whether or not the oldest patient in the sample has chronic kidney disease. Note that the `class` variable indicates a patient's CKD status.\n",
    "\n",
    "As a hint, you will probably want to use the `maximum()` function and the `find()` function. \n",
    "\n",
    "And you'll need to consider how to handle `NA` values; there is a function `dropna()` that will be useful."
   ]
  },
  {
   "cell_type": "code",
   "execution_count": 9,
   "metadata": {
    "collapsed": false
   },
   "outputs": [
    {
     "data": {
      "text/html": [
       "<table class=\"data-frame\"><thead><tr><th></th><th>age</th><th>blood_pressure</th><th>specific_gravity</th><th>albumin</th><th>sugar</th><th>red_blood_cells</th><th>pus_cell</th><th>pus_cell_clumps</th><th>bacteria</th><th>blood_glucose_random</th><th>blood_urea</th><th>serum_creatinine</th><th>sodium</th><th>potassium</th><th>hemoglobin</th><th>packed_cell_volume</th><th>white_blood_cell_count</th><th>red_blood_cell_count</th><th>hypertension</th><th>diabetes_mellitus</th><th>coronary_artery_disease</th><th>appetite</th><th>pedal_edema</th><th>anemia</th><th>class</th></tr></thead><tbody><tr><th>1</th><td>48</td><td>80</td><td>1.02</td><td>1</td><td>0</td><td>NA</td><td>normal</td><td>notpresent</td><td>notpresent</td><td>121</td><td>36.0</td><td>1.2</td><td>NA</td><td>NA</td><td>15.4</td><td>44</td><td>7800</td><td>5.2</td><td>yes</td><td>yes</td><td>no</td><td>good</td><td>no</td><td>no</td><td>ckd</td></tr><tr><th>2</th><td>7</td><td>50</td><td>1.02</td><td>4</td><td>0</td><td>NA</td><td>normal</td><td>notpresent</td><td>notpresent</td><td>NA</td><td>18.0</td><td>0.8</td><td>NA</td><td>NA</td><td>11.3</td><td>38</td><td>6000</td><td>NA</td><td>no</td><td>no</td><td>no</td><td>good</td><td>no</td><td>no</td><td>ckd</td></tr><tr><th>3</th><td>62</td><td>80</td><td>1.01</td><td>2</td><td>3</td><td>normal</td><td>normal</td><td>notpresent</td><td>notpresent</td><td>423</td><td>53.0</td><td>1.8</td><td>NA</td><td>NA</td><td>9.6</td><td>31</td><td>7500</td><td>NA</td><td>no</td><td>yes</td><td>no</td><td>poor</td><td>no</td><td>yes</td><td>ckd</td></tr><tr><th>4</th><td>48</td><td>70</td><td>1.005</td><td>4</td><td>0</td><td>normal</td><td>abnormal</td><td>present</td><td>notpresent</td><td>117</td><td>56.0</td><td>3.8</td><td>111.0</td><td>2.5</td><td>11.2</td><td>32</td><td>6700</td><td>3.9</td><td>yes</td><td>no</td><td>no</td><td>poor</td><td>yes</td><td>yes</td><td>ckd</td></tr><tr><th>5</th><td>51</td><td>80</td><td>1.01</td><td>2</td><td>0</td><td>normal</td><td>normal</td><td>notpresent</td><td>notpresent</td><td>106</td><td>26.0</td><td>1.4</td><td>NA</td><td>NA</td><td>11.6</td><td>35</td><td>7300</td><td>4.6</td><td>no</td><td>no</td><td>no</td><td>good</td><td>no</td><td>no</td><td>ckd</td></tr><tr><th>6</th><td>60</td><td>90</td><td>1.015</td><td>3</td><td>0</td><td>NA</td><td>NA</td><td>notpresent</td><td>notpresent</td><td>74</td><td>25.0</td><td>1.1</td><td>142.0</td><td>3.2</td><td>12.2</td><td>39</td><td>7800</td><td>4.4</td><td>yes</td><td>yes</td><td>no</td><td>good</td><td>yes</td><td>no</td><td>ckd</td></tr><tr><th>7</th><td>68</td><td>70</td><td>1.01</td><td>0</td><td>0</td><td>NA</td><td>normal</td><td>notpresent</td><td>notpresent</td><td>100</td><td>54.0</td><td>24.0</td><td>104.0</td><td>4.0</td><td>12.4</td><td>36</td><td>NA</td><td>NA</td><td>no</td><td>no</td><td>no</td><td>good</td><td>no</td><td>no</td><td>ckd</td></tr><tr><th>8</th><td>24</td><td>NA</td><td>1.015</td><td>2</td><td>4</td><td>normal</td><td>abnormal</td><td>notpresent</td><td>notpresent</td><td>410</td><td>31.0</td><td>1.1</td><td>NA</td><td>NA</td><td>12.4</td><td>44</td><td>6900</td><td>5.0</td><td>no</td><td>yes</td><td>no</td><td>good</td><td>yes</td><td>no</td><td>ckd</td></tr><tr><th>9</th><td>52</td><td>100</td><td>1.015</td><td>3</td><td>0</td><td>normal</td><td>abnormal</td><td>present</td><td>notpresent</td><td>138</td><td>60.0</td><td>1.9</td><td>NA</td><td>NA</td><td>10.8</td><td>33</td><td>9600</td><td>4.0</td><td>yes</td><td>yes</td><td>no</td><td>good</td><td>no</td><td>yes</td><td>ckd</td></tr><tr><th>10</th><td>53</td><td>90</td><td>1.02</td><td>2</td><td>0</td><td>abnormal</td><td>abnormal</td><td>present</td><td>notpresent</td><td>70</td><td>107.0</td><td>7.2</td><td>114.0</td><td>3.7</td><td>9.5</td><td>29</td><td>12100</td><td>3.7</td><td>yes</td><td>yes</td><td>no</td><td>poor</td><td>no</td><td>yes</td><td>ckd</td></tr><tr><th>11</th><td>50</td><td>60</td><td>1.01</td><td>2</td><td>4</td><td>NA</td><td>abnormal</td><td>present</td><td>notpresent</td><td>490</td><td>55.0</td><td>4.0</td><td>NA</td><td>NA</td><td>9.4</td><td>28</td><td>NA</td><td>NA</td><td>yes</td><td>yes</td><td>no</td><td>good</td><td>no</td><td>yes</td><td>ckd</td></tr><tr><th>12</th><td>63</td><td>70</td><td>1.01</td><td>3</td><td>0</td><td>abnormal</td><td>abnormal</td><td>present</td><td>notpresent</td><td>380</td><td>60.0</td><td>2.7</td><td>131.0</td><td>4.2</td><td>10.8</td><td>32</td><td>4500</td><td>3.8</td><td>yes</td><td>yes</td><td>no</td><td>poor</td><td>yes</td><td>no</td><td>ckd</td></tr><tr><th>13</th><td>68</td><td>70</td><td>1.015</td><td>3</td><td>1</td><td>NA</td><td>normal</td><td>present</td><td>notpresent</td><td>208</td><td>72.0</td><td>2.1</td><td>138.0</td><td>5.8</td><td>9.7</td><td>28</td><td>12200</td><td>3.4</td><td>yes</td><td>yes</td><td>yes</td><td>poor</td><td>yes</td><td>no</td><td>ckd</td></tr><tr><th>14</th><td>68</td><td>70</td><td>NA</td><td>NA</td><td>NA</td><td>NA</td><td>NA</td><td>notpresent</td><td>notpresent</td><td>98</td><td>86.0</td><td>4.6</td><td>135.0</td><td>3.4</td><td>9.8</td><td>NA</td><td>NA</td><td>NA</td><td>yes</td><td>yes</td><td>yes</td><td>poor</td><td>yes</td><td>no</td><td>ckd</td></tr><tr><th>15</th><td>68</td><td>80</td><td>1.01</td><td>3</td><td>2</td><td>normal</td><td>abnormal</td><td>present</td><td>present</td><td>157</td><td>90.0</td><td>4.1</td><td>130.0</td><td>6.4</td><td>5.6</td><td>16</td><td>11000</td><td>2.6</td><td>yes</td><td>yes</td><td>yes</td><td>poor</td><td>yes</td><td>no</td><td>ckd</td></tr><tr><th>16</th><td>40</td><td>80</td><td>1.015</td><td>3</td><td>0</td><td>NA</td><td>normal</td><td>notpresent</td><td>notpresent</td><td>76</td><td>162.0</td><td>9.6</td><td>141.0</td><td>4.9</td><td>7.6</td><td>24</td><td>3800</td><td>2.8</td><td>yes</td><td>no</td><td>no</td><td>good</td><td>no</td><td>yes</td><td>ckd</td></tr><tr><th>17</th><td>47</td><td>70</td><td>1.015</td><td>2</td><td>0</td><td>NA</td><td>normal</td><td>notpresent</td><td>notpresent</td><td>99</td><td>46.0</td><td>2.2</td><td>138.0</td><td>4.1</td><td>12.6</td><td>NA</td><td>NA</td><td>NA</td><td>no</td><td>no</td><td>no</td><td>good</td><td>no</td><td>no</td><td>ckd</td></tr><tr><th>18</th><td>47</td><td>80</td><td>NA</td><td>NA</td><td>NA</td><td>NA</td><td>NA</td><td>notpresent</td><td>notpresent</td><td>114</td><td>87.0</td><td>5.2</td><td>139.0</td><td>3.7</td><td>12.1</td><td>NA</td><td>NA</td><td>NA</td><td>yes</td><td>no</td><td>no</td><td>poor</td><td>no</td><td>no</td><td>ckd</td></tr><tr><th>19</th><td>60</td><td>100</td><td>1.025</td><td>0</td><td>3</td><td>NA</td><td>normal</td><td>notpresent</td><td>notpresent</td><td>263</td><td>27.0</td><td>1.3</td><td>135.0</td><td>4.3</td><td>12.7</td><td>37</td><td>11400</td><td>4.3</td><td>yes</td><td>yes</td><td>yes</td><td>good</td><td>no</td><td>no</td><td>ckd</td></tr><tr><th>20</th><td>62</td><td>60</td><td>1.015</td><td>1</td><td>0</td><td>NA</td><td>abnormal</td><td>present</td><td>notpresent</td><td>100</td><td>31.0</td><td>1.6</td><td>NA</td><td>NA</td><td>10.3</td><td>30</td><td>5300</td><td>3.7</td><td>yes</td><td>no</td><td>yes</td><td>good</td><td>no</td><td>no</td><td>ckd</td></tr><tr><th>21</th><td>61</td><td>80</td><td>1.015</td><td>2</td><td>0</td><td>abnormal</td><td>abnormal</td><td>notpresent</td><td>notpresent</td><td>173</td><td>148.0</td><td>3.9</td><td>135.0</td><td>5.2</td><td>7.7</td><td>24</td><td>9200</td><td>3.2</td><td>yes</td><td>yes</td><td>yes</td><td>poor</td><td>yes</td><td>yes</td><td>ckd</td></tr><tr><th>22</th><td>60</td><td>90</td><td>NA</td><td>NA</td><td>NA</td><td>NA</td><td>NA</td><td>notpresent</td><td>notpresent</td><td>NA</td><td>180.0</td><td>76.0</td><td>4.5</td><td>NA</td><td>10.9</td><td>32</td><td>6200</td><td>3.6</td><td>yes</td><td>yes</td><td>yes</td><td>good</td><td>no</td><td>no</td><td>ckd</td></tr><tr><th>23</th><td>48</td><td>80</td><td>1.025</td><td>4</td><td>0</td><td>normal</td><td>abnormal</td><td>notpresent</td><td>notpresent</td><td>95</td><td>163.0</td><td>7.7</td><td>136.0</td><td>3.8</td><td>9.8</td><td>32</td><td>6900</td><td>3.4</td><td>yes</td><td>no</td><td>no</td><td>good</td><td>no</td><td>yes</td><td>ckd</td></tr><tr><th>24</th><td>21</td><td>70</td><td>1.01</td><td>0</td><td>0</td><td>NA</td><td>normal</td><td>notpresent</td><td>notpresent</td><td>NA</td><td>NA</td><td>NA</td><td>NA</td><td>NA</td><td>NA</td><td>NA</td><td>NA</td><td>NA</td><td>no</td><td>no</td><td>no</td><td>poor</td><td>no</td><td>yes</td><td>ckd</td></tr><tr><th>25</th><td>42</td><td>100</td><td>1.015</td><td>4</td><td>0</td><td>normal</td><td>abnormal</td><td>notpresent</td><td>present</td><td>NA</td><td>50.0</td><td>1.4</td><td>129.0</td><td>4.0</td><td>11.1</td><td>39</td><td>8300</td><td>4.6</td><td>yes</td><td>no</td><td>no</td><td>poor</td><td>no</td><td>no</td><td>ckd</td></tr><tr><th>26</th><td>61</td><td>60</td><td>1.025</td><td>0</td><td>0</td><td>NA</td><td>normal</td><td>notpresent</td><td>notpresent</td><td>108</td><td>75.0</td><td>1.9</td><td>141.0</td><td>5.2</td><td>9.9</td><td>29</td><td>8400</td><td>3.7</td><td>yes</td><td>yes</td><td>no</td><td>good</td><td>no</td><td>yes</td><td>ckd</td></tr><tr><th>27</th><td>75</td><td>80</td><td>1.015</td><td>0</td><td>0</td><td>NA</td><td>normal</td><td>notpresent</td><td>notpresent</td><td>156</td><td>45.0</td><td>2.4</td><td>140.0</td><td>3.4</td><td>11.6</td><td>35</td><td>10300</td><td>4.0</td><td>yes</td><td>yes</td><td>no</td><td>poor</td><td>no</td><td>no</td><td>ckd</td></tr><tr><th>28</th><td>69</td><td>70</td><td>1.01</td><td>3</td><td>4</td><td>normal</td><td>abnormal</td><td>notpresent</td><td>notpresent</td><td>264</td><td>87.0</td><td>2.7</td><td>130.0</td><td>4.0</td><td>12.5</td><td>37</td><td>9600</td><td>4.1</td><td>yes</td><td>yes</td><td>yes</td><td>good</td><td>yes</td><td>no</td><td>ckd</td></tr><tr><th>29</th><td>75</td><td>70</td><td>NA</td><td>1</td><td>3</td><td>NA</td><td>NA</td><td>notpresent</td><td>notpresent</td><td>123</td><td>31.0</td><td>1.4</td><td>NA</td><td>NA</td><td>NA</td><td>NA</td><td>NA</td><td>NA</td><td>no</td><td>yes</td><td>no</td><td>good</td><td>no</td><td>no</td><td>ckd</td></tr><tr><th>30</th><td>68</td><td>70</td><td>1.005</td><td>1</td><td>0</td><td>abnormal</td><td>abnormal</td><td>present</td><td>notpresent</td><td>NA</td><td>28.0</td><td>1.4</td><td>NA</td><td>NA</td><td>12.9</td><td>38</td><td>NA</td><td>NA</td><td>no</td><td>no</td><td>yes</td><td>good</td><td>no</td><td>no</td><td>ckd</td></tr><tr><th>&vellip;</th><td>&vellip;</td><td>&vellip;</td><td>&vellip;</td><td>&vellip;</td><td>&vellip;</td><td>&vellip;</td><td>&vellip;</td><td>&vellip;</td><td>&vellip;</td><td>&vellip;</td><td>&vellip;</td><td>&vellip;</td><td>&vellip;</td><td>&vellip;</td><td>&vellip;</td><td>&vellip;</td><td>&vellip;</td><td>&vellip;</td><td>&vellip;</td><td>&vellip;</td><td>&vellip;</td><td>&vellip;</td><td>&vellip;</td><td>&vellip;</td><td>&vellip;</td></tr></tbody></table>"
      ],
      "text/plain": [
       "400×25 DataFrames.DataFrame\n",
       "│ Row │ age │ blood_pressure │ specific_gravity │ albumin │ sugar │\n",
       "├─────┼─────┼────────────────┼──────────────────┼─────────┼───────┤\n",
       "│ 1   │ 48  │ 80             │ 1.02             │ 1       │ 0     │\n",
       "│ 2   │ 7   │ 50             │ 1.02             │ 4       │ 0     │\n",
       "│ 3   │ 62  │ 80             │ 1.01             │ 2       │ 3     │\n",
       "│ 4   │ 48  │ 70             │ 1.005            │ 4       │ 0     │\n",
       "│ 5   │ 51  │ 80             │ 1.01             │ 2       │ 0     │\n",
       "│ 6   │ 60  │ 90             │ 1.015            │ 3       │ 0     │\n",
       "│ 7   │ 68  │ 70             │ 1.01             │ 0       │ 0     │\n",
       "│ 8   │ 24  │ NA             │ 1.015            │ 2       │ 4     │\n",
       "│ 9   │ 52  │ 100            │ 1.015            │ 3       │ 0     │\n",
       "│ 10  │ 53  │ 90             │ 1.02             │ 2       │ 0     │\n",
       "│ 11  │ 50  │ 60             │ 1.01             │ 2       │ 4     │\n",
       "⋮\n",
       "│ 389 │ 51  │ 80             │ 1.02             │ 0       │ 0     │\n",
       "│ 390 │ 41  │ 80             │ 1.025            │ 0       │ 0     │\n",
       "│ 391 │ 52  │ 80             │ 1.025            │ 0       │ 0     │\n",
       "│ 392 │ 36  │ 80             │ 1.025            │ 0       │ 0     │\n",
       "│ 393 │ 57  │ 80             │ 1.02             │ 0       │ 0     │\n",
       "│ 394 │ 43  │ 60             │ 1.025            │ 0       │ 0     │\n",
       "│ 395 │ 50  │ 80             │ 1.02             │ 0       │ 0     │\n",
       "│ 396 │ 55  │ 80             │ 1.02             │ 0       │ 0     │\n",
       "│ 397 │ 42  │ 70             │ 1.025            │ 0       │ 0     │\n",
       "│ 398 │ 12  │ 80             │ 1.02             │ 0       │ 0     │\n",
       "│ 399 │ 17  │ 60             │ 1.025            │ 0       │ 0     │\n",
       "│ 400 │ 58  │ 80             │ 1.025            │ 0       │ 0     │\n",
       "\n",
       "│ Row │ red_blood_cells │ pus_cell   │ pus_cell_clumps │ bacteria     │\n",
       "├─────┼─────────────────┼────────────┼─────────────────┼──────────────┤\n",
       "│ 1   │ NA              │ \"normal\"   │ \"notpresent\"    │ \"notpresent\" │\n",
       "│ 2   │ NA              │ \"normal\"   │ \"notpresent\"    │ \"notpresent\" │\n",
       "│ 3   │ \"normal\"        │ \"normal\"   │ \"notpresent\"    │ \"notpresent\" │\n",
       "│ 4   │ \"normal\"        │ \"abnormal\" │ \"present\"       │ \"notpresent\" │\n",
       "│ 5   │ \"normal\"        │ \"normal\"   │ \"notpresent\"    │ \"notpresent\" │\n",
       "│ 6   │ NA              │ NA         │ \"notpresent\"    │ \"notpresent\" │\n",
       "│ 7   │ NA              │ \"normal\"   │ \"notpresent\"    │ \"notpresent\" │\n",
       "│ 8   │ \"normal\"        │ \"abnormal\" │ \"notpresent\"    │ \"notpresent\" │\n",
       "│ 9   │ \"normal\"        │ \"abnormal\" │ \"present\"       │ \"notpresent\" │\n",
       "│ 10  │ \"abnormal\"      │ \"abnormal\" │ \"present\"       │ \"notpresent\" │\n",
       "│ 11  │ NA              │ \"abnormal\" │ \"present\"       │ \"notpresent\" │\n",
       "⋮\n",
       "│ 389 │ \"normal\"        │ \"normal\"   │ \"notpresent\"    │ \"notpresent\" │\n",
       "│ 390 │ \"normal\"        │ \"normal\"   │ \"notpresent\"    │ \"notpresent\" │\n",
       "│ 391 │ \"normal\"        │ \"normal\"   │ \"notpresent\"    │ \"notpresent\" │\n",
       "│ 392 │ \"normal\"        │ \"normal\"   │ \"notpresent\"    │ \"notpresent\" │\n",
       "│ 393 │ \"normal\"        │ \"normal\"   │ \"notpresent\"    │ \"notpresent\" │\n",
       "│ 394 │ \"normal\"        │ \"normal\"   │ \"notpresent\"    │ \"notpresent\" │\n",
       "│ 395 │ \"normal\"        │ \"normal\"   │ \"notpresent\"    │ \"notpresent\" │\n",
       "│ 396 │ \"normal\"        │ \"normal\"   │ \"notpresent\"    │ \"notpresent\" │\n",
       "│ 397 │ \"normal\"        │ \"normal\"   │ \"notpresent\"    │ \"notpresent\" │\n",
       "│ 398 │ \"normal\"        │ \"normal\"   │ \"notpresent\"    │ \"notpresent\" │\n",
       "│ 399 │ \"normal\"        │ \"normal\"   │ \"notpresent\"    │ \"notpresent\" │\n",
       "│ 400 │ \"normal\"        │ \"normal\"   │ \"notpresent\"    │ \"notpresent\" │\n",
       "\n",
       "│ Row │ blood_glucose_random │ blood_urea │ serum_creatinine │ sodium │\n",
       "├─────┼──────────────────────┼────────────┼──────────────────┼────────┤\n",
       "│ 1   │ 121                  │ 36.0       │ 1.2              │ NA     │\n",
       "│ 2   │ NA                   │ 18.0       │ 0.8              │ NA     │\n",
       "│ 3   │ 423                  │ 53.0       │ 1.8              │ NA     │\n",
       "│ 4   │ 117                  │ 56.0       │ 3.8              │ 111.0  │\n",
       "│ 5   │ 106                  │ 26.0       │ 1.4              │ NA     │\n",
       "│ 6   │ 74                   │ 25.0       │ 1.1              │ 142.0  │\n",
       "│ 7   │ 100                  │ 54.0       │ 24.0             │ 104.0  │\n",
       "│ 8   │ 410                  │ 31.0       │ 1.1              │ NA     │\n",
       "│ 9   │ 138                  │ 60.0       │ 1.9              │ NA     │\n",
       "│ 10  │ 70                   │ 107.0      │ 7.2              │ 114.0  │\n",
       "│ 11  │ 490                  │ 55.0       │ 4.0              │ NA     │\n",
       "⋮\n",
       "│ 389 │ 94                   │ 15.0       │ 1.2              │ 144.0  │\n",
       "│ 390 │ 112                  │ 48.0       │ 0.7              │ 140.0  │\n",
       "│ 391 │ 99                   │ 25.0       │ 0.8              │ 135.0  │\n",
       "│ 392 │ 85                   │ 16.0       │ 1.1              │ 142.0  │\n",
       "│ 393 │ 133                  │ 48.0       │ 1.2              │ 147.0  │\n",
       "│ 394 │ 117                  │ 45.0       │ 0.7              │ 141.0  │\n",
       "│ 395 │ 137                  │ 46.0       │ 0.8              │ 139.0  │\n",
       "│ 396 │ 140                  │ 49.0       │ 0.5              │ 150.0  │\n",
       "│ 397 │ 75                   │ 31.0       │ 1.2              │ 141.0  │\n",
       "│ 398 │ 100                  │ 26.0       │ 0.6              │ 137.0  │\n",
       "│ 399 │ 114                  │ 50.0       │ 1.0              │ 135.0  │\n",
       "│ 400 │ 131                  │ 18.0       │ 1.1              │ 141.0  │\n",
       "\n",
       "│ Row │ potassium │ hemoglobin │ packed_cell_volume │ white_blood_cell_count │\n",
       "├─────┼───────────┼────────────┼────────────────────┼────────────────────────┤\n",
       "│ 1   │ NA        │ 15.4       │ 44                 │ 7800                   │\n",
       "│ 2   │ NA        │ 11.3       │ 38                 │ 6000                   │\n",
       "│ 3   │ NA        │ 9.6        │ 31                 │ 7500                   │\n",
       "│ 4   │ 2.5       │ 11.2       │ 32                 │ 6700                   │\n",
       "│ 5   │ NA        │ 11.6       │ 35                 │ 7300                   │\n",
       "│ 6   │ 3.2       │ 12.2       │ 39                 │ 7800                   │\n",
       "│ 7   │ 4.0       │ 12.4       │ 36                 │ NA                     │\n",
       "│ 8   │ NA        │ 12.4       │ 44                 │ 6900                   │\n",
       "│ 9   │ NA        │ 10.8       │ 33                 │ 9600                   │\n",
       "│ 10  │ 3.7       │ 9.5        │ 29                 │ 12100                  │\n",
       "│ 11  │ NA        │ 9.4        │ 28                 │ NA                     │\n",
       "⋮\n",
       "│ 389 │ 3.7       │ 15.5       │ 46                 │ 9500                   │\n",
       "│ 390 │ 5.0       │ 17.0       │ 52                 │ 7200                   │\n",
       "│ 391 │ 3.7       │ 15.0       │ 52                 │ 6300                   │\n",
       "│ 392 │ 4.1       │ 15.6       │ 44                 │ 5800                   │\n",
       "│ 393 │ 4.3       │ 14.8       │ 46                 │ 6600                   │\n",
       "│ 394 │ 4.4       │ 13.0       │ 54                 │ 7400                   │\n",
       "│ 395 │ 5.0       │ 14.1       │ 45                 │ 9500                   │\n",
       "│ 396 │ 4.9       │ 15.7       │ 47                 │ 6700                   │\n",
       "│ 397 │ 3.5       │ 16.5       │ 54                 │ 7800                   │\n",
       "│ 398 │ 4.4       │ 15.8       │ 49                 │ 6600                   │\n",
       "│ 399 │ 4.9       │ 14.2       │ 51                 │ 7200                   │\n",
       "│ 400 │ 3.5       │ 15.8       │ 53                 │ 6800                   │\n",
       "\n",
       "│ Row │ red_blood_cell_count │ hypertension │ diabetes_mellitus │\n",
       "├─────┼──────────────────────┼──────────────┼───────────────────┤\n",
       "│ 1   │ 5.2                  │ \"yes\"        │ \"yes\"             │\n",
       "│ 2   │ NA                   │ \"no\"         │ \"no\"              │\n",
       "│ 3   │ NA                   │ \"no\"         │ \"yes\"             │\n",
       "│ 4   │ 3.9                  │ \"yes\"        │ \"no\"              │\n",
       "│ 5   │ 4.6                  │ \"no\"         │ \"no\"              │\n",
       "│ 6   │ 4.4                  │ \"yes\"        │ \"yes\"             │\n",
       "│ 7   │ NA                   │ \"no\"         │ \"no\"              │\n",
       "│ 8   │ 5.0                  │ \"no\"         │ \"yes\"             │\n",
       "│ 9   │ 4.0                  │ \"yes\"        │ \"yes\"             │\n",
       "│ 10  │ 3.7                  │ \"yes\"        │ \"yes\"             │\n",
       "│ 11  │ NA                   │ \"yes\"        │ \"yes\"             │\n",
       "⋮\n",
       "│ 389 │ 6.4                  │ \"no\"         │ \"no\"              │\n",
       "│ 390 │ 5.8                  │ \"no\"         │ \"no\"              │\n",
       "│ 391 │ 5.3                  │ \"no\"         │ \"no\"              │\n",
       "│ 392 │ 6.3                  │ \"no\"         │ \"no\"              │\n",
       "│ 393 │ 5.5                  │ \"no\"         │ \"no\"              │\n",
       "│ 394 │ 5.4                  │ \"no\"         │ \"no\"              │\n",
       "│ 395 │ 4.6                  │ \"no\"         │ \"no\"              │\n",
       "│ 396 │ 4.9                  │ \"no\"         │ \"no\"              │\n",
       "│ 397 │ 6.2                  │ \"no\"         │ \"no\"              │\n",
       "│ 398 │ 5.4                  │ \"no\"         │ \"no\"              │\n",
       "│ 399 │ 5.9                  │ \"no\"         │ \"no\"              │\n",
       "│ 400 │ 6.1                  │ \"no\"         │ \"no\"              │\n",
       "\n",
       "│ Row │ coronary_artery_disease │ appetite │ pedal_edema │ anemia │ class    │\n",
       "├─────┼─────────────────────────┼──────────┼─────────────┼────────┼──────────┤\n",
       "│ 1   │ \"no\"                    │ \"good\"   │ \"no\"        │ \"no\"   │ \"ckd\"    │\n",
       "│ 2   │ \"no\"                    │ \"good\"   │ \"no\"        │ \"no\"   │ \"ckd\"    │\n",
       "│ 3   │ \"no\"                    │ \"poor\"   │ \"no\"        │ \"yes\"  │ \"ckd\"    │\n",
       "│ 4   │ \"no\"                    │ \"poor\"   │ \"yes\"       │ \"yes\"  │ \"ckd\"    │\n",
       "│ 5   │ \"no\"                    │ \"good\"   │ \"no\"        │ \"no\"   │ \"ckd\"    │\n",
       "│ 6   │ \"no\"                    │ \"good\"   │ \"yes\"       │ \"no\"   │ \"ckd\"    │\n",
       "│ 7   │ \"no\"                    │ \"good\"   │ \"no\"        │ \"no\"   │ \"ckd\"    │\n",
       "│ 8   │ \"no\"                    │ \"good\"   │ \"yes\"       │ \"no\"   │ \"ckd\"    │\n",
       "│ 9   │ \"no\"                    │ \"good\"   │ \"no\"        │ \"yes\"  │ \"ckd\"    │\n",
       "│ 10  │ \"no\"                    │ \"poor\"   │ \"no\"        │ \"yes\"  │ \"ckd\"    │\n",
       "│ 11  │ \"no\"                    │ \"good\"   │ \"no\"        │ \"yes\"  │ \"ckd\"    │\n",
       "⋮\n",
       "│ 389 │ \"no\"                    │ \"good\"   │ \"no\"        │ \"no\"   │ \"notckd\" │\n",
       "│ 390 │ \"no\"                    │ \"good\"   │ \"no\"        │ \"no\"   │ \"notckd\" │\n",
       "│ 391 │ \"no\"                    │ \"good\"   │ \"no\"        │ \"no\"   │ \"notckd\" │\n",
       "│ 392 │ \"no\"                    │ \"good\"   │ \"no\"        │ \"no\"   │ \"notckd\" │\n",
       "│ 393 │ \"no\"                    │ \"good\"   │ \"no\"        │ \"no\"   │ \"notckd\" │\n",
       "│ 394 │ \"no\"                    │ \"good\"   │ \"no\"        │ \"no\"   │ \"notckd\" │\n",
       "│ 395 │ \"no\"                    │ \"good\"   │ \"no\"        │ \"no\"   │ \"notckd\" │\n",
       "│ 396 │ \"no\"                    │ \"good\"   │ \"no\"        │ \"no\"   │ \"notckd\" │\n",
       "│ 397 │ \"no\"                    │ \"good\"   │ \"no\"        │ \"no\"   │ \"notckd\" │\n",
       "│ 398 │ \"no\"                    │ \"good\"   │ \"no\"        │ \"no\"   │ \"notckd\" │\n",
       "│ 399 │ \"no\"                    │ \"good\"   │ \"no\"        │ \"no\"   │ \"notckd\" │\n",
       "│ 400 │ \"no\"                    │ \"good\"   │ \"no\"        │ \"no\"   │ \"notckd\" │"
      ]
     },
     "execution_count": 9,
     "metadata": {},
     "output_type": "execute_result"
    }
   ],
   "source": [
    "using DataFrames\n",
    "\n",
    "ckd = readtable(\"../data/chronic_kidney_disease.csv\")\n"
   ]
  },
  {
   "cell_type": "code",
   "execution_count": 10,
   "metadata": {
    "collapsed": false
   },
   "outputs": [
    {
     "data": {
      "text/plain": [
       "1-element DataArrays.DataArray{String,1}:\n",
       " \"ckd\""
      ]
     },
     "execution_count": 10,
     "metadata": {},
     "output_type": "execute_result"
    }
   ],
   "source": [
    "maxage = maximum(dropna(ckd[:age]))   \n",
    "\n",
    "oldest_idx = find(ckd[:age] .== maxage) \n",
    "\n",
    "ckd[oldest_idx, :class]"
   ]
  },
  {
   "cell_type": "markdown",
   "metadata": {},
   "source": [
    "# Question 2"
   ]
  },
  {
   "cell_type": "markdown",
   "metadata": {},
   "source": [
    "Using the `chronic_kidney_disease.csv` dataset from above, use an appropriate statistical test to determine if patients with chronic kidney disease (CKD) have significantly higher blood urea than patients without CKD. \n",
    "\n",
    "As a hint, you will likely want to use the HypothesisTests package."
   ]
  },
  {
   "cell_type": "code",
   "execution_count": 10,
   "metadata": {
    "collapsed": false
   },
   "outputs": [
    {
     "data": {
      "text/plain": [
       "Two sample t-test (unequal variance)\n",
       "------------------------------------\n",
       "Population details:\n",
       "    parameter of interest:   Mean difference\n",
       "    value under h_0:         0\n",
       "    point estimate:          39.590418424753864\n",
       "    95% confidence interval: (31.86529602463314,47.31554082487459)\n",
       "\n",
       "Test summary:\n",
       "    outcome with 95% confidence: reject h_0\n",
       "    two-sided p-value:           1.7990230669795845e-20 (extremely significant)\n",
       "\n",
       "Details:\n",
       "    number of observations:   [237,144]\n",
       "    t-statistic:              10.090709649973618\n",
       "    degrees of freedom:       264.8784441340254\n",
       "    empirical standard error: 3.9234523435977935\n"
      ]
     },
     "execution_count": 10,
     "metadata": {},
     "output_type": "execute_result"
    }
   ],
   "source": [
    "using DataFrames\n",
    "using HypothesisTests\n",
    "\n",
    "ckd = readtable(\"../data/chronic_kidney_disease.csv\")\n",
    "\n",
    "# get row indices\n",
    "ckd_idcs = find(ckd[:class] .== \"ckd\")\n",
    "nonckd_idcs = find(ckd[:class] .== \"notckd\")\n",
    "\n",
    "# get `blood_urea` scores\n",
    "ckd_grp = ckd[ckd_idcs, :blood_urea]\n",
    "nonckd_grp = ckd[nonckd_idcs, :blood_urea]\n",
    "\n",
    "UnequalVarianceTTest(dropna(ckd_grp), dropna(nonckd_grp))"
   ]
  },
  {
   "cell_type": "markdown",
   "metadata": {},
   "source": [
    "---"
   ]
  },
  {
   "cell_type": "markdown",
   "metadata": {},
   "source": [
    "# Challenge Question 3\n",
    "Using the chronic_kidney_disease.csv data, determine which of the following predictors (if any) are related chronic kidney disease (CKD): \n",
    "\n",
    "`blood_urea`, \n",
    "\n",
    "`hemoglobin`, \n",
    "\n",
    "`red_blood_cell_count`, \n",
    "\n",
    "`white_blood_cell_count`.\n",
    "\n",
    "Hints:\n",
    "  - There are a few days this could be done, let's use a single regression model of some kind\n",
    "  - Our outcome variable is `class` in the CKD data, this needs to be re-coded as 0/1 "
   ]
  },
  {
   "cell_type": "code",
   "execution_count": 6,
   "metadata": {
    "collapsed": false
   },
   "outputs": [
    {
     "data": {
      "text/plain": [
       "DataFrames.DataFrameRegressionModel{GLM.GeneralizedLinearModel{GLM.GlmResp{Array{Float64,1},Distributions.Binomial{Float64},GLM.LogitLink},GLM.DensePredChol{Float64,Base.LinAlg.Cholesky{Float64,Array{Float64,2}}}},Array{Float64,2}}\n",
       "\n",
       "Formula: has_ckd ~ 1 + blood_urea + hemoglobin + red_blood_cell_count + white_blood_cell_count\n",
       "\n",
       "Coefficients:\n",
       "                           Estimate   Std.Error  z value Pr(>|z|)\n",
       "(Intercept)                 20.5118     3.82243  5.36617    <1e-7\n",
       "blood_urea                0.0135445   0.0152221 0.889787   0.3736\n",
       "hemoglobin                  -1.4337    0.273702 -5.23817    <1e-6\n",
       "red_blood_cell_count      -0.685826    0.399729 -1.71573   0.0862\n",
       "white_blood_cell_count  0.000152042 0.000141559  1.07406   0.2828\n"
      ]
     },
     "execution_count": 6,
     "metadata": {},
     "output_type": "execute_result"
    }
   ],
   "source": [
    "using GLM\n",
    "using DataFrames\n",
    "\n",
    "ckd = readtable(\"../data/chronic_kidney_disease.csv\", makefactors = true)\n",
    "\n",
    "ckd[:has_ckd] = [x == \"ckd\" ? 1 : 0 for x in ckd[:class]]\n",
    "\n",
    "head(ckd)\n",
    "\n",
    "mod3 = @formula(has_ckd ~ 1 + blood_urea + hemoglobin + red_blood_cell_count + white_blood_cell_count)\n",
    "fm3 = glm(mod3, ckd, Binomial())"
   ]
  },
  {
   "cell_type": "markdown",
   "metadata": {},
   "source": [
    "# Challenge Question 4\n",
    "\n",
    "Using the `stagec` data from above, fit several models experimenting with different numbers of trees and different numbers of variable subsets for candidate splitting (i.e., `m_try`, the third argument to the `build_forest()` function). \n",
    "\n",
    "In order to evaluate the quality of the models on training data, write a function that calculates the mean-squared error of the fitted model. The function should take 3 arguments: (1) the fitted model, (2) the vector with the outcome variable and (3) the matrix of predictors.\n",
    "\n",
    "What was the mean-squared error of your best-fitting model?"
   ]
  },
  {
   "cell_type": "code",
   "execution_count": 11,
   "metadata": {
    "collapsed": false
   },
   "outputs": [
    {
     "data": {
      "text/plain": [
       "mse (generic function with 1 method)"
      ]
     },
     "execution_count": 11,
     "metadata": {},
     "output_type": "execute_result"
    }
   ],
   "source": [
    "# This is a quick function to obtain the mean-squared\n",
    "# error of a fitted random forest (or bagged tree) model.\n",
    "\n",
    "function mse(fitted, y, X)\n",
    "    yhat = apply_forest(fitted, X)\n",
    "    sqerr = (y .- yhat).^2\n",
    "    out = mean(sqerr)\n",
    "    return out\n",
    "end"
   ]
  },
  {
   "cell_type": "code",
   "execution_count": 14,
   "metadata": {
    "collapsed": false
   },
   "outputs": [
    {
     "name": "stderr",
     "output_type": "stream",
     "text": [
      "WARNING: using DecisionTree.fit! in module Main conflicts with an existing identifier.\n",
      "WARNING: using DecisionTree.R2 in module Main conflicts with an existing identifier.\n",
      "WARNING: using DecisionTree.predict in module Main conflicts with an existing identifier.\n"
     ]
    }
   ],
   "source": [
    "# Load the data\n",
    "using DecisionTree\n",
    "using RDatasets\n",
    "stagec = dataset(\"rpart\", \"stagec\")\n",
    "\n",
    "stagec_comp = stagec[completecases(stagec), :];"
   ]
  },
  {
   "cell_type": "code",
   "execution_count": 15,
   "metadata": {
    "collapsed": false
   },
   "outputs": [
    {
     "data": {
      "text/plain": [
       "Ensemble of Decision Trees\n",
       "Trees:      500\n",
       "Avg Leaves: 31.272\n",
       "Avg Depth:  9.914"
      ]
     },
     "execution_count": 15,
     "metadata": {},
     "output_type": "execute_result"
    }
   ],
   "source": [
    "# Clean up data and fit model\n",
    "\n",
    "is_tetraploid = stagec_comp[:Ploidy] .== \"tetraploid\"\n",
    "\n",
    "stagec_comp[:tetra] = is_tetraploid\n",
    "\n",
    "# must convert to Array\n",
    "y = convert(Array{Float64,1}, stagec_comp[:G2])\n",
    "X = convert(Array{Float64,2}, stagec_comp[[:Age, :Grade, :Gleason, :EET, :tetra]])\n",
    "\n",
    "fm4a = build_forest(y, X, 5, 100)\n",
    "fm4b = build_forest(y, X, 3, 100)\n",
    "fm4c = build_forest(y, X, 5, 500)"
   ]
  },
  {
   "cell_type": "code",
   "execution_count": 16,
   "metadata": {
    "collapsed": false
   },
   "outputs": [
    {
     "name": "stdout",
     "output_type": "stream",
     "text": [
      "mse(fm4a,y,X) = 18.4084866706618\n",
      "mse(fm4b,y,X) = 22.123257454931814\n",
      "mse(fm4c,y,X) = 18.49337910973606\n"
     ]
    },
    {
     "data": {
      "text/plain": [
       "18.49337910973606"
      ]
     },
     "execution_count": 16,
     "metadata": {},
     "output_type": "execute_result"
    }
   ],
   "source": [
    "@show mse(fm4a, y, X)\n",
    "@show mse(fm4b, y, X)\n",
    "@show mse(fm4c, y, X)"
   ]
  },
  {
   "cell_type": "markdown",
   "metadata": {},
   "source": [
    "# Question 5"
   ]
  },
  {
   "cell_type": "code",
   "execution_count": 30,
   "metadata": {
    "collapsed": false
   },
   "outputs": [],
   "source": [
    "using RDatasets\n",
    "using DecisionTree\n",
    "\n",
    "aldh2 = dataset(\"gap\", \"aldh2\");"
   ]
  },
  {
   "cell_type": "code",
   "execution_count": 33,
   "metadata": {
    "collapsed": false
   },
   "outputs": [
    {
     "data": {
      "text/plain": [
       "Ensemble of Decision Trees\n",
       "Trees:      500\n",
       "Avg Leaves: 64.718\n",
       "Avg Depth:  14.248"
      ]
     },
     "execution_count": 33,
     "metadata": {},
     "output_type": "execute_result"
    }
   ],
   "source": [
    "# must convert to Array\n",
    "y = convert(Array{Float64,1}, aldh2[:Y])\n",
    "X = convert(Array{Float64,2}, aldh2[:, 3:end])\n",
    "\n",
    "# fit model\n",
    "fm10 = build_forest(y, X, 10, 500)"
   ]
  },
  {
   "cell_type": "code",
   "execution_count": 34,
   "metadata": {
    "collapsed": false
   },
   "outputs": [
    {
     "data": {
      "text/html": [
       "0.9809885931558935"
      ],
      "text/plain": [
       "0.9809885931558935"
      ]
     },
     "execution_count": 34,
     "metadata": {},
     "output_type": "execute_result"
    }
   ],
   "source": [
    "# get prediction accuracy\n",
    "yhat_bool = apply_forest(fm10, X) .> 0.5\n",
    "ybool = y .== 1\n",
    "mean(ybool .== yhat_bool)"
   ]
  },
  {
   "cell_type": "markdown",
   "metadata": {},
   "source": [
    "# Challenge Problem 6\n",
    "\n",
    "Use R and the randomForest package via the RCall.jl package in Julia to fit a random forest model on the `chronic_kidney_disease.csv` data set. In particular, fit a model with 5000 trees to predict whether or not patients have chronic kidney disease.\n",
    "\n",
    "After fitting the model, extract the variable importance estimates (mean Gini decrease) from the fitted model. Pass a dataframe back to Julia that has two columns (1) name of the predictor, and (2) mean Gini decrease for that predictor. \n",
    "\n",
    "Sort the returned data frame such that larger values are at the top.\n",
    "\n",
    "\n",
    "The following steps should serve as a general to complete this:\n",
    "\n",
    "1. Read the data in to Julia\n",
    "\n",
    "2. Ensure RCall.jl is loaded\n",
    "\n",
    "3. Pass the dataframe from Julia to R\n",
    "\n",
    "4. Fit the model in R using `randomForest()` function with argument `ntrees = 5000`\n",
    "\n",
    "5. Use the `importance()` function to extract the estimates of variable importance from the fitted model\n",
    "\n",
    "6. Pass the estimates back to Julia\n",
    "\n",
    "\n",
    "Some Hints:\n",
    "\n",
    "* The `importance()` function in R returns a data frame whose row names are the variable names, and the last column is mean Gini decrease\n",
    "\n",
    "* The documentation for the randomForest package in R can be found here:\n",
    "https://cran.r-project.org/web/packages/randomForest/randomForest.pdf\n",
    "\n",
    "* The `sortperm()` function will be useful for sorting in the last step\n"
   ]
  },
  {
   "cell_type": "code",
   "execution_count": 35,
   "metadata": {
    "collapsed": false
   },
   "outputs": [],
   "source": [
    "using DataFrames\n",
    "using RCall\n",
    "\n",
    "ckd = readtable(\"../data/chronic_kidney_disease.csv\", makefactors = true)\n",
    "\n",
    "@rput ckd \n",
    "\n",
    "R\"\n",
    "library(randomForest)\n",
    "\n",
    "ckd2 <- ckd[complete.cases(ckd), ]\n",
    "\n",
    "fm6 <- randomForest(class ~ ., ckd2, importance = TRUE, ntree = 5000)\n",
    "\n",
    "imp_df <- importance(fm6)\n",
    "\n",
    "gini_decrease <- imp_df[, ncol(imp_df)]\n",
    "\n",
    "preds <- row.names(imp_df)\n",
    "\n",
    "var_imp_df <- data.frame(preds, gini_decrease)\n",
    "\"\n",
    "@rget var_imp_df;"
   ]
  },
  {
   "cell_type": "code",
   "execution_count": 36,
   "metadata": {
    "collapsed": false
   },
   "outputs": [
    {
     "data": {
      "text/html": [
       "<table class=\"data-frame\"><thead><tr><th></th><th>preds</th><th>gini_decrease</th></tr></thead><tbody><tr><th>1</th><td>albumin</td><td>10.528785472387131</td></tr><tr><th>2</th><td>serum_creatinine</td><td>8.495935266588933</td></tr><tr><th>3</th><td>packed_cell_volume</td><td>8.464028488223644</td></tr><tr><th>4</th><td>hemoglobin</td><td>8.429654290508891</td></tr><tr><th>5</th><td>red_blood_cell_count</td><td>6.271603664880897</td></tr><tr><th>6</th><td>specific_gravity</td><td>5.007236467578002</td></tr><tr><th>7</th><td>blood_urea</td><td>3.8291587225446144</td></tr><tr><th>8</th><td>hypertension</td><td>3.462742578423633</td></tr><tr><th>9</th><td>pus_cell</td><td>1.6658062321366793</td></tr><tr><th>10</th><td>diabetes_mellitus</td><td>1.4476398822582155</td></tr><tr><th>11</th><td>blood_glucose_random</td><td>1.1276708111544038</td></tr><tr><th>12</th><td>sodium</td><td>0.8763004044795749</td></tr><tr><th>13</th><td>white_blood_cell_count</td><td>0.6245370157079878</td></tr><tr><th>14</th><td>sugar</td><td>0.39078418994729125</td></tr><tr><th>15</th><td>pedal_edema</td><td>0.33930089026073035</td></tr><tr><th>16</th><td>red_blood_cells</td><td>0.2988910818351664</td></tr><tr><th>17</th><td>blood_pressure</td><td>0.2900019107583536</td></tr><tr><th>18</th><td>appetite</td><td>0.23810780892452185</td></tr><tr><th>19</th><td>anemia</td><td>0.1488409699770888</td></tr><tr><th>20</th><td>pus_cell_clumps</td><td>0.07657110231857284</td></tr><tr><th>21</th><td>bacteria</td><td>0.07462022862745105</td></tr><tr><th>22</th><td>potassium</td><td>0.0720374255775934</td></tr><tr><th>23</th><td>age</td><td>0.06129996810401208</td></tr><tr><th>24</th><td>coronary_artery_disease</td><td>0.02509218813607227</td></tr></tbody></table>"
      ],
      "text/plain": [
       "24×2 DataFrames.DataFrame\n",
       "│ Row │ preds                     │ gini_decrease │\n",
       "├─────┼───────────────────────────┼───────────────┤\n",
       "│ 1   │ \"albumin\"                 │ 10.5288       │\n",
       "│ 2   │ \"serum_creatinine\"        │ 8.49594       │\n",
       "│ 3   │ \"packed_cell_volume\"      │ 8.46403       │\n",
       "│ 4   │ \"hemoglobin\"              │ 8.42965       │\n",
       "│ 5   │ \"red_blood_cell_count\"    │ 6.2716        │\n",
       "│ 6   │ \"specific_gravity\"        │ 5.00724       │\n",
       "│ 7   │ \"blood_urea\"              │ 3.82916       │\n",
       "│ 8   │ \"hypertension\"            │ 3.46274       │\n",
       "│ 9   │ \"pus_cell\"                │ 1.66581       │\n",
       "│ 10  │ \"diabetes_mellitus\"       │ 1.44764       │\n",
       "│ 11  │ \"blood_glucose_random\"    │ 1.12767       │\n",
       "│ 12  │ \"sodium\"                  │ 0.8763        │\n",
       "│ 13  │ \"white_blood_cell_count\"  │ 0.624537      │\n",
       "│ 14  │ \"sugar\"                   │ 0.390784      │\n",
       "│ 15  │ \"pedal_edema\"             │ 0.339301      │\n",
       "│ 16  │ \"red_blood_cells\"         │ 0.298891      │\n",
       "│ 17  │ \"blood_pressure\"          │ 0.290002      │\n",
       "│ 18  │ \"appetite\"                │ 0.238108      │\n",
       "│ 19  │ \"anemia\"                  │ 0.148841      │\n",
       "│ 20  │ \"pus_cell_clumps\"         │ 0.0765711     │\n",
       "│ 21  │ \"bacteria\"                │ 0.0746202     │\n",
       "│ 22  │ \"potassium\"               │ 0.0720374     │\n",
       "│ 23  │ \"age\"                     │ 0.0613        │\n",
       "│ 24  │ \"coronary_artery_disease\" │ 0.0250922     │"
      ]
     },
     "execution_count": 36,
     "metadata": {},
     "output_type": "execute_result"
    }
   ],
   "source": [
    "indcs = sortperm(var_imp_df[:, 2], rev = true)\n",
    "res = var_imp_df[indcs, :]"
   ]
  },
  {
   "cell_type": "code",
   "execution_count": null,
   "metadata": {
    "collapsed": true
   },
   "outputs": [],
   "source": []
  }
 ],
 "metadata": {
  "kernelspec": {
   "display_name": "Julia 0.5.0",
   "language": "julia",
   "name": "julia-0.5"
  },
  "language_info": {
   "file_extension": ".jl",
   "mimetype": "application/julia",
   "name": "julia",
   "version": "0.5.1"
  }
 },
 "nbformat": 4,
 "nbformat_minor": 0
}

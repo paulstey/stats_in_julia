{
 "cells": [
  {
   "cell_type": "markdown",
   "metadata": {},
   "source": [
    "## Question 1"
   ]
  },
  {
   "cell_type": "markdown",
   "metadata": {},
   "source": [
    "Using the stagec dataset from the rpart package in R, find the Gleason score of oldest patient."
   ]
  },
  {
   "cell_type": "code",
   "execution_count": 2,
   "metadata": {
    "collapsed": false
   },
   "outputs": [
    {
     "data": {
      "text/html": [
       "<table class=\"data-frame\"><tr><th></th><th>PgTime</th><th>PgStat</th><th>Age</th><th>EET</th><th>G2</th><th>Grade</th><th>Gleason</th><th>Ploidy</th></tr><tr><th>1</th><td>6.1</td><td>0</td><td>64</td><td>2</td><td>10.26</td><td>2</td><td>4</td><td>diploid</td></tr><tr><th>2</th><td>9.4</td><td>0</td><td>62</td><td>1</td><td>NA</td><td>3</td><td>8</td><td>aneuploid</td></tr><tr><th>3</th><td>5.2</td><td>1</td><td>59</td><td>2</td><td>9.99</td><td>3</td><td>7</td><td>diploid</td></tr><tr><th>4</th><td>3.2</td><td>1</td><td>62</td><td>2</td><td>3.57</td><td>2</td><td>4</td><td>diploid</td></tr><tr><th>5</th><td>1.9</td><td>1</td><td>64</td><td>2</td><td>22.56</td><td>4</td><td>8</td><td>tetraploid</td></tr><tr><th>6</th><td>4.8</td><td>0</td><td>69</td><td>1</td><td>6.14</td><td>3</td><td>7</td><td>diploid</td></tr><tr><th>7</th><td>5.8</td><td>0</td><td>75</td><td>2</td><td>13.69</td><td>2</td><td>NA</td><td>tetraploid</td></tr><tr><th>8</th><td>7.3</td><td>0</td><td>71</td><td>2</td><td>NA</td><td>3</td><td>7</td><td>aneuploid</td></tr><tr><th>9</th><td>3.7</td><td>1</td><td>73</td><td>2</td><td>11.77</td><td>3</td><td>6</td><td>diploid</td></tr><tr><th>10</th><td>15.9</td><td>0</td><td>64</td><td>2</td><td>27.27</td><td>3</td><td>7</td><td>tetraploid</td></tr><tr><th>11</th><td>6.3</td><td>0</td><td>65</td><td>2</td><td>19.34</td><td>3</td><td>7</td><td>tetraploid</td></tr><tr><th>12</th><td>2.9</td><td>1</td><td>58</td><td>2</td><td>14.82</td><td>4</td><td>8</td><td>tetraploid</td></tr><tr><th>13</th><td>1.5</td><td>1</td><td>70</td><td>2</td><td>10.22</td><td>3</td><td>8</td><td>diploid</td></tr><tr><th>14</th><td>14.5</td><td>0</td><td>67</td><td>2</td><td>15.66</td><td>2</td><td>6</td><td>tetraploid</td></tr><tr><th>15</th><td>4.2</td><td>1</td><td>66</td><td>2</td><td>17.79</td><td>3</td><td>7</td><td>tetraploid</td></tr><tr><th>16</th><td>1.7</td><td>1</td><td>74</td><td>2</td><td>11.11</td><td>3</td><td>8</td><td>diploid</td></tr><tr><th>17</th><td>5.0</td><td>0</td><td>70</td><td>2</td><td>11.44</td><td>2</td><td>5</td><td>diploid</td></tr><tr><th>18</th><td>13.2</td><td>0</td><td>57</td><td>2</td><td>14.78</td><td>2</td><td>4</td><td>tetraploid</td></tr><tr><th>19</th><td>10.9</td><td>0</td><td>63</td><td>2</td><td>54.93</td><td>3</td><td>8</td><td>tetraploid</td></tr><tr><th>20</th><td>13.0</td><td>0</td><td>65</td><td>2</td><td>24.58</td><td>3</td><td>7</td><td>tetraploid</td></tr><tr><th>21</th><td>11.4</td><td>0</td><td>62</td><td>2</td><td>27.79</td><td>2</td><td>5</td><td>tetraploid</td></tr><tr><th>22</th><td>2.6</td><td>1</td><td>72</td><td>2</td><td>14.86</td><td>3</td><td>6</td><td>tetraploid</td></tr><tr><th>23</th><td>9.8</td><td>0</td><td>64</td><td>1</td><td>10.51</td><td>2</td><td>5</td><td>diploid</td></tr><tr><th>24</th><td>3.4</td><td>1</td><td>67</td><td>NA</td><td>14.22</td><td>2</td><td>6</td><td>tetraploid</td></tr><tr><th>25</th><td>7.6</td><td>1</td><td>64</td><td>2</td><td>15.28</td><td>2</td><td>5</td><td>tetraploid</td></tr><tr><th>26</th><td>4.8</td><td>1</td><td>70</td><td>2</td><td>16.91</td><td>3</td><td>6</td><td>tetraploid</td></tr><tr><th>27</th><td>3.7</td><td>1</td><td>58</td><td>1</td><td>17.87</td><td>3</td><td>7</td><td>tetraploid</td></tr><tr><th>28</th><td>13.9</td><td>0</td><td>57</td><td>2</td><td>12.13</td><td>3</td><td>6</td><td>diploid</td></tr><tr><th>29</th><td>4.9</td><td>1</td><td>54</td><td>1</td><td>17.25</td><td>2</td><td>5</td><td>tetraploid</td></tr><tr><th>30</th><td>15.9</td><td>0</td><td>61</td><td>1</td><td>16.53</td><td>3</td><td>7</td><td>tetraploid</td></tr><tr><th>&vellip;</th><td>&vellip;</td><td>&vellip;</td><td>&vellip;</td><td>&vellip;</td><td>&vellip;</td><td>&vellip;</td><td>&vellip;</td><td>&vellip;</td></tr></table>"
      ],
      "text/plain": [
       "146×8 DataFrames.DataFrame\n",
       "│ Row │ PgTime │ PgStat │ Age │ EET │ G2    │ Grade │ Gleason │ Ploidy       │\n",
       "├─────┼────────┼────────┼─────┼─────┼───────┼───────┼─────────┼──────────────┤\n",
       "│ 1   │ 6.1    │ 0      │ 64  │ 2   │ 10.26 │ 2     │ 4       │ \"diploid\"    │\n",
       "│ 2   │ 9.4    │ 0      │ 62  │ 1   │ NA    │ 3     │ 8       │ \"aneuploid\"  │\n",
       "│ 3   │ 5.2    │ 1      │ 59  │ 2   │ 9.99  │ 3     │ 7       │ \"diploid\"    │\n",
       "│ 4   │ 3.2    │ 1      │ 62  │ 2   │ 3.57  │ 2     │ 4       │ \"diploid\"    │\n",
       "│ 5   │ 1.9    │ 1      │ 64  │ 2   │ 22.56 │ 4     │ 8       │ \"tetraploid\" │\n",
       "│ 6   │ 4.8    │ 0      │ 69  │ 1   │ 6.14  │ 3     │ 7       │ \"diploid\"    │\n",
       "│ 7   │ 5.8    │ 0      │ 75  │ 2   │ 13.69 │ 2     │ NA      │ \"tetraploid\" │\n",
       "│ 8   │ 7.3    │ 0      │ 71  │ 2   │ NA    │ 3     │ 7       │ \"aneuploid\"  │\n",
       "│ 9   │ 3.7    │ 1      │ 73  │ 2   │ 11.77 │ 3     │ 6       │ \"diploid\"    │\n",
       "│ 10  │ 15.9   │ 0      │ 64  │ 2   │ 27.27 │ 3     │ 7       │ \"tetraploid\" │\n",
       "│ 11  │ 6.3    │ 0      │ 65  │ 2   │ 19.34 │ 3     │ 7       │ \"tetraploid\" │\n",
       "⋮\n",
       "│ 135 │ 6.0    │ 0      │ 52  │ 2   │ 9.9   │ 2     │ 4       │ \"diploid\"    │\n",
       "│ 136 │ 5.4    │ 0      │ 68  │ 2   │ 13.01 │ 2     │ 5       │ \"diploid\"    │\n",
       "│ 137 │ 2.4    │ 0      │ 63  │ 2   │ 4.81  │ 3     │ 8       │ \"diploid\"    │\n",
       "│ 138 │ 4.2    │ 0      │ 67  │ 2   │ 14.71 │ 2     │ 5       │ \"tetraploid\" │\n",
       "│ 139 │ 5.5    │ 0      │ 59  │ 1   │ 9.01  │ 2     │ 5       │ \"diploid\"    │\n",
       "│ 140 │ 5.4    │ 0      │ 57  │ 1   │ 10.9  │ 3     │ 6       │ \"diploid\"    │\n",
       "│ 141 │ 8.2    │ 0      │ 62  │ 2   │ 10.72 │ 3     │ 7       │ \"diploid\"    │\n",
       "│ 142 │ 10.2   │ 0      │ 63  │ 2   │ 5.14  │ 2     │ 5       │ \"diploid\"    │\n",
       "│ 143 │ 2.5    │ 1      │ 73  │ 2   │ 46.92 │ 4     │ 9       │ \"tetraploid\" │\n",
       "│ 144 │ 7.9    │ 0      │ 68  │ 2   │ NA    │ 2     │ 5       │ \"aneuploid\"  │\n",
       "│ 145 │ 5.6    │ 0      │ 51  │ 2   │ 9.59  │ 3     │ 6       │ \"diploid\"    │\n",
       "│ 146 │ 2.1    │ 1      │ 56  │ 2   │ 9.01  │ 3     │ 7       │ \"diploid\"    │"
      ]
     },
     "execution_count": 2,
     "metadata": {},
     "output_type": "execute_result"
    }
   ],
   "source": [
    "using RDatasets\n",
    "stagec = dataset(\"rpart\", \"stagec\")"
   ]
  },
  {
   "cell_type": "code",
   "execution_count": 3,
   "metadata": {
    "collapsed": false
   },
   "outputs": [
    {
     "data": {
      "text/plain": [
       "2-element DataArrays.DataArray{Int32,1}:\n",
       "  NA\n",
       " 7  "
      ]
     },
     "execution_count": 3,
     "metadata": {},
     "output_type": "execute_result"
    }
   ],
   "source": [
    "maxage = maximum(stagec[:Age])   \n",
    "\n",
    "is_oldest = stagec[:Age] .== maxage \n",
    "stagec[is_oldest, :Gleason]"
   ]
  },
  {
   "cell_type": "markdown",
   "metadata": {},
   "source": [
    "---"
   ]
  },
  {
   "cell_type": "markdown",
   "metadata": {},
   "source": [
    "# Question 2"
   ]
  },
  {
   "cell_type": "markdown",
   "metadata": {},
   "source": [
    "Using the stagec dataset from above, determine if patients with tetraploidy tumors have higher Gleason scores than patients with diploid tumors."
   ]
  },
  {
   "cell_type": "code",
   "execution_count": 4,
   "metadata": {
    "collapsed": false
   },
   "outputs": [
    {
     "data": {
      "text/plain": [
       "Two sample t-test (equal variance)\n",
       "----------------------------------\n",
       "Population details:\n",
       "    parameter of interest:   Mean difference\n",
       "    value under h_0:         0\n",
       "    point estimate:          0.7033295063145806\n",
       "    95% confidence interval: (0.2520598786091346,1.1545991340200266)\n",
       "\n",
       "Test summary:\n",
       "    outcome with 95% confidence: reject h_0\n",
       "    two-sided p-value:           0.0024996266792327855 (very significant)\n",
       "\n",
       "Details:\n",
       "    number of observations:   [67,65]\n",
       "    t-statistic:              3.083418932802007\n",
       "    degrees of freedom:       130\n",
       "    empirical standard error: 0.22810053438811873\n"
      ]
     },
     "execution_count": 4,
     "metadata": {},
     "output_type": "execute_result"
    }
   ],
   "source": [
    "using RDatasets\n",
    "using HypothesisTests\n",
    "\n",
    "stagec = dataset(\"rpart\", \"stagec\")\n",
    "\n",
    "# get row indices\n",
    "tetra_idx = find(stagec[:Ploidy] .== \"tetraploid\");\n",
    "dip_idx = find(stagec[:Ploidy] .== \"diploid\");\n",
    "\n",
    "# get Gleason scores\n",
    "tetra_grp = stagec[tetra_idx, :Gleason];\n",
    "dip_grp = stagec[dip_idx, :Gleason];\n",
    "\n",
    "EqualVarianceTTest(dropna(tetra_grp), dropna(dip_grp))"
   ]
  },
  {
   "cell_type": "markdown",
   "metadata": {},
   "source": [
    "---"
   ]
  },
  {
   "cell_type": "markdown",
   "metadata": {},
   "source": [
    "## Question 3"
   ]
  },
  {
   "cell_type": "markdown",
   "metadata": {},
   "source": [
    "Option 1: Create a box-and-whisker plot of the two groups' data described in Question 2 above. \n",
    "\n",
    "Option 2: Create a plot of the distributions of the two groups' data described in Question 2."
   ]
  },
  {
   "cell_type": "code",
   "execution_count": 16,
   "metadata": {
    "collapsed": false
   },
   "outputs": [
    {
     "data": {
      "text/plain": [
       "Plots.PyPlotBackend()"
      ]
     },
     "execution_count": 16,
     "metadata": {},
     "output_type": "execute_result"
    }
   ],
   "source": [
    "using Plots\n",
    "using RDatasets\n",
    "\n",
    "pyplot()"
   ]
  },
  {
   "cell_type": "code",
   "execution_count": 4,
   "metadata": {
    "collapsed": false
   },
   "outputs": [
    {
     "data": {
      "text/html": [
       "<img src=\"data:image/png;base64,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\" />"
      ]
     },
     "execution_count": 4,
     "metadata": {},
     "output_type": "execute_result"
    }
   ],
   "source": [
    "using RDatasets\n",
    "using StatPlots\n",
    "\n",
    "stagec = dataset(\"rpart\", \"stagec\")\n",
    "\n",
    "# Need to remove NA and by Ploidy type\n",
    "filtered_stagec = stagec[((stagec[:Ploidy] .== \"diploid\") | (stagec[:Ploidy].==\"tetraploid\")) & !isna(stagec[:Gleason]), :]\n",
    "\n",
    "# Boxplot seems to work with dataframes this way\n",
    "boxplot(filtered_stagec,:Ploidy,:Gleason,marker=(0.3,:orange,stroke(2)))"
   ]
  },
  {
   "cell_type": "code",
   "execution_count": 38,
   "metadata": {
    "collapsed": false
   },
   "outputs": [
    {
     "data": {
      "text/html": [
       "<img src=\"data:image/png;base64,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\" />"
      ]
     },
     "execution_count": 38,
     "metadata": {},
     "output_type": "execute_result"
    }
   ],
   "source": [
    "stagec = dataset(\"rpart\", \"stagec\")\n",
    "\n",
    "# get row indices\n",
    "tetra_idx = find(stagec[:Ploidy] .== \"tetraploid\");\n",
    "dip_idx = find(stagec[:Ploidy] .== \"diploid\");\n",
    "\n",
    "# get Gleason scores\n",
    "tetra_grp = stagec[tetra_idx, :Gleason];\n",
    "dip_grp = stagec[dip_idx, :Gleason];\n",
    "\n",
    "\n",
    "histogram(dropna(tetra_grp), line = \"white\", color = \"blue\", alpha = 0.5)\n",
    "histogram!(dropna(dip_grp), line = \"white\", color = \"purple\", alpha = 0.5)"
   ]
  },
  {
   "cell_type": "markdown",
   "metadata": {},
   "source": [
    "## Question 4"
   ]
  },
  {
   "cell_type": "markdown",
   "metadata": {},
   "source": [
    "A key assumption of inference with linear regression is the normality of error terms. A simple but effective way to check this assumption is to examine a plot of the distribution of the fitted model's residual.\n",
    "Create a plot to check the assumption of normality of error terms for model fm3 above."
   ]
  },
  {
   "cell_type": "code",
   "execution_count": 2,
   "metadata": {
    "collapsed": false
   },
   "outputs": [
    {
     "name": "stderr",
     "output_type": "stream",
     "text": [
      "\u001b[1m\u001b[34mINFO: Recompiling stale cache file /Users/pstey/.julia/lib/v0.5/FixedSizeArrays.ji for module FixedSizeArrays.\n",
      "\u001b[0m\u001b[1m\u001b[34mINFO: Recompiling stale cache file /Users/pstey/.julia/lib/v0.5/PlotUtils.ji for module PlotUtils.\n",
      "\u001b[0m\u001b[1m\u001b[34mINFO: Recompiling stale cache file /Users/pstey/.julia/lib/v0.5/PlotThemes.ji for module PlotThemes.\n",
      "\u001b[0m\u001b[1m\u001b[34mINFO: Recompiling stale cache file /Users/pstey/.julia/lib/v0.5/Showoff.ji for module Showoff.\n",
      "\u001b[0m\u001b[1m\u001b[34mINFO: Recompiling stale cache file /Users/pstey/.julia/lib/v0.5/Measures.ji for module Measures.\n",
      "\u001b[0m\u001b[1m\u001b[34mINFO: Recompiling stale cache file /Users/pstey/.julia/lib/v0.5/GLM.ji for module GLM.\n",
      "\u001b[0m\u001b[1m\u001b[34mINFO: Precompiling module PyPlot.\n",
      "\u001b[0m\u001b[1m\u001b[34mINFO: Installing matplotlib via the Conda matplotlib package...\n",
      "\u001b[0m"
     ]
    },
    {
     "name": "stdout",
     "output_type": "stream",
     "text": [
      "Fetching package metadata .........\n",
      "Solving package specifications: .\n",
      "\n",
      "Package plan for installation in environment /Users/pstey/.julia/v0.5/Conda/deps/usr:\n",
      "\n",
      "The following NEW packages will be INSTALLED:\n",
      "\n",
      "    cycler:          0.10.0-py27_0    \n",
      "    freetype:        2.5.5-2          \n",
      "    functools32:     3.2.3.2-py27_0   \n",
      "    icu:             54.1-0           \n",
      "    libpng:          1.6.27-0         \n",
      "    matplotlib:      2.0.0-np112py27_0\n",
      "    pyparsing:       2.1.4-py27_0     \n",
      "    pyqt:            5.6.0-py27_2     \n",
      "    python-dateutil: 2.6.0-py27_0     \n",
      "    pytz:            2016.10-py27_0   \n",
      "    qt:              5.6.2-0          \n",
      "    sip:             4.18-py27_0      \n",
      "    subprocess32:    3.2.7-py27_0     \n",
      "\n",
      "The following packages will be UPDATED:\n",
      "\n",
      "    conda:           4.3.13-py27_0     --> 4.3.14-py27_0\n",
      "\n",
      "icu-54.1-0.tar 100% |###############################| Time: 0:00:00  11.52 MB/s\n",
      "libpng-1.6.27- 100% |###############################| Time: 0:00:00  12.62 MB/s\n",
      "qt-5.6.2-0.tar 100% |###############################| Time: 0:00:05  11.79 MB/s            | Time: 0:00:00  11.67 MB/s                            | Time: 0:00:00  11.77 MB/s-0.tar  11% |###                            | Time: 0:00:00  11.78 MB/s79 MB/sme: 0:00:01  11.79 MB/s            | Time: 0:00:01  11.79 MB/s######                      | Time: 0:00:01  11.79 MB/s-0.tar  35% |###########                    | Time: 0:00:02  11.79 MB/s79 MB/sme: 0:00:02  11.79 MB/s            | Time: 0:00:02  11.79 MB/s##############              | Time: 0:00:03  11.79 MB/s-0.tar  59% |##################             | Time: 0:00:03  11.79 MB/s79 MB/sme: 0:00:04  11.79 MB/s####        | Time: 0:00:04  11.80 MB/s#####################       | Time: 0:00:04  11.80 MB/s-0.tar  84% |##########################     | Time: 0:00:04  11.80 MB/s80 MB/sme: 0:00:05  11.80 MB/s########### | Time: 0:00:05  11.80 MB/s\n",
      "freetype-2.5.5 100% |###############################| Time: 0:00:00  11.33 MB/s\n",
      "functools32-3. 100% |###############################| Time: 0:00:00  27.00 MB/s\n",
      "pyparsing-2.1. 100% |###############################| Time: 0:00:00  15.63 MB/s\n",
      "pytz-2016.10-p 100% |###############################| Time: 0:00:00  12.96 MB/s\n",
      "sip-4.18-py27_ 100% |###############################| Time: 0:00:00  12.65 MB/s\n",
      "subprocess32-3 100% |###############################| Time: 0:00:00  21.65 MB/s\n",
      "cycler-0.10.0- 100% |###############################| Time: 0:00:00  11.67 MB/s\n",
      "pyqt-5.6.0-py2 100% |###############################| Time: 0:00:00  11.61 MB/s16% |#####                          | Time: 0:00:00  11.89 MB/s\n",
      "python-dateuti 100% |###############################| Time: 0:00:00  12.73 MB/s\n",
      "matplotlib-2.0 100% |###############################| Time: 0:00:00  11.78 MB/s00:00  11.82 MB/s      | Time: 0:00:00  11.80 MB/s\n",
      "conda-4.3.14-p 100% |###############################| Time: 0:00:00  12.20 MB/s\n"
     ]
    },
    {
     "name": "stderr",
     "output_type": "stream",
     "text": [
      "\u001b[1m\u001b[34mINFO: Recompiling stale cache file /Users/pstey/.julia/lib/v0.5/RData.ji for module RData.\n",
      "\u001b[0m"
     ]
    },
    {
     "data": {
      "text/html": [
       "<table class=\"data-frame\"><thead><tr><th></th><th>PgTime</th><th>PgStat</th><th>Age</th><th>EET</th><th>G2</th><th>Grade</th><th>Gleason</th><th>Ploidy</th></tr></thead><tbody><tr><th>1</th><td>6.1</td><td>0</td><td>64</td><td>2</td><td>10.26</td><td>2</td><td>4</td><td>diploid</td></tr><tr><th>2</th><td>9.4</td><td>0</td><td>62</td><td>1</td><td>NA</td><td>3</td><td>8</td><td>aneuploid</td></tr><tr><th>3</th><td>5.2</td><td>1</td><td>59</td><td>2</td><td>9.99</td><td>3</td><td>7</td><td>diploid</td></tr><tr><th>4</th><td>3.2</td><td>1</td><td>62</td><td>2</td><td>3.57</td><td>2</td><td>4</td><td>diploid</td></tr><tr><th>5</th><td>1.9</td><td>1</td><td>64</td><td>2</td><td>22.56</td><td>4</td><td>8</td><td>tetraploid</td></tr><tr><th>6</th><td>4.8</td><td>0</td><td>69</td><td>1</td><td>6.14</td><td>3</td><td>7</td><td>diploid</td></tr><tr><th>7</th><td>5.8</td><td>0</td><td>75</td><td>2</td><td>13.69</td><td>2</td><td>NA</td><td>tetraploid</td></tr><tr><th>8</th><td>7.3</td><td>0</td><td>71</td><td>2</td><td>NA</td><td>3</td><td>7</td><td>aneuploid</td></tr><tr><th>9</th><td>3.7</td><td>1</td><td>73</td><td>2</td><td>11.77</td><td>3</td><td>6</td><td>diploid</td></tr><tr><th>10</th><td>15.9</td><td>0</td><td>64</td><td>2</td><td>27.27</td><td>3</td><td>7</td><td>tetraploid</td></tr><tr><th>11</th><td>6.3</td><td>0</td><td>65</td><td>2</td><td>19.34</td><td>3</td><td>7</td><td>tetraploid</td></tr><tr><th>12</th><td>2.9</td><td>1</td><td>58</td><td>2</td><td>14.82</td><td>4</td><td>8</td><td>tetraploid</td></tr><tr><th>13</th><td>1.5</td><td>1</td><td>70</td><td>2</td><td>10.22</td><td>3</td><td>8</td><td>diploid</td></tr><tr><th>14</th><td>14.5</td><td>0</td><td>67</td><td>2</td><td>15.66</td><td>2</td><td>6</td><td>tetraploid</td></tr><tr><th>15</th><td>4.2</td><td>1</td><td>66</td><td>2</td><td>17.79</td><td>3</td><td>7</td><td>tetraploid</td></tr><tr><th>16</th><td>1.7</td><td>1</td><td>74</td><td>2</td><td>11.11</td><td>3</td><td>8</td><td>diploid</td></tr><tr><th>17</th><td>5.0</td><td>0</td><td>70</td><td>2</td><td>11.44</td><td>2</td><td>5</td><td>diploid</td></tr><tr><th>18</th><td>13.2</td><td>0</td><td>57</td><td>2</td><td>14.78</td><td>2</td><td>4</td><td>tetraploid</td></tr><tr><th>19</th><td>10.9</td><td>0</td><td>63</td><td>2</td><td>54.93</td><td>3</td><td>8</td><td>tetraploid</td></tr><tr><th>20</th><td>13.0</td><td>0</td><td>65</td><td>2</td><td>24.58</td><td>3</td><td>7</td><td>tetraploid</td></tr><tr><th>21</th><td>11.4</td><td>0</td><td>62</td><td>2</td><td>27.79</td><td>2</td><td>5</td><td>tetraploid</td></tr><tr><th>22</th><td>2.6</td><td>1</td><td>72</td><td>2</td><td>14.86</td><td>3</td><td>6</td><td>tetraploid</td></tr><tr><th>23</th><td>9.8</td><td>0</td><td>64</td><td>1</td><td>10.51</td><td>2</td><td>5</td><td>diploid</td></tr><tr><th>24</th><td>3.4</td><td>1</td><td>67</td><td>NA</td><td>14.22</td><td>2</td><td>6</td><td>tetraploid</td></tr><tr><th>25</th><td>7.6</td><td>1</td><td>64</td><td>2</td><td>15.28</td><td>2</td><td>5</td><td>tetraploid</td></tr><tr><th>26</th><td>4.8</td><td>1</td><td>70</td><td>2</td><td>16.91</td><td>3</td><td>6</td><td>tetraploid</td></tr><tr><th>27</th><td>3.7</td><td>1</td><td>58</td><td>1</td><td>17.87</td><td>3</td><td>7</td><td>tetraploid</td></tr><tr><th>28</th><td>13.9</td><td>0</td><td>57</td><td>2</td><td>12.13</td><td>3</td><td>6</td><td>diploid</td></tr><tr><th>29</th><td>4.9</td><td>1</td><td>54</td><td>1</td><td>17.25</td><td>2</td><td>5</td><td>tetraploid</td></tr><tr><th>30</th><td>15.9</td><td>0</td><td>61</td><td>1</td><td>16.53</td><td>3</td><td>7</td><td>tetraploid</td></tr><tr><th>&vellip;</th><td>&vellip;</td><td>&vellip;</td><td>&vellip;</td><td>&vellip;</td><td>&vellip;</td><td>&vellip;</td><td>&vellip;</td><td>&vellip;</td></tr></tbody></table>"
      ],
      "text/plain": [
       "146×8 DataFrames.DataFrame\n",
       "│ Row │ PgTime │ PgStat │ Age │ EET │ G2    │ Grade │ Gleason │ Ploidy       │\n",
       "├─────┼────────┼────────┼─────┼─────┼───────┼───────┼─────────┼──────────────┤\n",
       "│ 1   │ 6.1    │ 0      │ 64  │ 2   │ 10.26 │ 2     │ 4       │ \"diploid\"    │\n",
       "│ 2   │ 9.4    │ 0      │ 62  │ 1   │ NA    │ 3     │ 8       │ \"aneuploid\"  │\n",
       "│ 3   │ 5.2    │ 1      │ 59  │ 2   │ 9.99  │ 3     │ 7       │ \"diploid\"    │\n",
       "│ 4   │ 3.2    │ 1      │ 62  │ 2   │ 3.57  │ 2     │ 4       │ \"diploid\"    │\n",
       "│ 5   │ 1.9    │ 1      │ 64  │ 2   │ 22.56 │ 4     │ 8       │ \"tetraploid\" │\n",
       "│ 6   │ 4.8    │ 0      │ 69  │ 1   │ 6.14  │ 3     │ 7       │ \"diploid\"    │\n",
       "│ 7   │ 5.8    │ 0      │ 75  │ 2   │ 13.69 │ 2     │ NA      │ \"tetraploid\" │\n",
       "│ 8   │ 7.3    │ 0      │ 71  │ 2   │ NA    │ 3     │ 7       │ \"aneuploid\"  │\n",
       "│ 9   │ 3.7    │ 1      │ 73  │ 2   │ 11.77 │ 3     │ 6       │ \"diploid\"    │\n",
       "│ 10  │ 15.9   │ 0      │ 64  │ 2   │ 27.27 │ 3     │ 7       │ \"tetraploid\" │\n",
       "│ 11  │ 6.3    │ 0      │ 65  │ 2   │ 19.34 │ 3     │ 7       │ \"tetraploid\" │\n",
       "⋮\n",
       "│ 135 │ 6.0    │ 0      │ 52  │ 2   │ 9.9   │ 2     │ 4       │ \"diploid\"    │\n",
       "│ 136 │ 5.4    │ 0      │ 68  │ 2   │ 13.01 │ 2     │ 5       │ \"diploid\"    │\n",
       "│ 137 │ 2.4    │ 0      │ 63  │ 2   │ 4.81  │ 3     │ 8       │ \"diploid\"    │\n",
       "│ 138 │ 4.2    │ 0      │ 67  │ 2   │ 14.71 │ 2     │ 5       │ \"tetraploid\" │\n",
       "│ 139 │ 5.5    │ 0      │ 59  │ 1   │ 9.01  │ 2     │ 5       │ \"diploid\"    │\n",
       "│ 140 │ 5.4    │ 0      │ 57  │ 1   │ 10.9  │ 3     │ 6       │ \"diploid\"    │\n",
       "│ 141 │ 8.2    │ 0      │ 62  │ 2   │ 10.72 │ 3     │ 7       │ \"diploid\"    │\n",
       "│ 142 │ 10.2   │ 0      │ 63  │ 2   │ 5.14  │ 2     │ 5       │ \"diploid\"    │\n",
       "│ 143 │ 2.5    │ 1      │ 73  │ 2   │ 46.92 │ 4     │ 9       │ \"tetraploid\" │\n",
       "│ 144 │ 7.9    │ 0      │ 68  │ 2   │ NA    │ 2     │ 5       │ \"aneuploid\"  │\n",
       "│ 145 │ 5.6    │ 0      │ 51  │ 2   │ 9.59  │ 3     │ 6       │ \"diploid\"    │\n",
       "│ 146 │ 2.1    │ 1      │ 56  │ 2   │ 9.01  │ 3     │ 7       │ \"diploid\"    │"
      ]
     },
     "execution_count": 2,
     "metadata": {},
     "output_type": "execute_result"
    }
   ],
   "source": [
    "using Plots\n",
    "using GLM\n",
    "using RDatasets\n",
    "\n",
    "pyplot()\n",
    "\n",
    "stagec = dataset(\"rpart\", \"stagec\")\n"
   ]
  },
  {
   "cell_type": "code",
   "execution_count": 4,
   "metadata": {
    "collapsed": false
   },
   "outputs": [
    {
     "data": {
      "text/plain": [
       "DataFrames.DataFrameRegressionModel{GLM.LinearModel{GLM.LmResp{Array{Float64,1}},GLM.DensePredQR{Float64}},Array{Float64,2}}\n",
       "\n",
       "Formula: G2 ~ 1 + Age + Gleason + Grade\n",
       "\n",
       "Coefficients:\n",
       "             Estimate Std.Error  t value Pr(>|t|)\n",
       "(Intercept)  -9.19135   8.15383 -1.12724   0.2617\n",
       "Age          0.178597  0.117116  1.52496   0.1297\n",
       "Gleason       1.76439  0.872139  2.02306   0.0451\n",
       "Grade        0.472942   1.99455 0.237116   0.8129\n"
      ]
     },
     "execution_count": 4,
     "metadata": {},
     "output_type": "execute_result"
    }
   ],
   "source": [
    "fm3 = lm(G2 ~ 1 + Age + Gleason + Grade, stagec)"
   ]
  },
  {
   "cell_type": "code",
   "execution_count": 5,
   "metadata": {
    "collapsed": false
   },
   "outputs": [
    {
     "data": {
      "text/plain": [
       "136-element Array{Float64,1}:\n",
       "   0.0177294\n",
       "  -5.1254   \n",
       "  -6.31508  \n",
       "   4.31429  \n",
       " -10.7614   \n",
       "  -4.08136  \n",
       "  11.2616   \n",
       "   3.15302  \n",
       "  -2.35413  \n",
       "  -8.62435  \n",
       "   1.35316  \n",
       "   1.42443  \n",
       "  -8.44874  \n",
       "   ⋮        \n",
       "  -3.4254   \n",
       "   1.80089  \n",
       "   0.288953 \n",
       " -12.7842   \n",
       "   2.16755  \n",
       "  -2.10368  \n",
       "  -2.09382  \n",
       "  -4.93119  \n",
       "  -6.68806  \n",
       "  25.3025   \n",
       "  -2.33224  \n",
       "  -5.56961  "
      ]
     },
     "execution_count": 5,
     "metadata": {},
     "output_type": "execute_result"
    }
   ],
   "source": [
    "resid = residuals(fm3)"
   ]
  },
  {
   "cell_type": "code",
   "execution_count": 6,
   "metadata": {
    "collapsed": false
   },
   "outputs": [
    {
     "data": {
      "text/html": [
       "<img src=\"data:image/png;base64,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\" />"
      ]
     },
     "execution_count": 6,
     "metadata": {},
     "output_type": "execute_result"
    },
    {
     "name": "stderr",
     "output_type": "stream",
     "text": [
      "sys:1: MatplotlibDeprecationWarning: The set_axis_bgcolor function was deprecated in version 2.0. Use set_facecolor instead.\n"
     ]
    }
   ],
   "source": [
    "histogram(resid, line = \"white\", color = \"lightblue\")"
   ]
  },
  {
   "cell_type": "markdown",
   "metadata": {},
   "source": [
    "---"
   ]
  },
  {
   "cell_type": "markdown",
   "metadata": {},
   "source": [
    "## Question 5"
   ]
  },
  {
   "cell_type": "code",
   "execution_count": 9,
   "metadata": {
    "collapsed": false
   },
   "outputs": [
    {
     "name": "stderr",
     "output_type": "stream",
     "text": [
      "\n",
      "WARNING: deprecated syntax \"[a=>b for (a,b) in c]\".\n",
      "Use \"Dict(a=>b for (a,b) in c)\" instead.\n"
     ]
    }
   ],
   "source": [
    "using RDatasets\n",
    "using DecisionTree\n",
    "\n",
    "aldh2 = dataset(\"gap\", \"aldh2\");"
   ]
  },
  {
   "cell_type": "code",
   "execution_count": 10,
   "metadata": {
    "collapsed": false
   },
   "outputs": [
    {
     "data": {
      "text/plain": [
       "Ensemble of Decision Trees\n",
       "Trees:      100\n",
       "Avg Leaves: 58.04\n",
       "Avg Depth:  13.33"
      ]
     },
     "execution_count": 10,
     "metadata": {},
     "output_type": "execute_result"
    }
   ],
   "source": [
    "# must convert to Array\n",
    "y = convert(Array{Float64,1}, aldh2[:Y])\n",
    "X = convert(Array{Float64,2}, aldh2[:, 3:end])\n",
    "\n",
    "# fit model\n",
    "fm10 = build_forest(y, X, 2, 100)"
   ]
  },
  {
   "cell_type": "code",
   "execution_count": 11,
   "metadata": {
    "collapsed": false
   },
   "outputs": [
    {
     "data": {
      "text/plain": [
       "0.9695817490494296"
      ]
     },
     "execution_count": 11,
     "metadata": {},
     "output_type": "execute_result"
    }
   ],
   "source": [
    "# get prediction accuracy\n",
    "yhat_bool = apply_forest(fm10, X) .> 0.5\n",
    "ybool = y .== 1\n",
    "mean(ybool .== yhat_bool)"
   ]
  },
  {
   "cell_type": "code",
   "execution_count": null,
   "metadata": {
    "collapsed": true
   },
   "outputs": [],
   "source": []
  }
 ],
 "metadata": {
  "kernelspec": {
   "display_name": "Julia 0.5.0",
   "language": "julia",
   "name": "julia-0.5"
  },
  "language_info": {
   "file_extension": ".jl",
   "mimetype": "application/julia",
   "name": "julia",
   "version": "0.5.0"
  }
 },
 "nbformat": 4,
 "nbformat_minor": 0
}

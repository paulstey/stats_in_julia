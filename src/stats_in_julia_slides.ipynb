{
 "cells": [
  {
   "cell_type": "markdown",
   "metadata": {
    "slideshow": {
     "slide_type": "slide"
    }
   },
   "source": [
    "<h1><center>Introduction to Statsitics and Machine Learning in Julia</center></h1>\n",
    "<h2><center>Paul Stey, PhD</center></h2>\n",
    "<h2><center>Brown Center for Biomedical Informatics</center></h2>\n",
    "<h2><center>April 4, 2017</center></h2>\n",
    "\n"
   ]
  },
  {
   "cell_type": "markdown",
   "metadata": {
    "slideshow": {
     "slide_type": "slide"
    }
   },
   "source": [
    "# Vectors, Matrices, and _N_-Dimensional Arrays\n",
    "\n",
    "- All native types in Julia (part of `Base` Julia)\n",
    "- Behave very similarly to counterparts in R, Python, and Matlab"
   ]
  },
  {
   "cell_type": "markdown",
   "metadata": {
    "slideshow": {
     "slide_type": "slide"
    }
   },
   "source": [
    "## Vectors\n",
    "\n",
    "- Vectors in Julia are 1-dimensional arrays\n",
    "- Arrays are containers\n",
    "- Arrays (and therefore vectors) can store objects of any type\n",
    "  + For example: `Int`, `Float64`, `String`, `Dict`, `Function`\n",
    "  + This includes other arrays (i.e., array of arrays)"
   ]
  },
  {
   "cell_type": "code",
   "execution_count": null,
   "metadata": {
    "collapsed": false,
    "slideshow": {
     "slide_type": "fragment"
    }
   },
   "outputs": [],
   "source": [
    "v = [4, 5, 6]"
   ]
  },
  {
   "cell_type": "code",
   "execution_count": null,
   "metadata": {
    "collapsed": false,
    "slideshow": {
     "slide_type": "fragment"
    }
   },
   "outputs": [],
   "source": [
    "u = [1.2, 4.5, 6.5]"
   ]
  },
  {
   "cell_type": "code",
   "execution_count": null,
   "metadata": {
    "collapsed": false,
    "slideshow": {
     "slide_type": "fragment"
    }
   },
   "outputs": [],
   "source": [
    "w = [\"dog\", \"cat\", \"bird\"]"
   ]
  },
  {
   "cell_type": "markdown",
   "metadata": {
    "slideshow": {
     "slide_type": "slide"
    }
   },
   "source": [
    "### Initializing and Growing Vectors"
   ]
  },
  {
   "cell_type": "code",
   "execution_count": null,
   "metadata": {
    "collapsed": false,
    "scrolled": true,
    "slideshow": {
     "slide_type": "fragment"
    }
   },
   "outputs": [],
   "source": [
    "a = Int[]                       # initialize empty Int vector"
   ]
  },
  {
   "cell_type": "code",
   "execution_count": null,
   "metadata": {
    "collapsed": true,
    "slideshow": {
     "slide_type": "fragment"
    }
   },
   "outputs": [],
   "source": [
    "a2 = Array{Int, 1}()            # identical to the above   "
   ]
  },
  {
   "cell_type": "code",
   "execution_count": null,
   "metadata": {
    "collapsed": true,
    "slideshow": {
     "slide_type": "fragment"
    }
   },
   "outputs": [],
   "source": [
    "a3 = Vector{Int}()              # also identical to above"
   ]
  },
  {
   "cell_type": "code",
   "execution_count": null,
   "metadata": {
    "collapsed": false,
    "slideshow": {
     "slide_type": "fragment"
    }
   },
   "outputs": [],
   "source": [
    "push!(a, 12)                    # inserts 12 in to a "
   ]
  },
  {
   "cell_type": "code",
   "execution_count": null,
   "metadata": {
    "collapsed": false,
    "slideshow": {
     "slide_type": "fragment"
    }
   },
   "outputs": [],
   "source": [
    "push!(a, 1000)"
   ]
  },
  {
   "cell_type": "code",
   "execution_count": null,
   "metadata": {
    "collapsed": false,
    "slideshow": {
     "slide_type": "fragment"
    }
   },
   "outputs": [],
   "source": [
    "append!(a, [9, 18, 27])"
   ]
  },
  {
   "cell_type": "markdown",
   "metadata": {},
   "source": [
    "### Types Matter"
   ]
  },
  {
   "cell_type": "code",
   "execution_count": null,
   "metadata": {
    "collapsed": true,
    "slideshow": {
     "slide_type": "fragment"
    }
   },
   "outputs": [],
   "source": [
    "a = [3, 4, 5]                   # vector of Int64s "
   ]
  },
  {
   "cell_type": "code",
   "execution_count": null,
   "metadata": {
    "collapsed": false,
    "slideshow": {
     "slide_type": "fragment"
    }
   },
   "outputs": [],
   "source": [
    "push!(a, 3.14)                  # Fail: trying to push Float into vector of Ints"
   ]
  },
  {
   "cell_type": "code",
   "execution_count": null,
   "metadata": {
    "collapsed": false,
    "slideshow": {
     "slide_type": "fragment"
    }
   },
   "outputs": [],
   "source": [
    "s = String[]                    # initialize empty vector of strings"
   ]
  },
  {
   "cell_type": "code",
   "execution_count": null,
   "metadata": {
    "collapsed": false,
    "slideshow": {
     "slide_type": "fragment"
    }
   },
   "outputs": [],
   "source": [
    "push!(s, \"this\")\n",
    "push!(s, \"is\")\n",
    "push!(s, \"a string vector\")"
   ]
  },
  {
   "cell_type": "code",
   "execution_count": null,
   "metadata": {
    "collapsed": false
   },
   "outputs": [],
   "source": [
    "push!(s, e)"
   ]
  },
  {
   "cell_type": "markdown",
   "metadata": {
    "slideshow": {
     "slide_type": "slide"
    }
   },
   "source": [
    "### Pre-Allocating Vector\n",
    "- Almost always a good idea to pre-allocate vectors (if possible)\n",
    "- Has performance advantages\n",
    "  + Growing a vector is 2 operations vs 1\n",
    "- Forces you to think more about what your code is accomplishing\n",
    "- Self-documenting final size of your vector"
   ]
  },
  {
   "cell_type": "code",
   "execution_count": null,
   "metadata": {
    "collapsed": false,
    "slideshow": {
     "slide_type": "fragment"
    }
   },
   "outputs": [],
   "source": [
    "x1 = zeros(Int, 10)             # create vector of ten 0s of type Int64"
   ]
  },
  {
   "cell_type": "code",
   "execution_count": null,
   "metadata": {
    "collapsed": false,
    "slideshow": {
     "slide_type": "fragment"
    }
   },
   "outputs": [],
   "source": [
    "x2 = falses(5)                 # create vector of 5 Bool set to false"
   ]
  },
  {
   "cell_type": "markdown",
   "metadata": {
    "slideshow": {
     "slide_type": "slide"
    }
   },
   "source": [
    "### Indexing a Vector\n",
    "- Nearly identical to indexing in R, Python, and Matlab\n",
    "- Julia used 1-based indexing (like R and Matlab)"
   ]
  },
  {
   "cell_type": "code",
   "execution_count": null,
   "metadata": {
    "collapsed": false
   },
   "outputs": [],
   "source": [
    "s = [\"this\", \"is\", \"a string vector\"]"
   ]
  },
  {
   "cell_type": "code",
   "execution_count": null,
   "metadata": {
    "collapsed": false,
    "slideshow": {
     "slide_type": "fragment"
    }
   },
   "outputs": [],
   "source": [
    "s[2]                            # get second element"
   ]
  },
  {
   "cell_type": "code",
   "execution_count": null,
   "metadata": {
    "collapsed": false,
    "slideshow": {
     "slide_type": "fragment"
    }
   },
   "outputs": [],
   "source": [
    "s[3]                            # third element"
   ]
  },
  {
   "cell_type": "code",
   "execution_count": null,
   "metadata": {
    "collapsed": false,
    "slideshow": {
     "slide_type": "fragment"
    }
   },
   "outputs": [],
   "source": [
    "s[1] = \"that\"                   # assign to first element"
   ]
  },
  {
   "cell_type": "code",
   "execution_count": null,
   "metadata": {
    "collapsed": false,
    "slideshow": {
     "slide_type": "fragment"
    }
   },
   "outputs": [],
   "source": [
    "s"
   ]
  },
  {
   "cell_type": "markdown",
   "metadata": {
    "slideshow": {
     "slide_type": "slide"
    }
   },
   "source": [
    "### Slicing and Subsetting a Vector"
   ]
  },
  {
   "cell_type": "code",
   "execution_count": null,
   "metadata": {
    "collapsed": false,
    "slideshow": {
     "slide_type": "fragment"
    }
   },
   "outputs": [],
   "source": [
    "s[1:2]                          # get subset of vector (1st and 2nd elements)"
   ]
  },
  {
   "cell_type": "code",
   "execution_count": null,
   "metadata": {
    "collapsed": false,
    "slideshow": {
     "slide_type": "fragment"
    }
   },
   "outputs": [],
   "source": [
    "s[2:end]                        # subset from 2nd element to last element"
   ]
  },
  {
   "cell_type": "code",
   "execution_count": null,
   "metadata": {
    "collapsed": false,
    "slideshow": {
     "slide_type": "fragment"
    }
   },
   "outputs": [],
   "source": [
    "animals = [\"dog\", \"cat\", \"fish\", \"mouse\", \"potato\"]"
   ]
  },
  {
   "cell_type": "code",
   "execution_count": null,
   "metadata": {
    "collapsed": false,
    "slideshow": {
     "slide_type": "fragment"
    }
   },
   "outputs": [],
   "source": [
    "mammals_indcs = [1, 2, 4]       # vector for indexing "
   ]
  },
  {
   "cell_type": "code",
   "execution_count": null,
   "metadata": {
    "collapsed": false
   },
   "outputs": [],
   "source": [
    "animals[mammals_indcs]          # identical to `animals[[1, 2, 4]]`"
   ]
  },
  {
   "cell_type": "markdown",
   "metadata": {
    "slideshow": {
     "slide_type": "slide"
    }
   },
   "source": [
    "### Element-Wise Operations\n",
    "Element-wise operations on vectors in Julia are performed using the . operator, often called the broadcasting operator."
   ]
  },
  {
   "cell_type": "code",
   "execution_count": null,
   "metadata": {
    "collapsed": false,
    "slideshow": {
     "slide_type": "fragment"
    }
   },
   "outputs": [],
   "source": [
    "b = [1, 2, 3, 2]"
   ]
  },
  {
   "cell_type": "code",
   "execution_count": null,
   "metadata": {
    "collapsed": false,
    "slideshow": {
     "slide_type": "fragment"
    }
   },
   "outputs": [],
   "source": [
    "b .== 2"
   ]
  },
  {
   "cell_type": "code",
   "execution_count": null,
   "metadata": {
    "collapsed": false,
    "slideshow": {
     "slide_type": "fragment"
    }
   },
   "outputs": [],
   "source": [
    "b .< 3"
   ]
  },
  {
   "cell_type": "markdown",
   "metadata": {
    "slideshow": {
     "slide_type": "slide"
    }
   },
   "source": [
    "### Concatenating Vectors"
   ]
  },
  {
   "cell_type": "code",
   "execution_count": null,
   "metadata": {
    "collapsed": true,
    "slideshow": {
     "slide_type": "fragment"
    }
   },
   "outputs": [],
   "source": [
    "x1 = [1, 2, 3]\n",
    "\n",
    "x2 = [4, 5, 6]\n",
    "\n",
    "x3 = [x1; x2]                   # concatenating with [] and ;"
   ]
  },
  {
   "cell_type": "code",
   "execution_count": null,
   "metadata": {
    "collapsed": false,
    "slideshow": {
     "slide_type": "fragment"
    }
   },
   "outputs": [],
   "source": [
    "x4 = vcat(x1, x2)               # concatenate with vcat() is same as above"
   ]
  },
  {
   "cell_type": "markdown",
   "metadata": {
    "slideshow": {
     "slide_type": "slide"
    }
   },
   "source": [
    "## Matrices and _N_-Dimensional Arrays"
   ]
  },
  {
   "cell_type": "code",
   "execution_count": null,
   "metadata": {
    "collapsed": false,
    "scrolled": true,
    "slideshow": {
     "slide_type": "fragment"
    }
   },
   "outputs": [],
   "source": [
    "A = Array{Float64}(5, 3)        # initialize 5-by-3 matrix (start as 0.0)"
   ]
  },
  {
   "cell_type": "code",
   "execution_count": null,
   "metadata": {
    "collapsed": false,
    "slideshow": {
     "slide_type": "fragment"
    }
   },
   "outputs": [],
   "source": [
    "Z = zeros(5, 3)                 # same as above"
   ]
  },
  {
   "cell_type": "code",
   "execution_count": null,
   "metadata": {
    "collapsed": false,
    "slideshow": {
     "slide_type": "fragment"
    }
   },
   "outputs": [],
   "source": [
    "B = [1 2 3;\n",
    "     4 5 6;\n",
    "     7 8 9]                     # semi-colon used to indicate end of row"
   ]
  },
  {
   "cell_type": "markdown",
   "metadata": {
    "slideshow": {
     "slide_type": "slide"
    }
   },
   "source": [
    "### Indexing and Slicing Matrix (or _N_-dimensional array)"
   ]
  },
  {
   "cell_type": "code",
   "execution_count": null,
   "metadata": {
    "collapsed": false,
    "slideshow": {
     "slide_type": "fragment"
    }
   },
   "outputs": [],
   "source": [
    "B[3, 1]                         # gets entry in third row first column"
   ]
  },
  {
   "cell_type": "code",
   "execution_count": null,
   "metadata": {
    "collapsed": false,
    "slideshow": {
     "slide_type": "fragment"
    }
   },
   "outputs": [],
   "source": [
    "B[2, :]                         # gets all of second row"
   ]
  },
  {
   "cell_type": "code",
   "execution_count": null,
   "metadata": {
    "collapsed": false,
    "slideshow": {
     "slide_type": "fragment"
    }
   },
   "outputs": [],
   "source": [
    "B[:, 3]                         # gets all of third column"
   ]
  },
  {
   "cell_type": "markdown",
   "metadata": {
    "slideshow": {
     "slide_type": "slide"
    }
   },
   "source": [
    "## Reading Data from Flat File\n",
    "\n",
    "- Julia has a few options for reading data from \"flat files\"\n",
    "- There are some options in `Base` Julia\n",
    "- The read-in data will generally be represented in 2-dimensional array"
   ]
  },
  {
   "cell_type": "markdown",
   "metadata": {
    "slideshow": {
     "slide_type": "slide"
    }
   },
   "source": [
    "### Using `readdlm()`\n",
    "- Function in `Base` Julia\n",
    "- Used for reading delimited plain-text data files\n",
    "  + CSV files, tab-delimited, etc."
   ]
  },
  {
   "cell_type": "code",
   "execution_count": null,
   "metadata": {
    "collapsed": false,
    "slideshow": {
     "slide_type": "fragment"
    }
   },
   "outputs": [],
   "source": [
    "d = readdlm(\"somedata.csv\", ',')                # specify comma-delimited"
   ]
  },
  {
   "cell_type": "code",
   "execution_count": null,
   "metadata": {
    "collapsed": false,
    "slideshow": {
     "slide_type": "fragment"
    }
   },
   "outputs": [],
   "source": [
    "d1 = readdlm(\"otherdata.tsv\", '\\t')             # specify tab is the delimiter "
   ]
  },
  {
   "cell_type": "markdown",
   "metadata": {
    "slideshow": {
     "slide_type": "slide"
    }
   },
   "source": [
    "### Using `readcsv()` and its Optional Arguments\n",
    "- The `readcsv()` function is syntactic sugar for `readdlm()` with ',' argument\n",
    "- Has many options for how data are read in\n",
    "- Returns 2-dimensional array, or tuple with data array and header array"
   ]
  },
  {
   "cell_type": "code",
   "execution_count": null,
   "metadata": {
    "collapsed": false,
    "slideshow": {
     "slide_type": "fragment"
    }
   },
   "outputs": [],
   "source": [
    "d2 = readcsv(\"somedata.csv\")                    # equivalent to readdlm() with ','"
   ]
  },
  {
   "cell_type": "code",
   "execution_count": null,
   "metadata": {
    "collapsed": false,
    "slideshow": {
     "slide_type": "fragment"
    }
   },
   "outputs": [],
   "source": [
    "d3 = readcsv(\"somedata.csv\", header = true)     # treat first line as column headings"
   ]
  },
  {
   "cell_type": "code",
   "execution_count": null,
   "metadata": {
    "collapsed": false,
    "slideshow": {
     "slide_type": "fragment"
    }
   },
   "outputs": [],
   "source": [
    "typeof(d3)"
   ]
  },
  {
   "cell_type": "code",
   "execution_count": null,
   "metadata": {
    "collapsed": false,
    "slideshow": {
     "slide_type": "fragment"
    }
   },
   "outputs": [],
   "source": [
    "d3[1]                                           # 1st element in Tuple is data array"
   ]
  },
  {
   "cell_type": "code",
   "execution_count": null,
   "metadata": {
    "collapsed": false,
    "slideshow": {
     "slide_type": "fragment"
    }
   },
   "outputs": [],
   "source": [
    "d3[2]                                           # 2nd element in Tuple is header"
   ]
  },
  {
   "cell_type": "code",
   "execution_count": null,
   "metadata": {
    "collapsed": false,
    "slideshow": {
     "slide_type": "fragment"
    }
   },
   "outputs": [],
   "source": [
    "d4 = readcsv(\"somedata.csv\", header = true, skipstart = 3)   # skip 3 lines "
   ]
  },
  {
   "cell_type": "code",
   "execution_count": null,
   "metadata": {
    "collapsed": false,
    "slideshow": {
     "slide_type": "fragment"
    }
   },
   "outputs": [],
   "source": [
    "d4[1]"
   ]
  },
  {
   "cell_type": "markdown",
   "metadata": {
    "slideshow": {
     "slide_type": "fragment"
    }
   },
   "source": [
    "_Note_: There are a variety of other optional arguments you can pass to the `readdlm()` family of functions. You can see more of these by using `?readdlm` at the Julia prompt, or (even better) you can go read the documentation online.  "
   ]
  },
  {
   "cell_type": "markdown",
   "metadata": {
    "slideshow": {
     "slide_type": "slide"
    }
   },
   "source": [
    "# DataFrames\n",
    "\n",
    "- _de facto_ object for data analysis\n",
    "- `NA` type for missing data\n",
    "- In the tradion of R `data.frame` objects\n",
    "- Similar to pandas `DataFrames` in Python\n",
    "- Two-dimensional tabular array capable of handling mixed-type data\n",
    "- Also capable of handling categorical (i.e., `factor`) variables"
   ]
  },
  {
   "cell_type": "markdown",
   "metadata": {
    "slideshow": {
     "slide_type": "slide"
    }
   },
   "source": [
    "## Using `DataFrame` Objects\n",
    "- Interaction with `DataFrame` objects is similar to interaction with matrices\n",
    "- Many additional features for reshaping, summarizing, and joining data\n",
    "- Many packages play nicely with `DataFrames`, for example: \n",
    "  + DataArrays.jl\n",
    "  + Query.jl\n",
    "  + GLM.jl\n"
   ]
  },
  {
   "cell_type": "markdown",
   "metadata": {
    "slideshow": {
     "slide_type": "slide"
    }
   },
   "source": [
    "### Simple Read-in to `DataFrame`"
   ]
  },
  {
   "cell_type": "code",
   "execution_count": null,
   "metadata": {
    "collapsed": true,
    "slideshow": {
     "slide_type": "fragment"
    }
   },
   "outputs": [],
   "source": [
    "using DataFrames                        # assumes DataFrames is installed"
   ]
  },
  {
   "cell_type": "code",
   "execution_count": null,
   "metadata": {
    "collapsed": false,
    "slideshow": {
     "slide_type": "fragment"
    }
   },
   "outputs": [],
   "source": [
    "df1 = readtable(\"somedata.csv\")"
   ]
  },
  {
   "cell_type": "markdown",
   "metadata": {
    "slideshow": {
     "slide_type": "slide"
    }
   },
   "source": [
    "### Indexing and Subsetting"
   ]
  },
  {
   "cell_type": "code",
   "execution_count": null,
   "metadata": {
    "collapsed": false,
    "slideshow": {
     "slide_type": "fragment"
    }
   },
   "outputs": [],
   "source": [
    "df1[2, 3]                               # get second row, third column"
   ]
  },
  {
   "cell_type": "code",
   "execution_count": null,
   "metadata": {
    "collapsed": false,
    "slideshow": {
     "slide_type": "fragment"
    }
   },
   "outputs": [],
   "source": [
    "df1[4, :]                               # get all of 4th row"
   ]
  },
  {
   "cell_type": "code",
   "execution_count": null,
   "metadata": {
    "collapsed": false,
    "slideshow": {
     "slide_type": "fragment"
    }
   },
   "outputs": [],
   "source": [
    "df1[3, :condition]                      # indexing with column name"
   ]
  },
  {
   "cell_type": "code",
   "execution_count": null,
   "metadata": {
    "collapsed": false,
    "slideshow": {
     "slide_type": "fragment"
    }
   },
   "outputs": [],
   "source": [
    "df1[:condition]                         # get single column"
   ]
  },
  {
   "cell_type": "markdown",
   "metadata": {
    "slideshow": {
     "slide_type": "slide"
    }
   },
   "source": [
    "### Slightly more Interesting Subsetting"
   ]
  },
  {
   "cell_type": "code",
   "execution_count": null,
   "metadata": {
    "collapsed": false,
    "slideshow": {
     "slide_type": "fragment"
    }
   },
   "outputs": [],
   "source": [
    "col_subset = [:gender, :condition]      # specify columns to extract\n",
    "\n",
    "df1[:, col_subset]                      # get subset of columns"
   ]
  },
  {
   "cell_type": "code",
   "execution_count": null,
   "metadata": {
    "collapsed": false,
    "slideshow": {
     "slide_type": "fragment"
    }
   },
   "outputs": [],
   "source": [
    "df1[:, [:gender, :condition]]           # equivalent to above"
   ]
  },
  {
   "cell_type": "code",
   "execution_count": null,
   "metadata": {
    "collapsed": false
   },
   "outputs": [],
   "source": [
    "df1[:, [3, 4]]                          # equivalent to above"
   ]
  },
  {
   "cell_type": "markdown",
   "metadata": {
    "slideshow": {
     "slide_type": "slide"
    }
   },
   "source": [
    "### Subsets of Rows"
   ]
  },
  {
   "cell_type": "code",
   "execution_count": null,
   "metadata": {
    "collapsed": false,
    "slideshow": {
     "slide_type": "fragment"
    }
   },
   "outputs": [],
   "source": [
    "is_female = df1[:gender] .== \"f\"        # get boolean vector indicating females"
   ]
  },
  {
   "cell_type": "code",
   "execution_count": null,
   "metadata": {
    "collapsed": false,
    "slideshow": {
     "slide_type": "fragment"
    }
   },
   "outputs": [],
   "source": [
    "df1[is_female, :]                       # use boolean vector for subsetting"
   ]
  },
  {
   "cell_type": "code",
   "execution_count": null,
   "metadata": {
    "collapsed": false,
    "slideshow": {
     "slide_type": "fragment"
    }
   },
   "outputs": [],
   "source": [
    "df1[df1[:gender] .== \"f\", :]            # equivalent to above"
   ]
  },
  {
   "cell_type": "markdown",
   "metadata": {},
   "source": [
    "## Options for Reading to `DataFrame`\n",
    "- Handling \"factor\" variables\n",
    "- Treatment of `NA` variables"
   ]
  },
  {
   "cell_type": "markdown",
   "metadata": {
    "slideshow": {
     "slide_type": "slide"
    }
   },
   "source": [
    "### Optional Arguments for `readtable()`"
   ]
  },
  {
   "cell_type": "code",
   "execution_count": null,
   "metadata": {
    "collapsed": true,
    "slideshow": {
     "slide_type": "fragment"
    }
   },
   "outputs": [],
   "source": [
    "df2 = readtable(\"somedata.csv\", makefactors = true)       # treat string as factors"
   ]
  },
  {
   "cell_type": "code",
   "execution_count": null,
   "metadata": {
    "collapsed": false,
    "scrolled": true,
    "slideshow": {
     "slide_type": "fragment"
    }
   },
   "outputs": [],
   "source": [
    "df3 = readtable(\"otherdata.tsv\", makefactors = true)"
   ]
  },
  {
   "cell_type": "code",
   "execution_count": null,
   "metadata": {
    "collapsed": false,
    "slideshow": {
     "slide_type": "fragment"
    }
   },
   "outputs": [],
   "source": [
    "df4 = readtable(\"otherdata.tsv\", nastrings = [\"999\"])"
   ]
  },
  {
   "cell_type": "code",
   "execution_count": null,
   "metadata": {
    "collapsed": false,
    "slideshow": {
     "slide_type": "fragment"
    }
   },
   "outputs": [],
   "source": [
    "df5 = readtable(\"somedata.csv\", nastrings = [\"\", \"NA\", \"999\"])"
   ]
  },
  {
   "cell_type": "markdown",
   "metadata": {
    "slideshow": {
     "slide_type": "slide"
    }
   },
   "source": [
    "<h1><center>Important Caveat</center></h1>\n",
    "\n",
    "There is currently a debate among core developers in the Julia community regarding whether to use DataFrames or DataTables. The latter package very recently split off from DataFrames, and is very similar superficially. But `DataTable` objects use a different underlying array representation to handle `NA` values more efficiently. Because of this, they have better performance than `DataFrame` objects (in some cases, _much_ better performance). However, for many applications, the performance penalty of DataFrames is inconsequential. Furthermore, the DataTables package has a few rough spots that make its interface slightly less elegant. Nonetheless, keep your eye on these two packages."
   ]
  },
  {
   "cell_type": "markdown",
   "metadata": {
    "slideshow": {
     "slide_type": "slide"
    }
   },
   "source": [
    "## Challenge Question 1"
   ]
  },
  {
   "cell_type": "markdown",
   "metadata": {
    "slideshow": {
     "slide_type": "fragment"
    }
   },
   "source": [
    "Using the data in `chronic_kidney_disease.csv`, determine whether or not the oldest patient in the sample has chronic kidney disease. As a hint, you will probably want to use the `maximum()` function."
   ]
  },
  {
   "cell_type": "code",
   "execution_count": null,
   "metadata": {
    "collapsed": false,
    "scrolled": true,
    "slideshow": {
     "slide_type": "fragment"
    }
   },
   "outputs": [],
   "source": [
    "using RDatasets  \n",
    "\n",
    "stagec = dataset(\"rpart\", \"stagec\")       # might need to be run twice"
   ]
  },
  {
   "cell_type": "markdown",
   "metadata": {
    "slideshow": {
     "slide_type": "slide"
    }
   },
   "source": [
    "# Descriptive Statistics\n",
    "Useful Packages:\n",
    "- StatsBase"
   ]
  },
  {
   "cell_type": "code",
   "execution_count": null,
   "metadata": {
    "collapsed": false
   },
   "outputs": [],
   "source": [
    "x = randn(100)                # generate 100 draws from standard Gaussian"
   ]
  },
  {
   "cell_type": "code",
   "execution_count": null,
   "metadata": {
    "collapsed": false
   },
   "outputs": [],
   "source": [
    "@show mean(x)\n",
    "@show median(x)\n",
    "@show mode(x)\n",
    "@show std(x)\n",
    "@show var(x)\n",
    "@show minimum(x)\n",
    "@show maximum(x);"
   ]
  },
  {
   "cell_type": "markdown",
   "metadata": {},
   "source": [
    "### Descriptives with `DataFrame`"
   ]
  },
  {
   "cell_type": "code",
   "execution_count": null,
   "metadata": {
    "collapsed": false
   },
   "outputs": [],
   "source": [
    "x1 = describe(stagec)                # get many useful descriptive stats\n"
   ]
  },
  {
   "cell_type": "code",
   "execution_count": null,
   "metadata": {
    "collapsed": false
   },
   "outputs": [],
   "source": [
    "@show mean(stagec[:Age])             # get mean of Age column\n",
    "@show mean(stagec[:Gleason])         # returns NA (not what we want)\n",
    "@show mean(dropna(stagec[:G2]))      # dropna() removes NA values"
   ]
  },
  {
   "cell_type": "markdown",
   "metadata": {},
   "source": [
    "---"
   ]
  },
  {
   "cell_type": "markdown",
   "metadata": {},
   "source": [
    "---"
   ]
  },
  {
   "cell_type": "markdown",
   "metadata": {},
   "source": [
    "# Inferential Statistics"
   ]
  },
  {
   "cell_type": "markdown",
   "metadata": {},
   "source": [
    "Useful Packages:\n",
    "- HypothesisTests (Binomial test, _t_-tests, $\\chi^2$-test, and many more...)\n",
    "- GLM (linear and generalized linear models)\n",
    "- MixedModels (Multi-level (or Mixed-effects) models)"
   ]
  },
  {
   "cell_type": "markdown",
   "metadata": {},
   "source": [
    "## Binomial Test"
   ]
  },
  {
   "cell_type": "markdown",
   "metadata": {},
   "source": [
    "The binomial test is a statistical test of dichotomous data's (e.g., \"success\" and \"failure\") deviation from expected distribution. Binomial tests can be used to answer questions of this form: _If the true probability of success is $P$ then what is the probability of the data we have observed?_"
   ]
  },
  {
   "cell_type": "code",
   "execution_count": null,
   "metadata": {
    "collapsed": false
   },
   "outputs": [],
   "source": [
    "# Coin Tossing Example:\n",
    "# Simulate data from Binomial, test \n",
    "# hypothesis data came from fair coin\n",
    "\n",
    "using HypothesisTests\n",
    "using Distributions\n",
    "\n",
    "binom = Binomial(1, 0.6)            # initialize Distribution object Binom(1, 0.6) \n",
    "\n",
    "srand(137)                          # set seed for reproducibility\n",
    "x = rand(binom, 1000)               # take 10 random draws from our dist'n\n",
    "\n",
    "xbool = convert(Array{Bool,1}, x)   # cast x to vector of Booleans\n",
    "BinomialTest(xbool, 0.5)            # test null hypothesis that p = 0.5\n"
   ]
  },
  {
   "cell_type": "markdown",
   "metadata": {},
   "source": [
    "## Student's _T_-test "
   ]
  },
  {
   "cell_type": "markdown",
   "metadata": {},
   "source": [
    "Extremely common statistical test for differences in means between two groups on some continous variable. _T_-tests are often used to investigate the effects of some new treatment versus a control group."
   ]
  },
  {
   "cell_type": "code",
   "execution_count": null,
   "metadata": {
    "collapsed": false
   },
   "outputs": [],
   "source": [
    "# Life Expectancy Example:\n",
    "# Simulate data from Gaussian, test whether smokers \n",
    "# and non-smokers have same life expectancy \n",
    "\n",
    "non_smokers_gaussian = Normal(75, 5)\n",
    "smokers_gaussian = Normal(65, 7)\n",
    "\n",
    "srand(137)\n",
    "\n",
    "non_smokers = rand(non_smokers_gaussian, 30)     # 30 random draws from Gaussian\n",
    "smokers = rand(smokers_gaussian, 30)\n",
    "\n",
    "UnequalVarianceTTest(smokers, non_smokers)       # two-sample t-test (assumes eq var)"
   ]
  },
  {
   "cell_type": "markdown",
   "metadata": {},
   "source": [
    "## Pearson's Correlation\n",
    "Pearson's correlation is a measure of the linear relationship between two continous variables. The resulting correlation coefficient, _r_, ranges between 1 and -1. Positive values of _r_ indicate a positive association between the variables (e.g., hours of studying and GPA), while negative values indicate a negative relation between variables (e.g., beers-per-week and GPA)."
   ]
  },
  {
   "cell_type": "code",
   "execution_count": null,
   "metadata": {
    "collapsed": false
   },
   "outputs": [],
   "source": [
    "# correlation between two variables in vectors\n",
    "x = randn(100)\n",
    "y = randn(100)\n",
    "\n",
    "cor(x, y)"
   ]
  },
  {
   "cell_type": "code",
   "execution_count": null,
   "metadata": {
    "collapsed": false
   },
   "outputs": [],
   "source": [
    "# pairwise correlation of all variables in a matrix\n",
    "A = randn(100, 5)\n",
    "cor(A)"
   ]
  },
  {
   "cell_type": "code",
   "execution_count": null,
   "metadata": {
    "collapsed": false
   },
   "outputs": [],
   "source": [
    "# correlation of variables in a DataFrame object\n",
    "cor(stagec[:Age], stagec[:Grade])"
   ]
  },
  {
   "cell_type": "markdown",
   "metadata": {},
   "source": [
    "---"
   ]
  },
  {
   "cell_type": "markdown",
   "metadata": {},
   "source": [
    "## Challenge Question 2\n",
    "Using the `stagec` dataset from above, determine if patients with tetraploidy tumors have higher Gleason scores than patients with diploid tumors."
   ]
  },
  {
   "cell_type": "markdown",
   "metadata": {},
   "source": [
    "## Challenge Question 3\n",
    "_Option 1_: Create a box-and-whisker plot of the two groups' data described in Question 2 above. <br>\n",
    "\n",
    "_Option 2_: Create a plot of the distributions of the two groups' data described in Question 2.   "
   ]
  },
  {
   "cell_type": "markdown",
   "metadata": {},
   "source": [
    "---"
   ]
  },
  {
   "cell_type": "markdown",
   "metadata": {},
   "source": [
    "## Linear and Generalized Linear Models\n",
    "Linear regression models and their generalizations represent one of the most powerful and fundamental classes of models in all of statistics. These models are tremendously useful for making inferences as well as for making predictions. They are ubiquitous across scientific disciplines. Furthermore, linear and generalized linear models also serve as the foundation for some of the most promising advances in machine learning and artificial intelligence."
   ]
  },
  {
   "cell_type": "markdown",
   "metadata": {},
   "source": [
    "### Linear Regression Models\n",
    "Useful Packages:\n",
    "- GLM\n",
    "- MixedModels (for multi-level models)\n",
    "- Mamba (for Bayesians)"
   ]
  },
  {
   "cell_type": "code",
   "execution_count": null,
   "metadata": {
    "collapsed": false
   },
   "outputs": [],
   "source": [
    "using GLM\n",
    "\n",
    "fm1 = lm(G2 ~ 1 + Age, stagec)    # fit linear model regressing G2 on Age"
   ]
  },
  {
   "cell_type": "code",
   "execution_count": null,
   "metadata": {
    "collapsed": false
   },
   "outputs": [],
   "source": [
    "coef(fm1)                         # get model coefficients (i.e., Betas)"
   ]
  },
  {
   "cell_type": "code",
   "execution_count": null,
   "metadata": {
    "collapsed": false
   },
   "outputs": [],
   "source": [
    "stderr(fm1)                       # standard error of coefficients"
   ]
  },
  {
   "cell_type": "code",
   "execution_count": null,
   "metadata": {
    "collapsed": false
   },
   "outputs": [],
   "source": [
    "confint(fm1)                      # confidence intervals for coefficients"
   ]
  },
  {
   "cell_type": "code",
   "execution_count": null,
   "metadata": {
    "collapsed": false
   },
   "outputs": [],
   "source": [
    "predict(fm1)                      # predicted value for each observation (i.e., y_hat)"
   ]
  },
  {
   "cell_type": "code",
   "execution_count": null,
   "metadata": {
    "collapsed": false
   },
   "outputs": [],
   "source": [
    "residuals(fm1)                    # residuals (i.e., y - y_hat)"
   ]
  },
  {
   "cell_type": "code",
   "execution_count": null,
   "metadata": {
    "collapsed": false
   },
   "outputs": [],
   "source": [
    "# fit indices\n",
    "deviance(fm1)                                                "
   ]
  },
  {
   "cell_type": "code",
   "execution_count": null,
   "metadata": {
    "collapsed": false
   },
   "outputs": [],
   "source": [
    "aic(fm1)                                                     "
   ]
  },
  {
   "cell_type": "code",
   "execution_count": null,
   "metadata": {
    "collapsed": false
   },
   "outputs": [],
   "source": [
    "bic(fm1)"
   ]
  },
  {
   "cell_type": "code",
   "execution_count": null,
   "metadata": {
    "collapsed": false
   },
   "outputs": [],
   "source": [
    "# make predictions with fitted model\n",
    "new_data = DataFrame(Age = [10, 20, 30, 40, 50])\n",
    "predict(fm1, new_data)"
   ]
  },
  {
   "cell_type": "code",
   "execution_count": null,
   "metadata": {
    "collapsed": false
   },
   "outputs": [],
   "source": [
    "# Adding predictors\n",
    "fm2 = lm(G2 ~ 1 + Age + Gleason, stagec)                     # add Gleason score as predictor"
   ]
  },
  {
   "cell_type": "code",
   "execution_count": null,
   "metadata": {
    "collapsed": false
   },
   "outputs": [],
   "source": [
    "deviance(fm2)                                                "
   ]
  },
  {
   "cell_type": "code",
   "execution_count": null,
   "metadata": {
    "collapsed": false
   },
   "outputs": [],
   "source": [
    "aic(fm2)"
   ]
  },
  {
   "cell_type": "code",
   "execution_count": null,
   "metadata": {
    "collapsed": false
   },
   "outputs": [],
   "source": [
    "bic(fm2)"
   ]
  },
  {
   "cell_type": "code",
   "execution_count": null,
   "metadata": {
    "collapsed": false
   },
   "outputs": [],
   "source": [
    "fm3 = lm(G2 ~ 1 + Age + Gleason + Grade, stagec)            "
   ]
  },
  {
   "cell_type": "code",
   "execution_count": null,
   "metadata": {
    "collapsed": false
   },
   "outputs": [],
   "source": [
    "# Adding interaction terms\n",
    "fm4 = lm(G2 ~ 1 + Age + Gleason*EET, stagec)                     "
   ]
  },
  {
   "cell_type": "markdown",
   "metadata": {},
   "source": [
    "### Binomial Logistic Regression\n",
    "Binomial logistic regression models are used when fitting models to dichotomous outcome variables (e.g., 0 and 1). "
   ]
  },
  {
   "cell_type": "code",
   "execution_count": null,
   "metadata": {
    "collapsed": false
   },
   "outputs": [],
   "source": [
    "fm5 = glm(PgStat ~ 1 + Gleason, stagec, Binomial())          # defaults to logit-link"
   ]
  },
  {
   "cell_type": "code",
   "execution_count": null,
   "metadata": {
    "collapsed": false
   },
   "outputs": [],
   "source": [
    "coef(fm5) "
   ]
  },
  {
   "cell_type": "code",
   "execution_count": null,
   "metadata": {
    "collapsed": false
   },
   "outputs": [],
   "source": [
    "stderr(fm5)"
   ]
  },
  {
   "cell_type": "code",
   "execution_count": null,
   "metadata": {
    "collapsed": false
   },
   "outputs": [],
   "source": [
    "confint(fm5)"
   ]
  },
  {
   "cell_type": "code",
   "execution_count": null,
   "metadata": {
    "collapsed": false
   },
   "outputs": [],
   "source": [
    "deviance(fm5)                                                "
   ]
  },
  {
   "cell_type": "code",
   "execution_count": null,
   "metadata": {
    "collapsed": false
   },
   "outputs": [],
   "source": [
    "aic(fm5)                                                     "
   ]
  },
  {
   "cell_type": "code",
   "execution_count": null,
   "metadata": {
    "collapsed": false
   },
   "outputs": [],
   "source": [
    "bic(fm5)"
   ]
  },
  {
   "cell_type": "markdown",
   "metadata": {},
   "source": [
    "### Poisson Regression\n",
    "Poisson regression is useful for modeling outcome variables that are in the form of count data."
   ]
  },
  {
   "cell_type": "code",
   "execution_count": null,
   "metadata": {
    "collapsed": false,
    "scrolled": true
   },
   "outputs": [],
   "source": [
    "prussian = dataset(\"pscl\", \"prussian\")               # load Prussian horse kick data"
   ]
  },
  {
   "cell_type": "code",
   "execution_count": null,
   "metadata": {
    "collapsed": false,
    "scrolled": false
   },
   "outputs": [],
   "source": [
    "fm6 = glm(Y ~ 1 + Year + Corp, prussian, Poisson())  # defaults to log link "
   ]
  },
  {
   "cell_type": "code",
   "execution_count": null,
   "metadata": {
    "collapsed": false
   },
   "outputs": [],
   "source": [
    "coef(fm6) \n",
    "stderr(fm6)\n",
    "confint(fm6)\n",
    "deviance(fm6)                                                \n",
    "aic(fm6)                                                     \n",
    "bic(fm6)"
   ]
  },
  {
   "cell_type": "markdown",
   "metadata": {},
   "source": [
    "---"
   ]
  },
  {
   "cell_type": "markdown",
   "metadata": {},
   "source": [
    "## Challenge Question 4\n",
    "A key assumption of inference with linear regression is the normality of error terms. A simple but effective way to check this assumption is to examine a plot of the distribution of the fitted model's residual. \n",
    "\n",
    "Create a plot to check the assumption of normality of error terms for model `fm3` above.\n"
   ]
  },
  {
   "cell_type": "markdown",
   "metadata": {},
   "source": [
    "---"
   ]
  },
  {
   "cell_type": "markdown",
   "metadata": {},
   "source": [
    "---"
   ]
  },
  {
   "cell_type": "markdown",
   "metadata": {},
   "source": [
    "# Machine Learning"
   ]
  },
  {
   "cell_type": "markdown",
   "metadata": {},
   "source": [
    "Useful Packages:\n",
    "- DecisionTree\n",
    "- RandomForest\n",
    "- Lasso\n",
    "- GLMNet (for ridge regression, lasso, and elastic net)\n",
    "- LARS (lasso and elastic net)\n",
    "- Clustering\n",
    "- GradientBoosting\n",
    "- XGBoost\n",
    "- Mocha (deep neural nets)"
   ]
  },
  {
   "cell_type": "markdown",
   "metadata": {},
   "source": [
    "## Bagging\n",
    "Bagging is \"bootstrap aggregation\", and involves fitting a many individual classification or regression trees. Thus, bagging can be used with both categorical and continous data. The use of many trees improves the prediction accuracy of your fitted model over a single tree by decreasing the chance of overfitting your data (see bias/variance tradeoff)."
   ]
  },
  {
   "cell_type": "code",
   "execution_count": null,
   "metadata": {
    "collapsed": false
   },
   "outputs": [],
   "source": [
    "using DecisionTree"
   ]
  },
  {
   "cell_type": "code",
   "execution_count": null,
   "metadata": {
    "collapsed": false
   },
   "outputs": [],
   "source": [
    "# take only complete cases\n",
    "stagec_comp = stagec[complete_cases(stagec), :]\n",
    "\n",
    "is_tetraploid = stagec_comp[:Ploidy] .== \"tetraploid\"\n",
    "\n",
    "stagec_comp[:tetra] = is_tetraploid\n",
    "\n",
    "# must convert to Array\n",
    "y = convert(Array{Float64,1}, stagec_comp[:G2])\n",
    "X = convert(Array{Float64,2}, stagec_comp[[:Age, :Grade, :Gleason, :EET, :tetra]])\n",
    "\n",
    "fm7 = build_forest(y, X, 5, 500)"
   ]
  },
  {
   "cell_type": "code",
   "execution_count": null,
   "metadata": {
    "collapsed": false
   },
   "outputs": [],
   "source": [
    "apply_forest(fm7, [55.0, 3.0, 2.0, 1.0, 1.0])"
   ]
  },
  {
   "cell_type": "markdown",
   "metadata": {},
   "source": [
    "## Random Forest\n",
    "Random forests were developed after bagging, and are a generalization of the idea of taking bootstrap samples from your dataset and fitting many trees. Random forests differ from bagged trees in that for each split point in the tree, the algorithm only considers some subset of the predictors as candidates on which to split. This has the effect of further reducing the correlation between trees beyond what is already achieved by the bootstrapping. This reduces overfitting and improves prediction accuracy for new data."
   ]
  },
  {
   "cell_type": "code",
   "execution_count": null,
   "metadata": {
    "collapsed": false
   },
   "outputs": [],
   "source": [
    "fm8 = build_forest(y, X, 3, 500)"
   ]
  },
  {
   "cell_type": "code",
   "execution_count": null,
   "metadata": {
    "collapsed": false
   },
   "outputs": [],
   "source": [
    "# This is a quick function to obtain the mean-squared\n",
    "# error of a fitted random forest (or bagged tree) model.\n",
    "\n",
    "function mse(fitted, y, X)\n",
    "    yhat = apply_forest(fitted, X)\n",
    "    sqerr = (y .- yhat).^2\n",
    "    out = mean(sqerr)\n",
    "    return out\n",
    "end"
   ]
  },
  {
   "cell_type": "code",
   "execution_count": null,
   "metadata": {
    "collapsed": false
   },
   "outputs": [],
   "source": [
    "@show mse(fm7, y, X)\n",
    "@show mse(fm8, y, X);"
   ]
  },
  {
   "cell_type": "markdown",
   "metadata": {},
   "source": [
    "## Lasso\n",
    "The lasso (Least Angle Shrinkage and Selection Operator) is a form of regularized regression which penalizes the L1 norm of the vector of regression coefficients. This has the effect of shrinking the least important regression coefficients to zero. In this respect it is similar to ridge regression, which shrinks regression coefficients towards zero by penalizing the L2 (Euclidian) norm."
   ]
  },
  {
   "cell_type": "code",
   "execution_count": null,
   "metadata": {
    "collapsed": false
   },
   "outputs": [],
   "source": [
    "using Lasso\n",
    "swiss = dataset(\"datasets\", \"swiss\")"
   ]
  },
  {
   "cell_type": "code",
   "execution_count": null,
   "metadata": {
    "collapsed": false
   },
   "outputs": [],
   "source": [
    "Xswiss = convert(Array{Float64, 2}, swiss[:, 2:5])\n",
    "yswiss = convert(Array{Float64, 1}, swiss[:, 6])\n",
    "fm9 = fit(LassoPath, Xswiss, yswiss)"
   ]
  },
  {
   "cell_type": "code",
   "execution_count": null,
   "metadata": {
    "collapsed": false
   },
   "outputs": [],
   "source": [
    "fieldnames(fm9)"
   ]
  },
  {
   "cell_type": "code",
   "execution_count": null,
   "metadata": {
    "collapsed": false
   },
   "outputs": [],
   "source": [
    "@show fm9.λ\n",
    "full(fm9.coefs)"
   ]
  },
  {
   "cell_type": "markdown",
   "metadata": {},
   "source": [
    "---"
   ]
  },
  {
   "cell_type": "markdown",
   "metadata": {},
   "source": [
    "## Challenge Question 5\n",
    "Using the `aldh2` dataset from the `gap` package in R, try fitting a few random forest (or bagged tree) models that predict whether a given patient is an alcoholic using their genetic information. <br>\n",
    "\n",
    "What is the prediction accuracy of your best model? What were the meta-paremeters of your best-fitting model? <br> \n",
    "\n",
    "The data can be loaded using the code below."
   ]
  },
  {
   "cell_type": "code",
   "execution_count": null,
   "metadata": {
    "collapsed": false
   },
   "outputs": [],
   "source": [
    "aldh2 = dataset(\"gap\", \"aldh2\")"
   ]
  },
  {
   "cell_type": "markdown",
   "metadata": {
    "slideshow": {
     "slide_type": "slide"
    }
   },
   "source": [
    "# Calling R from Julia\n",
    "\n",
    "- R has been around since early 90s or late 70s (depending on how you count S language)\n",
    "- Over 10,000 R packages registered on CRAN\n",
    "- R is very specialized for statistical programming"
   ]
  },
  {
   "cell_type": "markdown",
   "metadata": {
    "slideshow": {
     "slide_type": "slide"
    }
   },
   "source": [
    "## RCall.jl Package\n",
    "- Happily, we can easily call R from Julia\n",
    "- Simply install RCall.jl package and then load the installed package"
   ]
  },
  {
   "cell_type": "code",
   "execution_count": null,
   "metadata": {
    "collapsed": false,
    "slideshow": {
     "slide_type": "fragment"
    }
   },
   "outputs": [],
   "source": [
    "Pkg.add(\"RCall\")                  # only needed first time using RCall\n",
    "\n",
    "using RCall"
   ]
  },
  {
   "cell_type": "markdown",
   "metadata": {},
   "source": [
    "## Two Environments: R and Julia\n",
    "\n",
    "- RCall package starts an R session using your existing R interpretter\n",
    "- Objects in your Julia session need to be passed to R session\n",
    "- And vice versa"
   ]
  },
  {
   "cell_type": "markdown",
   "metadata": {},
   "source": [
    "### Putting a Julia object in R"
   ]
  },
  {
   "cell_type": "code",
   "execution_count": null,
   "metadata": {
    "collapsed": true
   },
   "outputs": [],
   "source": [
    "a = [2, 3, 4, 5]\n",
    "\n",
    "@rput a\n",
    "\n",
    "R\"print(a)\"\n",
    "\n",
    "R\"print(typeof(a))\""
   ]
  },
  {
   "cell_type": "markdown",
   "metadata": {},
   "source": [
    "### Getting an object from R to Julia"
   ]
  },
  {
   "cell_type": "code",
   "execution_count": null,
   "metadata": {
    "collapsed": false
   },
   "outputs": [],
   "source": [
    "R\"b <- rnorm(10)\"\n",
    "\n",
    "@rget b\n",
    "\n",
    "println(b)"
   ]
  },
  {
   "cell_type": "code",
   "execution_count": null,
   "metadata": {
    "collapsed": true
   },
   "outputs": [],
   "source": [
    "R\"B <- matrix(rnorm(25), nrow = 5)\"\n",
    "\n",
    "@rget B"
   ]
  },
  {
   "cell_type": "markdown",
   "metadata": {},
   "source": [
    "# Challenge Problem 6\n",
    "\n",
    "Use R via the RCall.jl package to fit a binomail logistic regression model on the XXXX data set. Fit a model to determine if XXXX and XXXX are significant predictors of XXXX. \n",
    "\n",
    "After fitting the model, pass the regression parameter estimates from R back to Julia. In order to do this, you will need to:\n",
    "\n",
    "1. Read the data in to Julia\n",
    "2. Ensure RCall.jl is loaded\n",
    "3. Pass the dataframe from Julia to R\n",
    "4. Fit the model in R using `glm()` function with arguments `family = \"binomial\"`\n",
    "5. Use R's `coef()` function to extract the coefficients from the fitted model\n",
    "6. Pass the coefficients back to Julia"
   ]
  },
  {
   "cell_type": "markdown",
   "metadata": {
    "slideshow": {
     "slide_type": "slide"
    }
   },
   "source": [
    "# Recommended Resources\n",
    "\n",
    "### Statistical Inference\n",
    "- Casella and Berger (2002) _Statistical Inference_\n",
    "- Wasserman (2004) _All of Statistics_\n",
    "\n",
    "### Linear Models\n",
    "- Gelman and Hill (2007) _Data Analysis Using Regression and Multilevel/Hierarchical_\n",
    "- Rencher and Schaalje (2008) _Linear Models in Statistics_\n",
    "\n",
    "### Generalized Linear Models\n",
    "- Agresti (2002) _Categorical Data Analysis_\n",
    "- Hosmer and Lemeshow (2000) _Applied Logistic Regression_\n",
    "\n",
    "### Machine Learning\n",
    "- Hastie, Tibshirani, & Friedman (2001) _Elements of Statistical Learning_\n",
    "- James, Witten, Hastie, & Tibshirani (2015) _An Introduction to Statistical Learning_\n",
    "- Kuhn and Johnson (2013) _Applied Predictive Modeling_"
   ]
  },
  {
   "cell_type": "code",
   "execution_count": null,
   "metadata": {
    "collapsed": true
   },
   "outputs": [],
   "source": []
  }
 ],
 "metadata": {
  "celltoolbar": "Slideshow",
  "kernelspec": {
   "display_name": "Julia 0.5.0",
   "language": "julia",
   "name": "julia-0.5"
  },
  "language_info": {
   "file_extension": ".jl",
   "mimetype": "application/julia",
   "name": "julia",
   "version": "0.5.1"
  }
 },
 "nbformat": 4,
 "nbformat_minor": 0
}

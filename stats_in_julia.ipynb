{
 "cells": [
  {
   "cell_type": "markdown",
   "metadata": {},
   "source": [
    "# Vectors and _N_-Dimensional Arrays"
   ]
  },
  {
   "cell_type": "code",
   "execution_count": null,
   "metadata": {
    "collapsed": true
   },
   "outputs": [],
   "source": [
    "v = [4, 5, 6]"
   ]
  },
  {
   "cell_type": "code",
   "execution_count": null,
   "metadata": {
    "collapsed": true
   },
   "outputs": [],
   "source": [
    "u = [1.2, 4.5, 6.5]"
   ]
  },
  {
   "cell_type": "code",
   "execution_count": null,
   "metadata": {
    "collapsed": true
   },
   "outputs": [],
   "source": [
    "w = [\"dog\", \"cat\", \"bird\"]"
   ]
  },
  {
   "cell_type": "markdown",
   "metadata": {},
   "source": [
    "### Grow Vector in Place"
   ]
  },
  {
   "cell_type": "code",
   "execution_count": null,
   "metadata": {
    "collapsed": false,
    "scrolled": true
   },
   "outputs": [],
   "source": [
    "a = Int[]                       # initialize empty vector to be filled with Ints"
   ]
  },
  {
   "cell_type": "code",
   "execution_count": null,
   "metadata": {
    "collapsed": true
   },
   "outputs": [],
   "source": [
    "push!(a, 12)"
   ]
  },
  {
   "cell_type": "code",
   "execution_count": null,
   "metadata": {
    "collapsed": true
   },
   "outputs": [],
   "source": [
    "push!(a, 1000)"
   ]
  },
  {
   "cell_type": "code",
   "execution_count": null,
   "metadata": {
    "collapsed": true
   },
   "outputs": [],
   "source": [
    "push!(a, 3.14)                  # ERROR: trying to push Float into vector of Ints"
   ]
  },
  {
   "cell_type": "code",
   "execution_count": null,
   "metadata": {
    "collapsed": true
   },
   "outputs": [],
   "source": [
    "s = String[]                    # initialize empty vector of strings"
   ]
  },
  {
   "cell_type": "code",
   "execution_count": null,
   "metadata": {
    "collapsed": true
   },
   "outputs": [],
   "source": [
    "push!(s, \"this\")\n",
    "push!(s, \"is\")\n",
    "push!(s, \"a string vector\")"
   ]
  },
  {
   "cell_type": "markdown",
   "metadata": {},
   "source": [
    "###Indexing a Vector"
   ]
  },
  {
   "cell_type": "code",
   "execution_count": null,
   "metadata": {
    "collapsed": true
   },
   "outputs": [],
   "source": [
    "s[2]                            # get second element"
   ]
  },
  {
   "cell_type": "code",
   "execution_count": null,
   "metadata": {
    "collapsed": true
   },
   "outputs": [],
   "source": [
    "s[3]                            # third element"
   ]
  },
  {
   "cell_type": "code",
   "execution_count": null,
   "metadata": {
    "collapsed": true
   },
   "outputs": [],
   "source": [
    "s[1] = \"that\"                   # assign to first element"
   ]
  },
  {
   "cell_type": "markdown",
   "metadata": {},
   "source": [
    "### Slicing a Vector"
   ]
  },
  {
   "cell_type": "code",
   "execution_count": null,
   "metadata": {
    "collapsed": true
   },
   "outputs": [],
   "source": [
    "s[1:2]                          # get subset of vector (1st and 3rd element)"
   ]
  },
  {
   "cell_type": "code",
   "execution_count": null,
   "metadata": {
    "collapsed": true
   },
   "outputs": [],
   "source": [
    "s[2:end]                        # subset from 2nd element to last element"
   ]
  },
  {
   "cell_type": "markdown",
   "metadata": {},
   "source": [
    "## _N_-Dimensional Arrays"
   ]
  },
  {
   "cell_type": "code",
   "execution_count": null,
   "metadata": {
    "collapsed": false,
    "scrolled": true
   },
   "outputs": [],
   "source": [
    "A = Array{Float64}(5, 3)        # initialize 5-by-3 matrix (start as all zeros)"
   ]
  },
  {
   "cell_type": "code",
   "execution_count": null,
   "metadata": {
    "collapsed": true
   },
   "outputs": [],
   "source": [
    "Z = zeros(5, 3)                 # same as above"
   ]
  },
  {
   "cell_type": "code",
   "execution_count": null,
   "metadata": {
    "collapsed": true
   },
   "outputs": [],
   "source": [
    "B = [1 2 3;\n",
    "     4 5 6;\n",
    "     7 8 9]"
   ]
  },
  {
   "cell_type": "markdown",
   "metadata": {},
   "source": [
    "### Indexing and Slicing Matrix (or _N_-dimensional array)"
   ]
  },
  {
   "cell_type": "code",
   "execution_count": null,
   "metadata": {
    "collapsed": true
   },
   "outputs": [],
   "source": [
    "B[3, 1]                         # gets entry in third row first column"
   ]
  },
  {
   "cell_type": "code",
   "execution_count": null,
   "metadata": {
    "collapsed": true
   },
   "outputs": [],
   "source": [
    "B[2, :]                         # gets all of second row"
   ]
  },
  {
   "cell_type": "code",
   "execution_count": null,
   "metadata": {
    "collapsed": true
   },
   "outputs": [],
   "source": [
    "B[:, 3]                         # gets all of third column"
   ]
  },
  {
   "cell_type": "markdown",
   "metadata": {},
   "source": [
    "## Reading Data from Flat File"
   ]
  },
  {
   "cell_type": "code",
   "execution_count": null,
   "metadata": {
    "collapsed": true
   },
   "outputs": [],
   "source": [
    "d = readdlm(\"somedata.csv\", ',')"
   ]
  },
  {
   "cell_type": "code",
   "execution_count": null,
   "metadata": {
    "collapsed": true
   },
   "outputs": [],
   "source": [
    "d1 = readdlm(\"otherdata.csv\", '\\t')"
   ]
  },
  {
   "cell_type": "code",
   "execution_count": null,
   "metadata": {
    "collapsed": true
   },
   "outputs": [],
   "source": [
    "d2 = readcsv(\"somedata.csv\")                                 # equivalent to readdlm() with ','"
   ]
  },
  {
   "cell_type": "code",
   "execution_count": null,
   "metadata": {
    "collapsed": true
   },
   "outputs": [],
   "source": [
    "d3 = readcsv(\"somedata.csv\", header = true)                  # treat first line as column headings"
   ]
  },
  {
   "cell_type": "code",
   "execution_count": null,
   "metadata": {
    "collapsed": true
   },
   "outputs": [],
   "source": [
    "d4 = readcsv(\"somedata.csv\", header = true, skipstart = 3)   # skip first 3 lines "
   ]
  },
  {
   "cell_type": "markdown",
   "metadata": {},
   "source": [
    "---"
   ]
  },
  {
   "cell_type": "markdown",
   "metadata": {},
   "source": [
    "---"
   ]
  },
  {
   "cell_type": "markdown",
   "metadata": {},
   "source": [
    "# DataFrame Objects"
   ]
  },
  {
   "cell_type": "markdown",
   "metadata": {},
   "source": [
    "### Advantages of `DataFrame` objects\n",
    "- _de facto_ object for data analysis\n",
    "- NA type for missing data\n",
    "- factor-like type for model fitting "
   ]
  },
  {
   "cell_type": "code",
   "execution_count": null,
   "metadata": {
    "collapsed": true
   },
   "outputs": [],
   "source": [
    "using DataFrames"
   ]
  },
  {
   "cell_type": "code",
   "execution_count": null,
   "metadata": {
    "collapsed": true
   },
   "outputs": [],
   "source": [
    "df1 = readtable(\"somedata.csv\")"
   ]
  },
  {
   "cell_type": "code",
   "execution_count": null,
   "metadata": {
    "collapsed": true
   },
   "outputs": [],
   "source": [
    "df2 = readtable(\"somedata.csv\", makefactors = true)"
   ]
  },
  {
   "cell_type": "code",
   "execution_count": null,
   "metadata": {
    "collapsed": true
   },
   "outputs": [],
   "source": [
    "df3 = readtable(\"somedata.csv\", makefactors = true, seperator = '\\t')"
   ]
  },
  {
   "cell_type": "code",
   "execution_count": null,
   "metadata": {
    "collapsed": true
   },
   "outputs": [],
   "source": [
    "df4 = readtable(\"somedata.csv\", nastring = \"999\")"
   ]
  },
  {
   "cell_type": "code",
   "execution_count": null,
   "metadata": {
    "collapsed": true
   },
   "outputs": [],
   "source": [
    "df5 = readtable(\"somedata.csv\", nastring = [\"\", \"NA\", \"999\")"
   ]
  },
  {
   "cell_type": "code",
   "execution_count": null,
   "metadata": {
    "collapsed": true
   },
   "outputs": [],
   "source": [
    "df1[:age]                     # entire `age` column\n",
    "df1[3, :condition]            # third participant's `condition`\n",
    "df1[4, :]                     # all of row 4"
   ]
  },
  {
   "cell_type": "markdown",
   "metadata": {},
   "source": [
    "---"
   ]
  },
  {
   "cell_type": "markdown",
   "metadata": {},
   "source": [
    "## Challenge Question 1"
   ]
  },
  {
   "cell_type": "markdown",
   "metadata": {},
   "source": [
    "Using the `stagec` dataset from the rpart package in R, find the Gleason score of oldest patient. As a hint, you may consider using the `indmax()` function."
   ]
  },
  {
   "cell_type": "code",
   "execution_count": 18,
   "metadata": {
    "collapsed": false,
    "scrolled": true
   },
   "outputs": [
    {
     "data": {
      "text/html": [
       "<table class=\"data-frame\"><tr><th></th><th>PgTime</th><th>PgStat</th><th>Age</th><th>EET</th><th>G2</th><th>Grade</th><th>Gleason</th><th>Ploidy</th></tr><tr><th>1</th><td>6.1</td><td>0</td><td>64</td><td>2</td><td>10.26</td><td>2</td><td>4</td><td>diploid</td></tr><tr><th>2</th><td>9.4</td><td>0</td><td>62</td><td>1</td><td>NA</td><td>3</td><td>8</td><td>aneuploid</td></tr><tr><th>3</th><td>5.2</td><td>1</td><td>59</td><td>2</td><td>9.99</td><td>3</td><td>7</td><td>diploid</td></tr><tr><th>4</th><td>3.2</td><td>1</td><td>62</td><td>2</td><td>3.57</td><td>2</td><td>4</td><td>diploid</td></tr><tr><th>5</th><td>1.9</td><td>1</td><td>64</td><td>2</td><td>22.56</td><td>4</td><td>8</td><td>tetraploid</td></tr><tr><th>6</th><td>4.8</td><td>0</td><td>69</td><td>1</td><td>6.14</td><td>3</td><td>7</td><td>diploid</td></tr><tr><th>7</th><td>5.8</td><td>0</td><td>75</td><td>2</td><td>13.69</td><td>2</td><td>NA</td><td>tetraploid</td></tr><tr><th>8</th><td>7.3</td><td>0</td><td>71</td><td>2</td><td>NA</td><td>3</td><td>7</td><td>aneuploid</td></tr><tr><th>9</th><td>3.7</td><td>1</td><td>73</td><td>2</td><td>11.77</td><td>3</td><td>6</td><td>diploid</td></tr><tr><th>10</th><td>15.9</td><td>0</td><td>64</td><td>2</td><td>27.27</td><td>3</td><td>7</td><td>tetraploid</td></tr><tr><th>11</th><td>6.3</td><td>0</td><td>65</td><td>2</td><td>19.34</td><td>3</td><td>7</td><td>tetraploid</td></tr><tr><th>12</th><td>2.9</td><td>1</td><td>58</td><td>2</td><td>14.82</td><td>4</td><td>8</td><td>tetraploid</td></tr><tr><th>13</th><td>1.5</td><td>1</td><td>70</td><td>2</td><td>10.22</td><td>3</td><td>8</td><td>diploid</td></tr><tr><th>14</th><td>14.5</td><td>0</td><td>67</td><td>2</td><td>15.66</td><td>2</td><td>6</td><td>tetraploid</td></tr><tr><th>15</th><td>4.2</td><td>1</td><td>66</td><td>2</td><td>17.79</td><td>3</td><td>7</td><td>tetraploid</td></tr><tr><th>16</th><td>1.7</td><td>1</td><td>74</td><td>2</td><td>11.11</td><td>3</td><td>8</td><td>diploid</td></tr><tr><th>17</th><td>5.0</td><td>0</td><td>70</td><td>2</td><td>11.44</td><td>2</td><td>5</td><td>diploid</td></tr><tr><th>18</th><td>13.2</td><td>0</td><td>57</td><td>2</td><td>14.78</td><td>2</td><td>4</td><td>tetraploid</td></tr><tr><th>19</th><td>10.9</td><td>0</td><td>63</td><td>2</td><td>54.93</td><td>3</td><td>8</td><td>tetraploid</td></tr><tr><th>20</th><td>13.0</td><td>0</td><td>65</td><td>2</td><td>24.58</td><td>3</td><td>7</td><td>tetraploid</td></tr><tr><th>21</th><td>11.4</td><td>0</td><td>62</td><td>2</td><td>27.79</td><td>2</td><td>5</td><td>tetraploid</td></tr><tr><th>22</th><td>2.6</td><td>1</td><td>72</td><td>2</td><td>14.86</td><td>3</td><td>6</td><td>tetraploid</td></tr><tr><th>23</th><td>9.8</td><td>0</td><td>64</td><td>1</td><td>10.51</td><td>2</td><td>5</td><td>diploid</td></tr><tr><th>24</th><td>3.4</td><td>1</td><td>67</td><td>NA</td><td>14.22</td><td>2</td><td>6</td><td>tetraploid</td></tr><tr><th>25</th><td>7.6</td><td>1</td><td>64</td><td>2</td><td>15.28</td><td>2</td><td>5</td><td>tetraploid</td></tr><tr><th>26</th><td>4.8</td><td>1</td><td>70</td><td>2</td><td>16.91</td><td>3</td><td>6</td><td>tetraploid</td></tr><tr><th>27</th><td>3.7</td><td>1</td><td>58</td><td>1</td><td>17.87</td><td>3</td><td>7</td><td>tetraploid</td></tr><tr><th>28</th><td>13.9</td><td>0</td><td>57</td><td>2</td><td>12.13</td><td>3</td><td>6</td><td>diploid</td></tr><tr><th>29</th><td>4.9</td><td>1</td><td>54</td><td>1</td><td>17.25</td><td>2</td><td>5</td><td>tetraploid</td></tr><tr><th>30</th><td>15.9</td><td>0</td><td>61</td><td>1</td><td>16.53</td><td>3</td><td>7</td><td>tetraploid</td></tr><tr><th>&vellip;</th><td>&vellip;</td><td>&vellip;</td><td>&vellip;</td><td>&vellip;</td><td>&vellip;</td><td>&vellip;</td><td>&vellip;</td><td>&vellip;</td></tr></table>"
      ],
      "text/plain": [
       "146×8 DataFrames.DataFrame\n",
       "│ Row │ PgTime │ PgStat │ Age │ EET │ G2    │ Grade │ Gleason │ Ploidy       │\n",
       "├─────┼────────┼────────┼─────┼─────┼───────┼───────┼─────────┼──────────────┤\n",
       "│ 1   │ 6.1    │ 0      │ 64  │ 2   │ 10.26 │ 2     │ 4       │ \"diploid\"    │\n",
       "│ 2   │ 9.4    │ 0      │ 62  │ 1   │ NA    │ 3     │ 8       │ \"aneuploid\"  │\n",
       "│ 3   │ 5.2    │ 1      │ 59  │ 2   │ 9.99  │ 3     │ 7       │ \"diploid\"    │\n",
       "│ 4   │ 3.2    │ 1      │ 62  │ 2   │ 3.57  │ 2     │ 4       │ \"diploid\"    │\n",
       "│ 5   │ 1.9    │ 1      │ 64  │ 2   │ 22.56 │ 4     │ 8       │ \"tetraploid\" │\n",
       "│ 6   │ 4.8    │ 0      │ 69  │ 1   │ 6.14  │ 3     │ 7       │ \"diploid\"    │\n",
       "│ 7   │ 5.8    │ 0      │ 75  │ 2   │ 13.69 │ 2     │ NA      │ \"tetraploid\" │\n",
       "│ 8   │ 7.3    │ 0      │ 71  │ 2   │ NA    │ 3     │ 7       │ \"aneuploid\"  │\n",
       "│ 9   │ 3.7    │ 1      │ 73  │ 2   │ 11.77 │ 3     │ 6       │ \"diploid\"    │\n",
       "│ 10  │ 15.9   │ 0      │ 64  │ 2   │ 27.27 │ 3     │ 7       │ \"tetraploid\" │\n",
       "│ 11  │ 6.3    │ 0      │ 65  │ 2   │ 19.34 │ 3     │ 7       │ \"tetraploid\" │\n",
       "⋮\n",
       "│ 135 │ 6.0    │ 0      │ 52  │ 2   │ 9.9   │ 2     │ 4       │ \"diploid\"    │\n",
       "│ 136 │ 5.4    │ 0      │ 68  │ 2   │ 13.01 │ 2     │ 5       │ \"diploid\"    │\n",
       "│ 137 │ 2.4    │ 0      │ 63  │ 2   │ 4.81  │ 3     │ 8       │ \"diploid\"    │\n",
       "│ 138 │ 4.2    │ 0      │ 67  │ 2   │ 14.71 │ 2     │ 5       │ \"tetraploid\" │\n",
       "│ 139 │ 5.5    │ 0      │ 59  │ 1   │ 9.01  │ 2     │ 5       │ \"diploid\"    │\n",
       "│ 140 │ 5.4    │ 0      │ 57  │ 1   │ 10.9  │ 3     │ 6       │ \"diploid\"    │\n",
       "│ 141 │ 8.2    │ 0      │ 62  │ 2   │ 10.72 │ 3     │ 7       │ \"diploid\"    │\n",
       "│ 142 │ 10.2   │ 0      │ 63  │ 2   │ 5.14  │ 2     │ 5       │ \"diploid\"    │\n",
       "│ 143 │ 2.5    │ 1      │ 73  │ 2   │ 46.92 │ 4     │ 9       │ \"tetraploid\" │\n",
       "│ 144 │ 7.9    │ 0      │ 68  │ 2   │ NA    │ 2     │ 5       │ \"aneuploid\"  │\n",
       "│ 145 │ 5.6    │ 0      │ 51  │ 2   │ 9.59  │ 3     │ 6       │ \"diploid\"    │\n",
       "│ 146 │ 2.1    │ 1      │ 56  │ 2   │ 9.01  │ 3     │ 7       │ \"diploid\"    │"
      ]
     },
     "execution_count": 18,
     "metadata": {},
     "output_type": "execute_result"
    }
   ],
   "source": [
    "using RDatasets  \n",
    "\n",
    "stagec = dataset(\"rpart\", \"stagec\")"
   ]
  },
  {
   "cell_type": "markdown",
   "metadata": {},
   "source": [
    "---"
   ]
  },
  {
   "cell_type": "markdown",
   "metadata": {},
   "source": [
    "# Descriptive Statistics\n",
    "Useful Packages:\n",
    "- StatsBase"
   ]
  },
  {
   "cell_type": "code",
   "execution_count": null,
   "metadata": {
    "collapsed": true
   },
   "outputs": [],
   "source": [
    "x = randn(100)                # generate 100 draws from standard Gaussian"
   ]
  },
  {
   "cell_type": "code",
   "execution_count": null,
   "metadata": {
    "collapsed": true
   },
   "outputs": [],
   "source": [
    "mean(x)\n",
    "median(x)\n",
    "mode(x)\n",
    "std(x)\n",
    "var(x)\n",
    "minimum(x)\n",
    "maximum(x)"
   ]
  },
  {
   "cell_type": "markdown",
   "metadata": {},
   "source": [
    "### Descriptives with `DataFrame`"
   ]
  },
  {
   "cell_type": "code",
   "execution_count": null,
   "metadata": {
    "collapsed": true
   },
   "outputs": [],
   "source": [
    "describe(stagec)               # get many useful descriptive stats\n",
    "\n",
    "mean(stagec[:Age])             # get mean of Age column\n",
    "\n",
    "mean(stagec[:Gleason])         # returns NA (not what we want)\n",
    "mean(dropna(stagec[:G2]))      # dropna() removes NA values"
   ]
  },
  {
   "cell_type": "markdown",
   "metadata": {},
   "source": [
    "---"
   ]
  },
  {
   "cell_type": "markdown",
   "metadata": {},
   "source": [
    "---"
   ]
  },
  {
   "cell_type": "markdown",
   "metadata": {},
   "source": [
    "# Inferential Statistics"
   ]
  },
  {
   "cell_type": "markdown",
   "metadata": {},
   "source": [
    "### Useful Packages:\n",
    "- HypothesisTests (Binomial test, t-tests, $\\chi^2$-test, and many more...)\n",
    "- GLM (linear and generalized linear models)\n",
    "- MixedModels (Multi-level (or Mixed-effects) models)"
   ]
  },
  {
   "cell_type": "markdown",
   "metadata": {},
   "source": [
    "## Binomial Test"
   ]
  },
  {
   "cell_type": "markdown",
   "metadata": {},
   "source": [
    "The binomial test is a statistical test of dichotomous data's (e.g., \"success\" and \"failure\") deviation from expected distribution. Binomial tests can be used to answer questions of this form: _If the true probability of success is $P$, then what is the probability of the data we have observed?_"
   ]
  },
  {
   "cell_type": "code",
   "execution_count": null,
   "metadata": {
    "collapsed": true
   },
   "outputs": [],
   "source": [
    "# Coin Tossing Example:\n",
    "# Simulate data from Binomial, test \n",
    "# hypothesis data came from fair coin\n",
    "\n",
    "using HypothesisTests\n",
    "using Distributions\n",
    "\n",
    "binom = Binomial(1, 0.6)                        # initialize Distribution object Binom(1, 0.6) \n",
    "\n",
    "srand(137)                                      # set seed for reproducibility\n",
    "x = rand(binom, 10)                             # take 10 random draws from our distribution\n",
    "\n",
    "xbool = convert(Array{Bool,1}, x)               # cast x to vector of Booleans\n",
    "BinomialTest(xbool, 0.5)                        # test null hypothesis that p = 0.5\n"
   ]
  },
  {
   "cell_type": "markdown",
   "metadata": {},
   "source": [
    "## Student's _T_-test "
   ]
  },
  {
   "cell_type": "markdown",
   "metadata": {},
   "source": [
    "Extremely common statistical test for differences in means between two groups on some continous variable. _T_-tests are often used to investigate the effects of some new treatment versus a control group."
   ]
  },
  {
   "cell_type": "code",
   "execution_count": null,
   "metadata": {
    "collapsed": true
   },
   "outputs": [],
   "source": [
    "# Life Expectancy Example:\n",
    "# Simulate data from Gaussian, test whether smokers \n",
    "# and non-smokers have same life expectancy \n",
    "\n",
    "non_smokers_gaussian = Normal(75, 5)\n",
    "smokers_gaussian = Normal(65, 7)\n",
    "\n",
    "srand(137)\n",
    "\n",
    "non_smokers = rand(non_smokers_gaussian, 30)     # take 30 random draws from Gaussian\n",
    "smokers = rand(smokers_gaussian, 30)\n",
    "\n",
    "EqualVarianceTTest(smokers, non_smokers)         # two-sample t-test (assumes equal variances)"
   ]
  },
  {
   "cell_type": "markdown",
   "metadata": {},
   "source": [
    "## Pearson's Correlation\n",
    "Pearson's correlation is a measure of the linear relationship between two continous variables. The resulting correlation coefficient, $r$, ranges between $1$ and $-1$. Positive values of $r$ indicate a positive association between the variables (e.g., hours of studying and GPA), while negative values indicate a negative relation between variables (e.g., beers-per-week and GPA)."
   ]
  },
  {
   "cell_type": "code",
   "execution_count": null,
   "metadata": {
    "collapsed": true
   },
   "outputs": [],
   "source": [
    "# correlation between two variables in vectors\n",
    "x = randn(100)\n",
    "y = randn(100)\n",
    "\n",
    "cor(x, y)\n",
    "\n",
    "\n",
    "# pairwise correlation of all variables in a matrix\n",
    "A = randn(100, 5)\n",
    "cor(A)\n",
    "\n",
    "\n",
    "# correlation of variables in a DataFrame object\n",
    "cor(stagec[:Age], stagec[:Grade])"
   ]
  },
  {
   "cell_type": "markdown",
   "metadata": {},
   "source": [
    "---"
   ]
  },
  {
   "cell_type": "markdown",
   "metadata": {},
   "source": [
    "## Challenge Question 2\n",
    "Using the `stagec` dataset from above, determine if patients with tetraploidy tumors have higher Gleason scores than patients with diploid tumors."
   ]
  },
  {
   "cell_type": "markdown",
   "metadata": {},
   "source": [
    "---"
   ]
  },
  {
   "cell_type": "markdown",
   "metadata": {},
   "source": [
    "## Linear and Generalized Linear Models\n",
    "Linear regression models and their generalizations represent one of the most powerful and fundamental classes of models in all of statistics. These models are tremendously useful for making inferences as well as for making predictions. They are ubiquitous across scientific disciplines. Furthermore, linear and generalized linear models also serve as the foundation for some of the most promising advances in machine learning and artificial intelligence."
   ]
  },
  {
   "cell_type": "markdown",
   "metadata": {},
   "source": [
    "### Linear Regression Models"
   ]
  },
  {
   "cell_type": "code",
   "execution_count": null,
   "metadata": {
    "collapsed": true
   },
   "outputs": [],
   "source": [
    "using GLM\n",
    "\n",
    "fm1 = lm(G2 ~ 1 + Age, stagec)                               # fit linear model regressing G2 on Age"
   ]
  },
  {
   "cell_type": "code",
   "execution_count": null,
   "metadata": {
    "collapsed": true
   },
   "outputs": [],
   "source": [
    "# basic info for fitted model\n",
    "coef(fm1) \n",
    "stderr(fm1)\n",
    "confint(fm1)\n",
    "residuals(fm1)"
   ]
  },
  {
   "cell_type": "code",
   "execution_count": null,
   "metadata": {
    "collapsed": true
   },
   "outputs": [],
   "source": [
    "# fit indices\n",
    "deviance(fm1)                                                \n",
    "aic(fm1)                                                     \n",
    "bic(fm1)"
   ]
  },
  {
   "cell_type": "code",
   "execution_count": null,
   "metadata": {
    "collapsed": true
   },
   "outputs": [],
   "source": [
    "# make predictions with fitted model\n",
    "new_data = DataFrame(Age = [10, 20, 30, 40, 50])\n",
    "predict(fm1, new_data)"
   ]
  },
  {
   "cell_type": "code",
   "execution_count": null,
   "metadata": {
    "collapsed": true
   },
   "outputs": [],
   "source": [
    "# Adding predictors\n",
    "fm2 = lm(G2 ~ 1 + Age + Gleason, stagec)                     # add Gleason score as predictor\n",
    "deviance(fm2)                                                \n",
    "aic(fm2)                                                     \n",
    "bic(fm2)"
   ]
  },
  {
   "cell_type": "code",
   "execution_count": null,
   "metadata": {
    "collapsed": true
   },
   "outputs": [],
   "source": [
    "fm3 = lm(G2 ~ 1 + Age + Gleason + Grade, stagec)            "
   ]
  },
  {
   "cell_type": "code",
   "execution_count": null,
   "metadata": {
    "collapsed": true
   },
   "outputs": [],
   "source": [
    "# Adding interaction terms\n",
    "fm4 = lm(G2 ~ 1 + Age + Gleason*EET, stagec)                     "
   ]
  },
  {
   "cell_type": "markdown",
   "metadata": {},
   "source": [
    "### Binomial Logistic Regression"
   ]
  },
  {
   "cell_type": "code",
   "execution_count": null,
   "metadata": {
    "collapsed": true
   },
   "outputs": [],
   "source": [
    "fm5 = glm(PgStat ~ 1 + Gleason, stagec, Binomial())          # defaults to logit-link"
   ]
  },
  {
   "cell_type": "code",
   "execution_count": null,
   "metadata": {
    "collapsed": true
   },
   "outputs": [],
   "source": [
    "coef(fm5) \n",
    "stderr(fm5)\n",
    "confint(fm5)"
   ]
  },
  {
   "cell_type": "code",
   "execution_count": null,
   "metadata": {
    "collapsed": true
   },
   "outputs": [],
   "source": [
    "deviance(fm5)                                                \n",
    "aic(fm5)                                                     \n",
    "bic(fm5)"
   ]
  },
  {
   "cell_type": "markdown",
   "metadata": {},
   "source": [
    "### Poisson Regression"
   ]
  },
  {
   "cell_type": "code",
   "execution_count": null,
   "metadata": {
    "collapsed": false,
    "scrolled": true
   },
   "outputs": [],
   "source": [
    "prussian = dataset(\"pscl\", \"prussian\")                       # load Prussian horse kick data"
   ]
  },
  {
   "cell_type": "code",
   "execution_count": null,
   "metadata": {
    "collapsed": false,
    "scrolled": false
   },
   "outputs": [],
   "source": [
    "fm6 = glm(Y ~ 1 + Year + Corp, prussian, Poisson())          # defaults to log link "
   ]
  },
  {
   "cell_type": "code",
   "execution_count": null,
   "metadata": {
    "collapsed": true
   },
   "outputs": [],
   "source": [
    "coef(fm6) \n",
    "stderr(fm6)\n",
    "confint(fm6)\n",
    "deviance(fm6)                                                \n",
    "aic(fm6)                                                     \n",
    "bic(fm6)"
   ]
  },
  {
   "cell_type": "markdown",
   "metadata": {},
   "source": [
    "---"
   ]
  },
  {
   "cell_type": "markdown",
   "metadata": {},
   "source": [
    "## Challenge Question 3\n",
    "A key assumption of linear regression is the normality of error terms. A simple but effective way to check this assumption is to examine a plot of the distribution of the fitted model's residual. \n",
    "\n",
    "Create a plot to check the assumption of normality of error terms for model `fm3` above.\n"
   ]
  },
  {
   "cell_type": "markdown",
   "metadata": {},
   "source": [
    "---"
   ]
  },
  {
   "cell_type": "markdown",
   "metadata": {},
   "source": [
    "---"
   ]
  },
  {
   "cell_type": "markdown",
   "metadata": {},
   "source": [
    "# Machine Learning"
   ]
  },
  {
   "cell_type": "markdown",
   "metadata": {},
   "source": [
    "## Bagging\n",
    "Bagging is \"bootstrap aggregation\", and involves fitting a many individual classification or regression trees. Thus, bagging can be used with both categorical and continous data. The use of many trees improves the prediction accuracy of your fitted model over a single tree (see bias/variance tradeoff)."
   ]
  },
  {
   "cell_type": "code",
   "execution_count": 16,
   "metadata": {
    "collapsed": false
   },
   "outputs": [
    {
     "name": "stderr",
     "output_type": "stream",
     "text": [
      "\n",
      "WARNING: deprecated syntax \"[a=>b for (a,b) in c]\".\n",
      "Use \"Dict(a=>b for (a,b) in c)\" instead.\n",
      "INFO: Precompiling module ScikitLearnBase...\n"
     ]
    }
   ],
   "source": [
    "using DecisionTree"
   ]
  },
  {
   "cell_type": "code",
   "execution_count": 30,
   "metadata": {
    "collapsed": false
   },
   "outputs": [
    {
     "data": {
      "text/plain": [
       "Ensemble of Decision Trees\n",
       "Trees:      50\n",
       "Avg Leaves: 31.04\n",
       "Avg Depth:  10.56"
      ]
     },
     "execution_count": 30,
     "metadata": {},
     "output_type": "execute_result"
    }
   ],
   "source": [
    "stagec_comp = stagec[complete_cases(stagec), :]\n",
    "\n",
    "# must convert to Array\n",
    "y = convert(Array{Float64,1}, stagec_comp[:G2])\n",
    "X = convert(Array{Float64,2}, stagec_comp[[:Age, :Grade, :Gleason, :EET]])\n",
    "\n",
    "fm7 = build_forest(y, X, 4, 50)"
   ]
  },
  {
   "cell_type": "code",
   "execution_count": 31,
   "metadata": {
    "collapsed": false
   },
   "outputs": [
    {
     "data": {
      "text/plain": [
       "11.545366666666665"
      ]
     },
     "execution_count": 31,
     "metadata": {},
     "output_type": "execute_result"
    }
   ],
   "source": [
    "apply_forest(fm7, [55.0, 3.0, 2.0, 1.0])"
   ]
  },
  {
   "cell_type": "markdown",
   "metadata": {},
   "source": [
    "# Recommended Resources\n",
    "\n",
    "### Statistical Inference\n",
    "- Casella and Berger (2002) _Statistical Inference_\n",
    "- Wasserman (2004) _All of Statistics_\n",
    "\n",
    "### Linear Models\n",
    "- Gelman and Hill (2007) _Data Analysis Using Regression and Multilevel/Hierarchical_\n",
    "- Rencher and Schaalje (2008) _Linear Models in Statistics_\n",
    "\n",
    "### Generalized Linear Models\n",
    "- Agresti (2002) _Categorical Data Analysis_\n",
    "- Hosmer and Lemeshow (2000) _Applied Logistic Regression_\n",
    "\n",
    "### Machine Learning\n",
    "- Hastie, Tibshirani, & Friedman (2001) _Elements of Statistical Learning_\n",
    "- James, Witten, Hastie, & Tibshirani (2015) _An Introduction to Statistical Learning_\n",
    "- Kuhn and Johnson (2013) _Applied Predictive Modeling_"
   ]
  },
  {
   "cell_type": "code",
   "execution_count": null,
   "metadata": {
    "collapsed": true
   },
   "outputs": [],
   "source": []
  }
 ],
 "metadata": {
  "kernelspec": {
   "display_name": "Julia 0.5.0-rc2",
   "language": "julia",
   "name": "julia-0.5"
  },
  "language_info": {
   "file_extension": ".jl",
   "mimetype": "application/julia",
   "name": "julia",
   "version": "0.5.0"
  }
 },
 "nbformat": 4,
 "nbformat_minor": 0
}

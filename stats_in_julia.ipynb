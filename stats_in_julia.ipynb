{
 "cells": [
  {
   "cell_type": "markdown",
   "metadata": {},
   "source": [
    "# Vectors and _N_-Dimensional Arrays"
   ]
  },
  {
   "cell_type": "code",
   "execution_count": 1,
   "metadata": {
    "collapsed": false
   },
   "outputs": [
    {
     "data": {
      "text/plain": [
       "3-element Array{Int64,1}:\n",
       " 4\n",
       " 5\n",
       " 6"
      ]
     },
     "execution_count": 1,
     "metadata": {},
     "output_type": "execute_result"
    }
   ],
   "source": [
    "v = [4, 5, 6]"
   ]
  },
  {
   "cell_type": "code",
   "execution_count": 2,
   "metadata": {
    "collapsed": false
   },
   "outputs": [
    {
     "data": {
      "text/plain": [
       "3-element Array{Float64,1}:\n",
       " 1.2\n",
       " 4.5\n",
       " 6.5"
      ]
     },
     "execution_count": 2,
     "metadata": {},
     "output_type": "execute_result"
    }
   ],
   "source": [
    "u = [1.2, 4.5, 6.5]"
   ]
  },
  {
   "cell_type": "code",
   "execution_count": 3,
   "metadata": {
    "collapsed": false
   },
   "outputs": [
    {
     "data": {
      "text/plain": [
       "3-element Array{String,1}:\n",
       " \"dog\" \n",
       " \"cat\" \n",
       " \"bird\""
      ]
     },
     "execution_count": 3,
     "metadata": {},
     "output_type": "execute_result"
    }
   ],
   "source": [
    "w = [\"dog\", \"cat\", \"bird\"]"
   ]
  },
  {
   "cell_type": "markdown",
   "metadata": {},
   "source": [
    "### Grow Vector in Place"
   ]
  },
  {
   "cell_type": "code",
   "execution_count": 4,
   "metadata": {
    "collapsed": false,
    "scrolled": true
   },
   "outputs": [
    {
     "data": {
      "text/plain": [
       "0-element Array{Int64,1}"
      ]
     },
     "execution_count": 4,
     "metadata": {},
     "output_type": "execute_result"
    }
   ],
   "source": [
    "a = Int[]                       # initialize empty vector to be filled with Ints"
   ]
  },
  {
   "cell_type": "code",
   "execution_count": 5,
   "metadata": {
    "collapsed": false
   },
   "outputs": [
    {
     "data": {
      "text/plain": [
       "1-element Array{Int64,1}:\n",
       " 12"
      ]
     },
     "execution_count": 5,
     "metadata": {},
     "output_type": "execute_result"
    }
   ],
   "source": [
    "push!(a, 12)"
   ]
  },
  {
   "cell_type": "code",
   "execution_count": 6,
   "metadata": {
    "collapsed": false
   },
   "outputs": [
    {
     "data": {
      "text/plain": [
       "2-element Array{Int64,1}:\n",
       "   12\n",
       " 1000"
      ]
     },
     "execution_count": 6,
     "metadata": {},
     "output_type": "execute_result"
    }
   ],
   "source": [
    "push!(a, 1000)"
   ]
  },
  {
   "cell_type": "code",
   "execution_count": 7,
   "metadata": {
    "collapsed": false
   },
   "outputs": [
    {
     "ename": "LoadError",
     "evalue": "LoadError: InexactError()\nwhile loading In[7], in expression starting on line 1",
     "output_type": "error",
     "traceback": [
      "LoadError: InexactError()\nwhile loading In[7], in expression starting on line 1",
      "",
      " in push!(::Array{Int64,1}, ::Float64) at ./array.jl:476"
     ]
    }
   ],
   "source": [
    "push!(a, 3.14)                  # ERROR: trying to push Float into vector of Ints"
   ]
  },
  {
   "cell_type": "code",
   "execution_count": 8,
   "metadata": {
    "collapsed": false
   },
   "outputs": [
    {
     "data": {
      "text/plain": [
       "0-element Array{String,1}"
      ]
     },
     "execution_count": 8,
     "metadata": {},
     "output_type": "execute_result"
    }
   ],
   "source": [
    "s = String[]                    # initialize empty vector of strings"
   ]
  },
  {
   "cell_type": "code",
   "execution_count": 9,
   "metadata": {
    "collapsed": false
   },
   "outputs": [
    {
     "data": {
      "text/plain": [
       "3-element Array{String,1}:\n",
       " \"this\"           \n",
       " \"is\"             \n",
       " \"a string vector\""
      ]
     },
     "execution_count": 9,
     "metadata": {},
     "output_type": "execute_result"
    }
   ],
   "source": [
    "push!(s, \"this\")\n",
    "push!(s, \"is\")\n",
    "push!(s, \"a string vector\")"
   ]
  },
  {
   "cell_type": "markdown",
   "metadata": {},
   "source": [
    "### Indexing a Vector"
   ]
  },
  {
   "cell_type": "code",
   "execution_count": 10,
   "metadata": {
    "collapsed": false
   },
   "outputs": [
    {
     "data": {
      "text/plain": [
       "\"is\""
      ]
     },
     "execution_count": 10,
     "metadata": {},
     "output_type": "execute_result"
    }
   ],
   "source": [
    "s[2]                            # get second element"
   ]
  },
  {
   "cell_type": "code",
   "execution_count": 11,
   "metadata": {
    "collapsed": false
   },
   "outputs": [
    {
     "data": {
      "text/plain": [
       "\"a string vector\""
      ]
     },
     "execution_count": 11,
     "metadata": {},
     "output_type": "execute_result"
    }
   ],
   "source": [
    "s[3]                            # third element"
   ]
  },
  {
   "cell_type": "code",
   "execution_count": 12,
   "metadata": {
    "collapsed": false
   },
   "outputs": [
    {
     "data": {
      "text/plain": [
       "\"that\""
      ]
     },
     "execution_count": 12,
     "metadata": {},
     "output_type": "execute_result"
    }
   ],
   "source": [
    "s[1] = \"that\"                   # assign to first element"
   ]
  },
  {
   "cell_type": "code",
   "execution_count": 13,
   "metadata": {
    "collapsed": false
   },
   "outputs": [
    {
     "data": {
      "text/plain": [
       "3-element Array{String,1}:\n",
       " \"that\"           \n",
       " \"is\"             \n",
       " \"a string vector\""
      ]
     },
     "execution_count": 13,
     "metadata": {},
     "output_type": "execute_result"
    }
   ],
   "source": [
    "s"
   ]
  },
  {
   "cell_type": "markdown",
   "metadata": {},
   "source": [
    "### Slicing a Vector"
   ]
  },
  {
   "cell_type": "code",
   "execution_count": 14,
   "metadata": {
    "collapsed": false
   },
   "outputs": [
    {
     "data": {
      "text/plain": [
       "2-element Array{String,1}:\n",
       " \"that\"\n",
       " \"is\"  "
      ]
     },
     "execution_count": 14,
     "metadata": {},
     "output_type": "execute_result"
    }
   ],
   "source": [
    "s[1:2]                          # get subset of vector (1st and 3rd element)"
   ]
  },
  {
   "cell_type": "code",
   "execution_count": 15,
   "metadata": {
    "collapsed": false
   },
   "outputs": [
    {
     "data": {
      "text/plain": [
       "2-element Array{String,1}:\n",
       " \"is\"             \n",
       " \"a string vector\""
      ]
     },
     "execution_count": 15,
     "metadata": {},
     "output_type": "execute_result"
    }
   ],
   "source": [
    "s[2:end]                        # subset from 2nd element to last element"
   ]
  },
  {
   "cell_type": "markdown",
   "metadata": {},
   "source": [
    "## _N_-Dimensional Arrays"
   ]
  },
  {
   "cell_type": "code",
   "execution_count": 16,
   "metadata": {
    "collapsed": false,
    "scrolled": true
   },
   "outputs": [
    {
     "data": {
      "text/plain": [
       "5×3 Array{Float64,2}:\n",
       " 2.35213e-314  2.35213e-314  2.35231e-314\n",
       " 2.35213e-314  2.35213e-314  2.35231e-314\n",
       " 2.35213e-314  2.35214e-314  2.35231e-314\n",
       " 2.35213e-314  2.35231e-314  2.35231e-314\n",
       " 2.35213e-314  2.35231e-314  2.35231e-314"
      ]
     },
     "execution_count": 16,
     "metadata": {},
     "output_type": "execute_result"
    }
   ],
   "source": [
    "A = Array{Float64}(5, 3)        # initialize 5-by-3 matrix (start as all zeros)"
   ]
  },
  {
   "cell_type": "code",
   "execution_count": 17,
   "metadata": {
    "collapsed": false
   },
   "outputs": [
    {
     "data": {
      "text/plain": [
       "5×3 Array{Float64,2}:\n",
       " 0.0  0.0  0.0\n",
       " 0.0  0.0  0.0\n",
       " 0.0  0.0  0.0\n",
       " 0.0  0.0  0.0\n",
       " 0.0  0.0  0.0"
      ]
     },
     "execution_count": 17,
     "metadata": {},
     "output_type": "execute_result"
    }
   ],
   "source": [
    "Z = zeros(5, 3)                 # same as above"
   ]
  },
  {
   "cell_type": "code",
   "execution_count": 18,
   "metadata": {
    "collapsed": false
   },
   "outputs": [
    {
     "data": {
      "text/plain": [
       "3×3 Array{Int64,2}:\n",
       " 1  2  3\n",
       " 4  5  6\n",
       " 7  8  9"
      ]
     },
     "execution_count": 18,
     "metadata": {},
     "output_type": "execute_result"
    }
   ],
   "source": [
    "B = [1 2 3;\n",
    "     4 5 6;\n",
    "     7 8 9]"
   ]
  },
  {
   "cell_type": "markdown",
   "metadata": {},
   "source": [
    "### Indexing and Slicing Matrix (or _N_-dimensional array)"
   ]
  },
  {
   "cell_type": "code",
   "execution_count": 19,
   "metadata": {
    "collapsed": false
   },
   "outputs": [
    {
     "data": {
      "text/plain": [
       "7"
      ]
     },
     "execution_count": 19,
     "metadata": {},
     "output_type": "execute_result"
    }
   ],
   "source": [
    "B[3, 1]                         # gets entry in third row first column"
   ]
  },
  {
   "cell_type": "code",
   "execution_count": 20,
   "metadata": {
    "collapsed": false
   },
   "outputs": [
    {
     "data": {
      "text/plain": [
       "3-element Array{Int64,1}:\n",
       " 4\n",
       " 5\n",
       " 6"
      ]
     },
     "execution_count": 20,
     "metadata": {},
     "output_type": "execute_result"
    }
   ],
   "source": [
    "B[2, :]                         # gets all of second row"
   ]
  },
  {
   "cell_type": "code",
   "execution_count": 21,
   "metadata": {
    "collapsed": false
   },
   "outputs": [
    {
     "data": {
      "text/plain": [
       "3-element Array{Int64,1}:\n",
       " 3\n",
       " 6\n",
       " 9"
      ]
     },
     "execution_count": 21,
     "metadata": {},
     "output_type": "execute_result"
    }
   ],
   "source": [
    "B[:, 3]                         # gets all of third column"
   ]
  },
  {
   "cell_type": "markdown",
   "metadata": {},
   "source": [
    "## Reading Data from Flat File"
   ]
  },
  {
   "cell_type": "code",
   "execution_count": 22,
   "metadata": {
    "collapsed": false
   },
   "outputs": [
    {
     "data": {
      "text/plain": [
       "11×4 Array{Any,2}:\n",
       "   \"id\"    \"age\"  \"gender\"  \"condition\"    \n",
       "  1      23       \"m\"       \"bronchitis\"   \n",
       "  2      54       \"m\"       \"heart disease\"\n",
       "  3      43       \"f\"       \"diabetes\"     \n",
       "  4      27       \"f\"       \"lupus\"        \n",
       "  5      52       \"m\"       \"melanoma\"     \n",
       "  6      48       \"f\"       \"influenza\"    \n",
       "  7      13       \"m\"       \"asthma\"       \n",
       "  8      71       \"f\"       \"arthritis\"    \n",
       "  9      59       \"m\"       \"stroke\"       \n",
       " 10      31       \"f\"       \"epilepsy\"     "
      ]
     },
     "execution_count": 22,
     "metadata": {},
     "output_type": "execute_result"
    }
   ],
   "source": [
    "d = readdlm(\"somedata.csv\", ',')"
   ]
  },
  {
   "cell_type": "code",
   "execution_count": 23,
   "metadata": {
    "collapsed": false
   },
   "outputs": [
    {
     "data": {
      "text/plain": [
       "11×4 Array{Any,2}:\n",
       "   \"id\"    \"age\"  \"gender\"     \"condition\"    \n",
       "  1      23       \"m\"       999               \n",
       "  2      54       \"m\"          \"heart disease\"\n",
       "  3      43       \"f\"          \"diabetes\"     \n",
       "  4      27       \"f\"          \"lupus\"        \n",
       "  5      52       \"m\"          \"melanoma\"     \n",
       "  6      48       \"f\"          \"influenza\"    \n",
       "  7      13       \"m\"       999               \n",
       "  8      71       \"f\"          \"arthritis\"    \n",
       "  9      59       \"m\"          \"stroke\"       \n",
       " 10      31       \"f\"          \"epilepsy\"     "
      ]
     },
     "execution_count": 23,
     "metadata": {},
     "output_type": "execute_result"
    }
   ],
   "source": [
    "d1 = readdlm(\"otherdata.tsv\", '\\t')"
   ]
  },
  {
   "cell_type": "code",
   "execution_count": 24,
   "metadata": {
    "collapsed": false
   },
   "outputs": [
    {
     "data": {
      "text/plain": [
       "11×4 Array{Any,2}:\n",
       "   \"id\"    \"age\"  \"gender\"  \"condition\"    \n",
       "  1      23       \"m\"       \"bronchitis\"   \n",
       "  2      54       \"m\"       \"heart disease\"\n",
       "  3      43       \"f\"       \"diabetes\"     \n",
       "  4      27       \"f\"       \"lupus\"        \n",
       "  5      52       \"m\"       \"melanoma\"     \n",
       "  6      48       \"f\"       \"influenza\"    \n",
       "  7      13       \"m\"       \"asthma\"       \n",
       "  8      71       \"f\"       \"arthritis\"    \n",
       "  9      59       \"m\"       \"stroke\"       \n",
       " 10      31       \"f\"       \"epilepsy\"     "
      ]
     },
     "execution_count": 24,
     "metadata": {},
     "output_type": "execute_result"
    }
   ],
   "source": [
    "d2 = readcsv(\"somedata.csv\")                                 # equivalent to readdlm() with ','"
   ]
  },
  {
   "cell_type": "code",
   "execution_count": 25,
   "metadata": {
    "collapsed": false
   },
   "outputs": [
    {
     "data": {
      "text/plain": [
       "(\n",
       "Any[1 23 \"m\" \"bronchitis\"; 2 54 \"m\" \"heart disease\"; … ; 9 59 \"m\" \"stroke\"; 10 31 \"f\" \"epilepsy\"],\n",
       "\n",
       "AbstractString[\"id\" \"age\" \"gender\" \"condition\"])"
      ]
     },
     "execution_count": 25,
     "metadata": {},
     "output_type": "execute_result"
    }
   ],
   "source": [
    "d3 = readcsv(\"somedata.csv\", header = true)                  # treat first line as column headings"
   ]
  },
  {
   "cell_type": "code",
   "execution_count": 26,
   "metadata": {
    "collapsed": false
   },
   "outputs": [
    {
     "data": {
      "text/plain": [
       "Tuple{Array{Any,2},Array{AbstractString,2}}"
      ]
     },
     "execution_count": 26,
     "metadata": {},
     "output_type": "execute_result"
    }
   ],
   "source": [
    "typeof(d3)"
   ]
  },
  {
   "cell_type": "code",
   "execution_count": 27,
   "metadata": {
    "collapsed": false
   },
   "outputs": [
    {
     "data": {
      "text/plain": [
       "10×4 Array{Any,2}:\n",
       "  1  23  \"m\"  \"bronchitis\"   \n",
       "  2  54  \"m\"  \"heart disease\"\n",
       "  3  43  \"f\"  \"diabetes\"     \n",
       "  4  27  \"f\"  \"lupus\"        \n",
       "  5  52  \"m\"  \"melanoma\"     \n",
       "  6  48  \"f\"  \"influenza\"    \n",
       "  7  13  \"m\"  \"asthma\"       \n",
       "  8  71  \"f\"  \"arthritis\"    \n",
       "  9  59  \"m\"  \"stroke\"       \n",
       " 10  31  \"f\"  \"epilepsy\"     "
      ]
     },
     "execution_count": 27,
     "metadata": {},
     "output_type": "execute_result"
    }
   ],
   "source": [
    "d3[1]"
   ]
  },
  {
   "cell_type": "code",
   "execution_count": 28,
   "metadata": {
    "collapsed": false
   },
   "outputs": [
    {
     "data": {
      "text/plain": [
       "1×4 Array{AbstractString,2}:\n",
       " \"id\"  \"age\"  \"gender\"  \"condition\""
      ]
     },
     "execution_count": 28,
     "metadata": {},
     "output_type": "execute_result"
    }
   ],
   "source": [
    "d3[2]"
   ]
  },
  {
   "cell_type": "code",
   "execution_count": 29,
   "metadata": {
    "collapsed": false
   },
   "outputs": [
    {
     "data": {
      "text/plain": [
       "(\n",
       "Any[4 27 \"f\" \"lupus\"; 5 52 \"m\" \"melanoma\"; … ; 9 59 \"m\" \"stroke\"; 10 31 \"f\" \"epilepsy\"],\n",
       "\n",
       "AbstractString[\"3\" \"43\" \"f\" \"diabetes\"])"
      ]
     },
     "execution_count": 29,
     "metadata": {},
     "output_type": "execute_result"
    }
   ],
   "source": [
    "d4 = readcsv(\"somedata.csv\", header = true, skipstart = 3)   # skip first 3 lines "
   ]
  },
  {
   "cell_type": "markdown",
   "metadata": {},
   "source": [
    "_Note_: There are a variety of other optional arguments you can pass to the `readdlm()` family of functions. You can see more of these by using `?readdlm` at the Julia prompt, or (even better) you can go read the documentation online.  "
   ]
  },
  {
   "cell_type": "markdown",
   "metadata": {},
   "source": [
    "---"
   ]
  },
  {
   "cell_type": "markdown",
   "metadata": {},
   "source": [
    "---"
   ]
  },
  {
   "cell_type": "markdown",
   "metadata": {},
   "source": [
    "# DataFrame Objects"
   ]
  },
  {
   "cell_type": "markdown",
   "metadata": {},
   "source": [
    "### Advantages of `DataFrame` objects\n",
    "- _de facto_ object for data analysis\n",
    "- NA type for missing data\n",
    "- factor-like type for model fitting "
   ]
  },
  {
   "cell_type": "code",
   "execution_count": 30,
   "metadata": {
    "collapsed": true
   },
   "outputs": [],
   "source": [
    "using DataFrames"
   ]
  },
  {
   "cell_type": "code",
   "execution_count": 31,
   "metadata": {
    "collapsed": false
   },
   "outputs": [
    {
     "data": {
      "text/html": [
       "<table class=\"data-frame\"><tr><th></th><th>id</th><th>age</th><th>gender</th><th>condition</th></tr><tr><th>1</th><td>1</td><td>23</td><td>m</td><td>bronchitis</td></tr><tr><th>2</th><td>2</td><td>54</td><td>m</td><td>heart disease</td></tr><tr><th>3</th><td>3</td><td>43</td><td>f</td><td>diabetes</td></tr><tr><th>4</th><td>4</td><td>27</td><td>f</td><td>lupus</td></tr><tr><th>5</th><td>5</td><td>52</td><td>m</td><td>melanoma</td></tr><tr><th>6</th><td>6</td><td>48</td><td>f</td><td>influenza</td></tr><tr><th>7</th><td>7</td><td>13</td><td>m</td><td>asthma</td></tr><tr><th>8</th><td>8</td><td>71</td><td>f</td><td>arthritis</td></tr><tr><th>9</th><td>9</td><td>59</td><td>m</td><td>stroke</td></tr><tr><th>10</th><td>10</td><td>31</td><td>f</td><td>epilepsy</td></tr></table>"
      ],
      "text/plain": [
       "10×4 DataFrames.DataFrame\n",
       "│ Row │ id │ age │ gender │ condition       │\n",
       "├─────┼────┼─────┼────────┼─────────────────┤\n",
       "│ 1   │ 1  │ 23  │ \"m\"    │ \"bronchitis\"    │\n",
       "│ 2   │ 2  │ 54  │ \"m\"    │ \"heart disease\" │\n",
       "│ 3   │ 3  │ 43  │ \"f\"    │ \"diabetes\"      │\n",
       "│ 4   │ 4  │ 27  │ \"f\"    │ \"lupus\"         │\n",
       "│ 5   │ 5  │ 52  │ \"m\"    │ \"melanoma\"      │\n",
       "│ 6   │ 6  │ 48  │ \"f\"    │ \"influenza\"     │\n",
       "│ 7   │ 7  │ 13  │ \"m\"    │ \"asthma\"        │\n",
       "│ 8   │ 8  │ 71  │ \"f\"    │ \"arthritis\"     │\n",
       "│ 9   │ 9  │ 59  │ \"m\"    │ \"stroke\"        │\n",
       "│ 10  │ 10 │ 31  │ \"f\"    │ \"epilepsy\"      │"
      ]
     },
     "execution_count": 31,
     "metadata": {},
     "output_type": "execute_result"
    }
   ],
   "source": [
    "df1 = readtable(\"somedata.csv\")"
   ]
  },
  {
   "cell_type": "code",
   "execution_count": 32,
   "metadata": {
    "collapsed": false
   },
   "outputs": [
    {
     "data": {
      "text/html": [
       "<table class=\"data-frame\"><tr><th></th><th>id</th><th>age</th><th>gender</th><th>condition</th></tr><tr><th>1</th><td>1</td><td>23</td><td>m</td><td>bronchitis</td></tr><tr><th>2</th><td>2</td><td>54</td><td>m</td><td>heart disease</td></tr><tr><th>3</th><td>3</td><td>43</td><td>f</td><td>diabetes</td></tr><tr><th>4</th><td>4</td><td>27</td><td>f</td><td>lupus</td></tr><tr><th>5</th><td>5</td><td>52</td><td>m</td><td>melanoma</td></tr><tr><th>6</th><td>6</td><td>48</td><td>f</td><td>influenza</td></tr><tr><th>7</th><td>7</td><td>13</td><td>m</td><td>asthma</td></tr><tr><th>8</th><td>8</td><td>71</td><td>f</td><td>arthritis</td></tr><tr><th>9</th><td>9</td><td>59</td><td>m</td><td>stroke</td></tr><tr><th>10</th><td>10</td><td>31</td><td>f</td><td>epilepsy</td></tr></table>"
      ],
      "text/plain": [
       "10×4 DataFrames.DataFrame\n",
       "│ Row │ id │ age │ gender │ condition       │\n",
       "├─────┼────┼─────┼────────┼─────────────────┤\n",
       "│ 1   │ 1  │ 23  │ \"m\"    │ \"bronchitis\"    │\n",
       "│ 2   │ 2  │ 54  │ \"m\"    │ \"heart disease\" │\n",
       "│ 3   │ 3  │ 43  │ \"f\"    │ \"diabetes\"      │\n",
       "│ 4   │ 4  │ 27  │ \"f\"    │ \"lupus\"         │\n",
       "│ 5   │ 5  │ 52  │ \"m\"    │ \"melanoma\"      │\n",
       "│ 6   │ 6  │ 48  │ \"f\"    │ \"influenza\"     │\n",
       "│ 7   │ 7  │ 13  │ \"m\"    │ \"asthma\"        │\n",
       "│ 8   │ 8  │ 71  │ \"f\"    │ \"arthritis\"     │\n",
       "│ 9   │ 9  │ 59  │ \"m\"    │ \"stroke\"        │\n",
       "│ 10  │ 10 │ 31  │ \"f\"    │ \"epilepsy\"      │"
      ]
     },
     "execution_count": 32,
     "metadata": {},
     "output_type": "execute_result"
    }
   ],
   "source": [
    "df2 = readtable(\"somedata.csv\", makefactors = true)"
   ]
  },
  {
   "cell_type": "code",
   "execution_count": 33,
   "metadata": {
    "collapsed": false,
    "scrolled": true
   },
   "outputs": [
    {
     "data": {
      "text/html": [
       "<table class=\"data-frame\"><tr><th></th><th>id</th><th>age</th><th>gender</th><th>condition</th></tr><tr><th>1</th><td>1</td><td>23</td><td>m</td><td>999</td></tr><tr><th>2</th><td>2</td><td>54</td><td>m</td><td>heart disease</td></tr><tr><th>3</th><td>3</td><td>43</td><td>f</td><td>diabetes</td></tr><tr><th>4</th><td>4</td><td>27</td><td>f</td><td>lupus</td></tr><tr><th>5</th><td>5</td><td>52</td><td>m</td><td>melanoma</td></tr><tr><th>6</th><td>6</td><td>48</td><td>f</td><td>influenza</td></tr><tr><th>7</th><td>7</td><td>13</td><td>m</td><td>999</td></tr><tr><th>8</th><td>8</td><td>71</td><td>f</td><td>arthritis</td></tr><tr><th>9</th><td>9</td><td>59</td><td>m</td><td>stroke</td></tr><tr><th>10</th><td>10</td><td>31</td><td>f</td><td>epilepsy</td></tr></table>"
      ],
      "text/plain": [
       "10×4 DataFrames.DataFrame\n",
       "│ Row │ id │ age │ gender │ condition       │\n",
       "├─────┼────┼─────┼────────┼─────────────────┤\n",
       "│ 1   │ 1  │ 23  │ \"m\"    │ \"999\"           │\n",
       "│ 2   │ 2  │ 54  │ \"m\"    │ \"heart disease\" │\n",
       "│ 3   │ 3  │ 43  │ \"f\"    │ \"diabetes\"      │\n",
       "│ 4   │ 4  │ 27  │ \"f\"    │ \"lupus\"         │\n",
       "│ 5   │ 5  │ 52  │ \"m\"    │ \"melanoma\"      │\n",
       "│ 6   │ 6  │ 48  │ \"f\"    │ \"influenza\"     │\n",
       "│ 7   │ 7  │ 13  │ \"m\"    │ \"999\"           │\n",
       "│ 8   │ 8  │ 71  │ \"f\"    │ \"arthritis\"     │\n",
       "│ 9   │ 9  │ 59  │ \"m\"    │ \"stroke\"        │\n",
       "│ 10  │ 10 │ 31  │ \"f\"    │ \"epilepsy\"      │"
      ]
     },
     "execution_count": 33,
     "metadata": {},
     "output_type": "execute_result"
    }
   ],
   "source": [
    "df3 = readtable(\"otherdata.tsv\", makefactors = true)"
   ]
  },
  {
   "cell_type": "code",
   "execution_count": 34,
   "metadata": {
    "collapsed": false
   },
   "outputs": [
    {
     "data": {
      "text/html": [
       "<table class=\"data-frame\"><tr><th></th><th>id</th><th>age</th><th>gender</th><th>condition</th></tr><tr><th>1</th><td>1</td><td>23</td><td>m</td><td>NA</td></tr><tr><th>2</th><td>2</td><td>54</td><td>m</td><td>heart disease</td></tr><tr><th>3</th><td>3</td><td>43</td><td>f</td><td>diabetes</td></tr><tr><th>4</th><td>4</td><td>27</td><td>f</td><td>lupus</td></tr><tr><th>5</th><td>5</td><td>52</td><td>m</td><td>melanoma</td></tr><tr><th>6</th><td>6</td><td>48</td><td>f</td><td>influenza</td></tr><tr><th>7</th><td>7</td><td>13</td><td>m</td><td>NA</td></tr><tr><th>8</th><td>8</td><td>71</td><td>f</td><td>arthritis</td></tr><tr><th>9</th><td>9</td><td>59</td><td>m</td><td>stroke</td></tr><tr><th>10</th><td>10</td><td>31</td><td>f</td><td>epilepsy</td></tr></table>"
      ],
      "text/plain": [
       "10×4 DataFrames.DataFrame\n",
       "│ Row │ id │ age │ gender │ condition       │\n",
       "├─────┼────┼─────┼────────┼─────────────────┤\n",
       "│ 1   │ 1  │ 23  │ \"m\"    │ NA              │\n",
       "│ 2   │ 2  │ 54  │ \"m\"    │ \"heart disease\" │\n",
       "│ 3   │ 3  │ 43  │ \"f\"    │ \"diabetes\"      │\n",
       "│ 4   │ 4  │ 27  │ \"f\"    │ \"lupus\"         │\n",
       "│ 5   │ 5  │ 52  │ \"m\"    │ \"melanoma\"      │\n",
       "│ 6   │ 6  │ 48  │ \"f\"    │ \"influenza\"     │\n",
       "│ 7   │ 7  │ 13  │ \"m\"    │ NA              │\n",
       "│ 8   │ 8  │ 71  │ \"f\"    │ \"arthritis\"     │\n",
       "│ 9   │ 9  │ 59  │ \"m\"    │ \"stroke\"        │\n",
       "│ 10  │ 10 │ 31  │ \"f\"    │ \"epilepsy\"      │"
      ]
     },
     "execution_count": 34,
     "metadata": {},
     "output_type": "execute_result"
    }
   ],
   "source": [
    "df4 = readtable(\"otherdata.tsv\", nastrings = [\"999\"])"
   ]
  },
  {
   "cell_type": "code",
   "execution_count": 35,
   "metadata": {
    "collapsed": false
   },
   "outputs": [
    {
     "data": {
      "text/html": [
       "<table class=\"data-frame\"><tr><th></th><th>id</th><th>age</th><th>gender</th><th>condition</th></tr><tr><th>1</th><td>1</td><td>23</td><td>m</td><td>bronchitis</td></tr><tr><th>2</th><td>2</td><td>54</td><td>m</td><td>heart disease</td></tr><tr><th>3</th><td>3</td><td>43</td><td>f</td><td>diabetes</td></tr><tr><th>4</th><td>4</td><td>27</td><td>f</td><td>lupus</td></tr><tr><th>5</th><td>5</td><td>52</td><td>m</td><td>melanoma</td></tr><tr><th>6</th><td>6</td><td>48</td><td>f</td><td>influenza</td></tr><tr><th>7</th><td>7</td><td>13</td><td>m</td><td>asthma</td></tr><tr><th>8</th><td>8</td><td>71</td><td>f</td><td>arthritis</td></tr><tr><th>9</th><td>9</td><td>59</td><td>m</td><td>stroke</td></tr><tr><th>10</th><td>10</td><td>31</td><td>f</td><td>epilepsy</td></tr></table>"
      ],
      "text/plain": [
       "10×4 DataFrames.DataFrame\n",
       "│ Row │ id │ age │ gender │ condition       │\n",
       "├─────┼────┼─────┼────────┼─────────────────┤\n",
       "│ 1   │ 1  │ 23  │ \"m\"    │ \"bronchitis\"    │\n",
       "│ 2   │ 2  │ 54  │ \"m\"    │ \"heart disease\" │\n",
       "│ 3   │ 3  │ 43  │ \"f\"    │ \"diabetes\"      │\n",
       "│ 4   │ 4  │ 27  │ \"f\"    │ \"lupus\"         │\n",
       "│ 5   │ 5  │ 52  │ \"m\"    │ \"melanoma\"      │\n",
       "│ 6   │ 6  │ 48  │ \"f\"    │ \"influenza\"     │\n",
       "│ 7   │ 7  │ 13  │ \"m\"    │ \"asthma\"        │\n",
       "│ 8   │ 8  │ 71  │ \"f\"    │ \"arthritis\"     │\n",
       "│ 9   │ 9  │ 59  │ \"m\"    │ \"stroke\"        │\n",
       "│ 10  │ 10 │ 31  │ \"f\"    │ \"epilepsy\"      │"
      ]
     },
     "execution_count": 35,
     "metadata": {},
     "output_type": "execute_result"
    }
   ],
   "source": [
    "df5 = readtable(\"somedata.csv\", nastrings = [\"\", \"NA\", \"999\"])"
   ]
  },
  {
   "cell_type": "code",
   "execution_count": 36,
   "metadata": {
    "collapsed": false
   },
   "outputs": [
    {
     "data": {
      "text/plain": [
       "10-element DataArrays.DataArray{Int64,1}:\n",
       " 23\n",
       " 54\n",
       " 43\n",
       " 27\n",
       " 52\n",
       " 48\n",
       " 13\n",
       " 71\n",
       " 59\n",
       " 31"
      ]
     },
     "execution_count": 36,
     "metadata": {},
     "output_type": "execute_result"
    }
   ],
   "source": [
    "df1[:age]                     # entire `age` column"
   ]
  },
  {
   "cell_type": "code",
   "execution_count": 37,
   "metadata": {
    "collapsed": false
   },
   "outputs": [
    {
     "data": {
      "text/plain": [
       "\"diabetes\""
      ]
     },
     "execution_count": 37,
     "metadata": {},
     "output_type": "execute_result"
    }
   ],
   "source": [
    "df1[3, :condition]            # third participant's `condition`"
   ]
  },
  {
   "cell_type": "code",
   "execution_count": 38,
   "metadata": {
    "collapsed": false
   },
   "outputs": [
    {
     "data": {
      "text/html": [
       "<table class=\"data-frame\"><tr><th></th><th>id</th><th>age</th><th>gender</th><th>condition</th></tr><tr><th>1</th><td>4</td><td>27</td><td>f</td><td>lupus</td></tr></table>"
      ],
      "text/plain": [
       "1×4 DataFrames.DataFrame\n",
       "│ Row │ id │ age │ gender │ condition │\n",
       "├─────┼────┼─────┼────────┼───────────┤\n",
       "│ 1   │ 4  │ 27  │ \"f\"    │ \"lupus\"   │"
      ]
     },
     "execution_count": 38,
     "metadata": {},
     "output_type": "execute_result"
    }
   ],
   "source": [
    "df1[4, :]                     # all of row 4"
   ]
  },
  {
   "cell_type": "markdown",
   "metadata": {},
   "source": [
    "---"
   ]
  },
  {
   "cell_type": "markdown",
   "metadata": {},
   "source": [
    "## Challenge Question 1"
   ]
  },
  {
   "cell_type": "markdown",
   "metadata": {},
   "source": [
    "Using the `stagec` dataset from the rpart package in R, find the Gleason score of oldest patient."
   ]
  },
  {
   "cell_type": "code",
   "execution_count": 40,
   "metadata": {
    "collapsed": false,
    "scrolled": true
   },
   "outputs": [
    {
     "data": {
      "text/html": [
       "<table class=\"data-frame\"><tr><th></th><th>PgTime</th><th>PgStat</th><th>Age</th><th>EET</th><th>G2</th><th>Grade</th><th>Gleason</th><th>Ploidy</th></tr><tr><th>1</th><td>6.1</td><td>0</td><td>64</td><td>2</td><td>10.26</td><td>2</td><td>4</td><td>diploid</td></tr><tr><th>2</th><td>9.4</td><td>0</td><td>62</td><td>1</td><td>NA</td><td>3</td><td>8</td><td>aneuploid</td></tr><tr><th>3</th><td>5.2</td><td>1</td><td>59</td><td>2</td><td>9.99</td><td>3</td><td>7</td><td>diploid</td></tr><tr><th>4</th><td>3.2</td><td>1</td><td>62</td><td>2</td><td>3.57</td><td>2</td><td>4</td><td>diploid</td></tr><tr><th>5</th><td>1.9</td><td>1</td><td>64</td><td>2</td><td>22.56</td><td>4</td><td>8</td><td>tetraploid</td></tr><tr><th>6</th><td>4.8</td><td>0</td><td>69</td><td>1</td><td>6.14</td><td>3</td><td>7</td><td>diploid</td></tr><tr><th>7</th><td>5.8</td><td>0</td><td>75</td><td>2</td><td>13.69</td><td>2</td><td>NA</td><td>tetraploid</td></tr><tr><th>8</th><td>7.3</td><td>0</td><td>71</td><td>2</td><td>NA</td><td>3</td><td>7</td><td>aneuploid</td></tr><tr><th>9</th><td>3.7</td><td>1</td><td>73</td><td>2</td><td>11.77</td><td>3</td><td>6</td><td>diploid</td></tr><tr><th>10</th><td>15.9</td><td>0</td><td>64</td><td>2</td><td>27.27</td><td>3</td><td>7</td><td>tetraploid</td></tr><tr><th>11</th><td>6.3</td><td>0</td><td>65</td><td>2</td><td>19.34</td><td>3</td><td>7</td><td>tetraploid</td></tr><tr><th>12</th><td>2.9</td><td>1</td><td>58</td><td>2</td><td>14.82</td><td>4</td><td>8</td><td>tetraploid</td></tr><tr><th>13</th><td>1.5</td><td>1</td><td>70</td><td>2</td><td>10.22</td><td>3</td><td>8</td><td>diploid</td></tr><tr><th>14</th><td>14.5</td><td>0</td><td>67</td><td>2</td><td>15.66</td><td>2</td><td>6</td><td>tetraploid</td></tr><tr><th>15</th><td>4.2</td><td>1</td><td>66</td><td>2</td><td>17.79</td><td>3</td><td>7</td><td>tetraploid</td></tr><tr><th>16</th><td>1.7</td><td>1</td><td>74</td><td>2</td><td>11.11</td><td>3</td><td>8</td><td>diploid</td></tr><tr><th>17</th><td>5.0</td><td>0</td><td>70</td><td>2</td><td>11.44</td><td>2</td><td>5</td><td>diploid</td></tr><tr><th>18</th><td>13.2</td><td>0</td><td>57</td><td>2</td><td>14.78</td><td>2</td><td>4</td><td>tetraploid</td></tr><tr><th>19</th><td>10.9</td><td>0</td><td>63</td><td>2</td><td>54.93</td><td>3</td><td>8</td><td>tetraploid</td></tr><tr><th>20</th><td>13.0</td><td>0</td><td>65</td><td>2</td><td>24.58</td><td>3</td><td>7</td><td>tetraploid</td></tr><tr><th>21</th><td>11.4</td><td>0</td><td>62</td><td>2</td><td>27.79</td><td>2</td><td>5</td><td>tetraploid</td></tr><tr><th>22</th><td>2.6</td><td>1</td><td>72</td><td>2</td><td>14.86</td><td>3</td><td>6</td><td>tetraploid</td></tr><tr><th>23</th><td>9.8</td><td>0</td><td>64</td><td>1</td><td>10.51</td><td>2</td><td>5</td><td>diploid</td></tr><tr><th>24</th><td>3.4</td><td>1</td><td>67</td><td>NA</td><td>14.22</td><td>2</td><td>6</td><td>tetraploid</td></tr><tr><th>25</th><td>7.6</td><td>1</td><td>64</td><td>2</td><td>15.28</td><td>2</td><td>5</td><td>tetraploid</td></tr><tr><th>26</th><td>4.8</td><td>1</td><td>70</td><td>2</td><td>16.91</td><td>3</td><td>6</td><td>tetraploid</td></tr><tr><th>27</th><td>3.7</td><td>1</td><td>58</td><td>1</td><td>17.87</td><td>3</td><td>7</td><td>tetraploid</td></tr><tr><th>28</th><td>13.9</td><td>0</td><td>57</td><td>2</td><td>12.13</td><td>3</td><td>6</td><td>diploid</td></tr><tr><th>29</th><td>4.9</td><td>1</td><td>54</td><td>1</td><td>17.25</td><td>2</td><td>5</td><td>tetraploid</td></tr><tr><th>30</th><td>15.9</td><td>0</td><td>61</td><td>1</td><td>16.53</td><td>3</td><td>7</td><td>tetraploid</td></tr><tr><th>&vellip;</th><td>&vellip;</td><td>&vellip;</td><td>&vellip;</td><td>&vellip;</td><td>&vellip;</td><td>&vellip;</td><td>&vellip;</td><td>&vellip;</td></tr></table>"
      ],
      "text/plain": [
       "146×8 DataFrames.DataFrame\n",
       "│ Row │ PgTime │ PgStat │ Age │ EET │ G2    │ Grade │ Gleason │ Ploidy       │\n",
       "├─────┼────────┼────────┼─────┼─────┼───────┼───────┼─────────┼──────────────┤\n",
       "│ 1   │ 6.1    │ 0      │ 64  │ 2   │ 10.26 │ 2     │ 4       │ \"diploid\"    │\n",
       "│ 2   │ 9.4    │ 0      │ 62  │ 1   │ NA    │ 3     │ 8       │ \"aneuploid\"  │\n",
       "│ 3   │ 5.2    │ 1      │ 59  │ 2   │ 9.99  │ 3     │ 7       │ \"diploid\"    │\n",
       "│ 4   │ 3.2    │ 1      │ 62  │ 2   │ 3.57  │ 2     │ 4       │ \"diploid\"    │\n",
       "│ 5   │ 1.9    │ 1      │ 64  │ 2   │ 22.56 │ 4     │ 8       │ \"tetraploid\" │\n",
       "│ 6   │ 4.8    │ 0      │ 69  │ 1   │ 6.14  │ 3     │ 7       │ \"diploid\"    │\n",
       "│ 7   │ 5.8    │ 0      │ 75  │ 2   │ 13.69 │ 2     │ NA      │ \"tetraploid\" │\n",
       "│ 8   │ 7.3    │ 0      │ 71  │ 2   │ NA    │ 3     │ 7       │ \"aneuploid\"  │\n",
       "│ 9   │ 3.7    │ 1      │ 73  │ 2   │ 11.77 │ 3     │ 6       │ \"diploid\"    │\n",
       "│ 10  │ 15.9   │ 0      │ 64  │ 2   │ 27.27 │ 3     │ 7       │ \"tetraploid\" │\n",
       "│ 11  │ 6.3    │ 0      │ 65  │ 2   │ 19.34 │ 3     │ 7       │ \"tetraploid\" │\n",
       "⋮\n",
       "│ 135 │ 6.0    │ 0      │ 52  │ 2   │ 9.9   │ 2     │ 4       │ \"diploid\"    │\n",
       "│ 136 │ 5.4    │ 0      │ 68  │ 2   │ 13.01 │ 2     │ 5       │ \"diploid\"    │\n",
       "│ 137 │ 2.4    │ 0      │ 63  │ 2   │ 4.81  │ 3     │ 8       │ \"diploid\"    │\n",
       "│ 138 │ 4.2    │ 0      │ 67  │ 2   │ 14.71 │ 2     │ 5       │ \"tetraploid\" │\n",
       "│ 139 │ 5.5    │ 0      │ 59  │ 1   │ 9.01  │ 2     │ 5       │ \"diploid\"    │\n",
       "│ 140 │ 5.4    │ 0      │ 57  │ 1   │ 10.9  │ 3     │ 6       │ \"diploid\"    │\n",
       "│ 141 │ 8.2    │ 0      │ 62  │ 2   │ 10.72 │ 3     │ 7       │ \"diploid\"    │\n",
       "│ 142 │ 10.2   │ 0      │ 63  │ 2   │ 5.14  │ 2     │ 5       │ \"diploid\"    │\n",
       "│ 143 │ 2.5    │ 1      │ 73  │ 2   │ 46.92 │ 4     │ 9       │ \"tetraploid\" │\n",
       "│ 144 │ 7.9    │ 0      │ 68  │ 2   │ NA    │ 2     │ 5       │ \"aneuploid\"  │\n",
       "│ 145 │ 5.6    │ 0      │ 51  │ 2   │ 9.59  │ 3     │ 6       │ \"diploid\"    │\n",
       "│ 146 │ 2.1    │ 1      │ 56  │ 2   │ 9.01  │ 3     │ 7       │ \"diploid\"    │"
      ]
     },
     "execution_count": 40,
     "metadata": {},
     "output_type": "execute_result"
    }
   ],
   "source": [
    "using RDatasets  \n",
    "\n",
    "stagec = dataset(\"rpart\", \"stagec\")       # might need to be run twice"
   ]
  },
  {
   "cell_type": "markdown",
   "metadata": {},
   "source": [
    "---"
   ]
  },
  {
   "cell_type": "markdown",
   "metadata": {},
   "source": [
    "# Descriptive Statistics\n",
    "Useful Packages:\n",
    "- StatsBase"
   ]
  },
  {
   "cell_type": "code",
   "execution_count": 41,
   "metadata": {
    "collapsed": false
   },
   "outputs": [
    {
     "data": {
      "text/plain": [
       "100-element Array{Float64,1}:\n",
       "  1.81681 \n",
       " -0.106883\n",
       " -0.304894\n",
       "  0.627641\n",
       " -0.646006\n",
       " -1.80745 \n",
       " -1.6134  \n",
       "  0.847962\n",
       " -0.210035\n",
       "  2.46234 \n",
       "  1.37391 \n",
       "  0.261386\n",
       "  0.834375\n",
       "  ⋮       \n",
       " -0.124578\n",
       " -2.00369 \n",
       " -0.391279\n",
       "  0.177285\n",
       "  0.917718\n",
       " -0.557587\n",
       "  0.867045\n",
       "  1.32187 \n",
       "  0.79401 \n",
       "  1.50355 \n",
       "  0.97725 \n",
       "  1.51719 "
      ]
     },
     "execution_count": 41,
     "metadata": {},
     "output_type": "execute_result"
    }
   ],
   "source": [
    "x = randn(100)                # generate 100 draws from standard Gaussian"
   ]
  },
  {
   "cell_type": "code",
   "execution_count": 44,
   "metadata": {
    "collapsed": false
   },
   "outputs": [
    {
     "name": "stdout",
     "output_type": "stream",
     "text": [
      "mean(x) = 0.18428586576159323\n",
      "median(x) = 0.18172760982856606\n",
      "mode(x) = 1.8168122293214692\n",
      "std(x) = 0.9388154447625697\n",
      "var(x) = 0.8813744393247417\n",
      "minimum(x) = -2.2547483697966633\n",
      "maximum(x) = 2.4623405681806694\n"
     ]
    }
   ],
   "source": [
    "@show mean(x)\n",
    "@show median(x)\n",
    "@show mode(x)\n",
    "@show std(x)\n",
    "@show var(x)\n",
    "@show minimum(x)\n",
    "@show maximum(x);"
   ]
  },
  {
   "cell_type": "markdown",
   "metadata": {},
   "source": [
    "### Descriptives with `DataFrame`"
   ]
  },
  {
   "cell_type": "code",
   "execution_count": 46,
   "metadata": {
    "collapsed": false
   },
   "outputs": [
    {
     "name": "stdout",
     "output_type": "stream",
     "text": [
      "PgTime\n",
      "Min      0.3\n",
      "1st Qu.  3.7\n",
      "Median   5.9\n",
      "Mean     6.323972602739725\n",
      "3rd Qu.  7.9\n",
      "Max      17.7\n",
      "NAs      0\n",
      "NA%      0.0%\n",
      "\n",
      "PgStat\n",
      "Min      0.0\n",
      "1st Qu.  0.0\n",
      "Median   0.0\n",
      "Mean     0.3698630136986301\n",
      "3rd Qu.  1.0\n",
      "Max      1.0\n",
      "NAs      0\n",
      "NA%      0.0%\n",
      "\n",
      "Age\n",
      "Min      47.0\n",
      "1st Qu.  59.0\n",
      "Median   63.0\n",
      "Mean     63.0\n",
      "3rd Qu.  67.0\n",
      "Max      75.0\n",
      "NAs      0\n",
      "NA%      0.0%\n",
      "\n",
      "EET\n",
      "Min      1.0\n",
      "1st Qu.  1.75\n",
      "Median   2.0\n",
      "Mean     1.75\n",
      "3rd Qu.  2.0\n",
      "Max      2.0\n",
      "NAs      2\n",
      "NA%      1.37%\n",
      "\n",
      "G2\n",
      "Min      2.4\n",
      "1st Qu.  9.215\n",
      "Median   13.01\n",
      "Mean     14.27525179856115\n",
      "3rd Qu.  16.715\n",
      "Max      54.93\n",
      "NAs      7\n",
      "NA%      4.79%\n",
      "\n",
      "Grade\n",
      "Min      1.0\n",
      "1st Qu.  2.0\n",
      "Median   3.0\n",
      "Mean     2.6095890410958904\n",
      "3rd Qu.  3.0\n",
      "Max      4.0\n",
      "NAs      0\n",
      "NA%      0.0%\n",
      "\n",
      "Gleason\n",
      "Min      3.0\n",
      "1st Qu.  5.0\n",
      "Median   6.0\n",
      "Mean     6.34965034965035\n",
      "3rd Qu.  7.0\n",
      "Max      10.0\n",
      "NAs      3\n",
      "NA%      2.05%\n",
      "\n",
      "Ploidy\n",
      "Length  146\n",
      "Type    Pooled String\n",
      "NAs     0\n",
      "NA%     0.0%\n",
      "Unique  3\n",
      "\n",
      "mean(stagec[:Age]) = 63.0\n",
      "mean(stagec[:Gleason]) = NA\n",
      "mean(dropna(stagec[:G2])) = 14.27525179856115\n"
     ]
    },
    {
     "data": {
      "text/plain": [
       "14.27525179856115"
      ]
     },
     "execution_count": 46,
     "metadata": {},
     "output_type": "execute_result"
    }
   ],
   "source": [
    "describe(stagec)                     # get many useful descriptive stats\n",
    "\n"
   ]
  },
  {
   "cell_type": "code",
   "execution_count": 49,
   "metadata": {
    "collapsed": false
   },
   "outputs": [
    {
     "name": "stdout",
     "output_type": "stream",
     "text": [
      "mean(stagec[:Age]) = 63.0\n",
      "mean(stagec[:Gleason]) = NA\n",
      "mean(dropna(stagec[:G2])) = 14.27525179856115\n"
     ]
    },
    {
     "data": {
      "text/plain": [
       "14.27525179856115"
      ]
     },
     "execution_count": 49,
     "metadata": {},
     "output_type": "execute_result"
    }
   ],
   "source": [
    "@show mean(stagec[:Age])             # get mean of Age column\n",
    "@show mean(stagec[:Gleason])         # returns NA (not what we want)\n",
    "@show mean(dropna(stagec[:G2]))      # dropna() removes NA values"
   ]
  },
  {
   "cell_type": "markdown",
   "metadata": {},
   "source": [
    "---"
   ]
  },
  {
   "cell_type": "markdown",
   "metadata": {},
   "source": [
    "---"
   ]
  },
  {
   "cell_type": "markdown",
   "metadata": {},
   "source": [
    "# Inferential Statistics"
   ]
  },
  {
   "cell_type": "markdown",
   "metadata": {},
   "source": [
    "Useful Packages:\n",
    "- HypothesisTests (Binomial test, _t_-tests, $\\chi^2$-test, and many more...)\n",
    "- GLM (linear and generalized linear models)\n",
    "- MixedModels (Multi-level (or Mixed-effects) models)"
   ]
  },
  {
   "cell_type": "markdown",
   "metadata": {},
   "source": [
    "## Binomial Test"
   ]
  },
  {
   "cell_type": "markdown",
   "metadata": {},
   "source": [
    "The binomial test is a statistical test of dichotomous data's (e.g., \"success\" and \"failure\") deviation from expected distribution. Binomial tests can be used to answer questions of this form: _If the true probability of success is $P$ then what is the probability of the data we have observed?_"
   ]
  },
  {
   "cell_type": "code",
   "execution_count": 50,
   "metadata": {
    "collapsed": false
   },
   "outputs": [
    {
     "data": {
      "text/plain": [
       "Binomial test\n",
       "-------------\n",
       "Population details:\n",
       "    parameter of interest:   Probability of success\n",
       "    value under h_0:         0.5\n",
       "    point estimate:          0.6\n",
       "    95% confidence interval: (0.26237807660694507,0.8784477418801727)\n",
       "\n",
       "Test summary:\n",
       "    outcome with 95% confidence: fail to reject h_0\n",
       "    two-sided p-value:           0.7539062500000002 (not significant)\n",
       "\n",
       "Details:\n",
       "    number of observations: 10\n",
       "    number of successes:    6\n"
      ]
     },
     "execution_count": 50,
     "metadata": {},
     "output_type": "execute_result"
    }
   ],
   "source": [
    "# Coin Tossing Example:\n",
    "# Simulate data from Binomial, test \n",
    "# hypothesis data came from fair coin\n",
    "\n",
    "using HypothesisTests\n",
    "using Distributions\n",
    "\n",
    "binom = Binomial(1, 0.6)                        # initialize Distribution object Binom(1, 0.6) \n",
    "\n",
    "srand(137)                                      # set seed for reproducibility\n",
    "x = rand(binom, 10)                             # take 10 random draws from our distribution\n",
    "\n",
    "xbool = convert(Array{Bool,1}, x)               # cast x to vector of Booleans\n",
    "BinomialTest(xbool, 0.5)                        # test null hypothesis that p = 0.5\n"
   ]
  },
  {
   "cell_type": "markdown",
   "metadata": {},
   "source": [
    "## Student's _T_-test "
   ]
  },
  {
   "cell_type": "markdown",
   "metadata": {},
   "source": [
    "Extremely common statistical test for differences in means between two groups on some continous variable. _T_-tests are often used to investigate the effects of some new treatment versus a control group."
   ]
  },
  {
   "cell_type": "code",
   "execution_count": 51,
   "metadata": {
    "collapsed": false
   },
   "outputs": [
    {
     "data": {
      "text/plain": [
       "Two sample t-test (equal variance)\n",
       "----------------------------------\n",
       "Population details:\n",
       "    parameter of interest:   Mean difference\n",
       "    value under h_0:         0\n",
       "    point estimate:          -8.22222496690523\n",
       "    95% confidence interval: (-11.279591398549222,-5.164858535261239)\n",
       "\n",
       "Test summary:\n",
       "    outcome with 95% confidence: reject h_0\n",
       "    two-sided p-value:           1.3800085142432315e-6 (extremely significant)\n",
       "\n",
       "Details:\n",
       "    number of observations:   [30,30]\n",
       "    t-statistic:              -5.3832511878465485\n",
       "    degrees of freedom:       58\n",
       "    empirical standard error: 1.5273715975706403\n"
      ]
     },
     "execution_count": 51,
     "metadata": {},
     "output_type": "execute_result"
    }
   ],
   "source": [
    "# Life Expectancy Example:\n",
    "# Simulate data from Gaussian, test whether smokers \n",
    "# and non-smokers have same life expectancy \n",
    "\n",
    "non_smokers_gaussian = Normal(75, 5)\n",
    "smokers_gaussian = Normal(65, 7)\n",
    "\n",
    "srand(137)\n",
    "\n",
    "non_smokers = rand(non_smokers_gaussian, 30)     # take 30 random draws from Gaussian\n",
    "smokers = rand(smokers_gaussian, 30)\n",
    "\n",
    "EqualVarianceTTest(smokers, non_smokers)         # two-sample t-test (assumes equal variances)"
   ]
  },
  {
   "cell_type": "markdown",
   "metadata": {},
   "source": [
    "## Pearson's Correlation\n",
    "Pearson's correlation is a measure of the linear relationship between two continous variables. The resulting correlation coefficient, _r_, ranges between 1 and -1. Positive values of _r_ indicate a positive association between the variables (e.g., hours of studying and GPA), while negative values indicate a negative relation between variables (e.g., beers-per-week and GPA)."
   ]
  },
  {
   "cell_type": "code",
   "execution_count": 52,
   "metadata": {
    "collapsed": false
   },
   "outputs": [
    {
     "data": {
      "text/plain": [
       "0.11194734281527548"
      ]
     },
     "execution_count": 52,
     "metadata": {},
     "output_type": "execute_result"
    }
   ],
   "source": [
    "# correlation between two variables in vectors\n",
    "x = randn(100)\n",
    "y = randn(100)\n",
    "\n",
    "cor(x, y)"
   ]
  },
  {
   "cell_type": "code",
   "execution_count": 57,
   "metadata": {
    "collapsed": false
   },
   "outputs": [
    {
     "data": {
      "text/plain": [
       "5×5 Array{Float64,2}:\n",
       "  1.0         0.0309501    -0.0593928    -0.130261    -0.24591    \n",
       "  0.0309501   1.0          -0.0321801    -0.0366651    0.000577063\n",
       " -0.0593928  -0.0321801     1.0           0.00831268   0.000747505\n",
       " -0.130261   -0.0366651     0.00831268    1.0          0.154578   \n",
       " -0.24591     0.000577063   0.000747505   0.154578     1.0        "
      ]
     },
     "execution_count": 57,
     "metadata": {},
     "output_type": "execute_result"
    }
   ],
   "source": [
    "# pairwise correlation of all variables in a matrix\n",
    "A = randn(100, 5)\n",
    "cor(A)"
   ]
  },
  {
   "cell_type": "code",
   "execution_count": 54,
   "metadata": {
    "collapsed": false
   },
   "outputs": [
    {
     "data": {
      "text/plain": [
       "-0.08010120432272935"
      ]
     },
     "execution_count": 54,
     "metadata": {},
     "output_type": "execute_result"
    }
   ],
   "source": [
    "# correlation of variables in a DataFrame object\n",
    "cor(stagec[:Age], stagec[:Grade])"
   ]
  },
  {
   "cell_type": "markdown",
   "metadata": {},
   "source": [
    "---"
   ]
  },
  {
   "cell_type": "markdown",
   "metadata": {},
   "source": [
    "## Challenge Question 2\n",
    "Using the `stagec` dataset from above, determine if patients with tetraploidy tumors have higher Gleason scores than patients with diploid tumors."
   ]
  },
  {
   "cell_type": "markdown",
   "metadata": {},
   "source": [
    "## Challenge Question 3\n",
    "Create a plot of the distributions of the two groups' data described in Question 2 above.   "
   ]
  },
  {
   "cell_type": "markdown",
   "metadata": {},
   "source": [
    "---"
   ]
  },
  {
   "cell_type": "markdown",
   "metadata": {},
   "source": [
    "## Linear and Generalized Linear Models\n",
    "Linear regression models and their generalizations represent one of the most powerful and fundamental classes of models in all of statistics. These models are tremendously useful for making inferences as well as for making predictions. They are ubiquitous across scientific disciplines. Furthermore, linear and generalized linear models also serve as the foundation for some of the most promising advances in machine learning and artificial intelligence."
   ]
  },
  {
   "cell_type": "markdown",
   "metadata": {},
   "source": [
    "### Linear Regression Models\n",
    "Useful Packages:\n",
    "- GLM\n",
    "- MixedModels (for multi-level models)\n",
    "- Mamba (for Bayesians)"
   ]
  },
  {
   "cell_type": "code",
   "execution_count": 58,
   "metadata": {
    "collapsed": false
   },
   "outputs": [
    {
     "data": {
      "text/plain": [
       "DataFrames.DataFrameRegressionModel{GLM.LinearModel{GLM.LmResp{Array{Float64,1}},GLM.DensePredQR{Float64}},Array{Float64,2}}\n",
       "\n",
       "Formula: G2 ~ 1 + Age\n",
       "\n",
       "Coefficients:\n",
       "             Estimate Std.Error  t value Pr(>|t|)\n",
       "(Intercept)   5.18789    7.5146 0.690375   0.4911\n",
       "Age          0.144359  0.118861  1.21452   0.2266\n"
      ]
     },
     "execution_count": 58,
     "metadata": {},
     "output_type": "execute_result"
    }
   ],
   "source": [
    "using GLM\n",
    "\n",
    "fm1 = lm(G2 ~ 1 + Age, stagec)                               # fit linear model regressing G2 on Age"
   ]
  },
  {
   "cell_type": "code",
   "execution_count": 59,
   "metadata": {
    "collapsed": false
   },
   "outputs": [
    {
     "data": {
      "text/plain": [
       "2-element Array{Float64,1}:\n",
       " 5.18789 \n",
       " 0.144359"
      ]
     },
     "execution_count": 59,
     "metadata": {},
     "output_type": "execute_result"
    }
   ],
   "source": [
    "coef(fm1)                                                    # get model coefficients (i.e., Betas)"
   ]
  },
  {
   "cell_type": "code",
   "execution_count": 60,
   "metadata": {
    "collapsed": false
   },
   "outputs": [
    {
     "data": {
      "text/plain": [
       "2-element Array{Float64,1}:\n",
       " 7.5146  \n",
       " 0.118861"
      ]
     },
     "execution_count": 60,
     "metadata": {},
     "output_type": "execute_result"
    }
   ],
   "source": [
    "stderr(fm1)                                                  # standard error of coefficients"
   ]
  },
  {
   "cell_type": "code",
   "execution_count": 61,
   "metadata": {
    "collapsed": false
   },
   "outputs": [
    {
     "data": {
      "text/plain": [
       "2×2 Array{Float64,2}:\n",
       " -9.67171    20.0475  \n",
       " -0.0906806   0.379399"
      ]
     },
     "execution_count": 61,
     "metadata": {},
     "output_type": "execute_result"
    }
   ],
   "source": [
    "confint(fm1)                                                 # confidence intervals for coefficients"
   ]
  },
  {
   "cell_type": "code",
   "execution_count": 62,
   "metadata": {
    "collapsed": false
   },
   "outputs": [
    {
     "data": {
      "text/plain": [
       "139-element Array{Float64,1}:\n",
       " 14.4269\n",
       " 13.7051\n",
       " 14.1382\n",
       " 14.4269\n",
       " 15.1487\n",
       " 16.0148\n",
       " 15.7261\n",
       " 14.4269\n",
       " 14.5712\n",
       " 13.5607\n",
       " 15.293 \n",
       " 14.86  \n",
       " 14.7156\n",
       "  ⋮     \n",
       " 13.7051\n",
       " 12.6946\n",
       " 15.0043\n",
       " 14.2825\n",
       " 14.86  \n",
       " 13.7051\n",
       " 13.4164\n",
       " 14.1382\n",
       " 14.2825\n",
       " 15.7261\n",
       " 12.5502\n",
       " 13.272 "
      ]
     },
     "execution_count": 62,
     "metadata": {},
     "output_type": "execute_result"
    }
   ],
   "source": [
    "predict(fm1)                                                 # predicted value for each observation (i.e., y_hat)"
   ]
  },
  {
   "cell_type": "code",
   "execution_count": 63,
   "metadata": {
    "collapsed": false
   },
   "outputs": [
    {
     "data": {
      "text/plain": [
       "139-element Array{Float64,1}:\n",
       "  -4.16688 \n",
       "  -3.71508 \n",
       " -10.5682  \n",
       "   8.13312 \n",
       "  -9.00868 \n",
       "  -2.32483 \n",
       "  -3.95611 \n",
       "  12.8431  \n",
       "   4.76876 \n",
       "   1.25927 \n",
       "  -5.07304 \n",
       "   0.800042\n",
       "   3.0744  \n",
       "   ⋮       \n",
       "  -2.01508 \n",
       "  -2.79457 \n",
       "  -1.99432 \n",
       "  -9.47252 \n",
       "  -0.149958\n",
       "  -4.69508 \n",
       "  -2.51637 \n",
       "  -3.41816 \n",
       "  -9.14252 \n",
       "  31.1939  \n",
       "  -2.96021 \n",
       "  -4.26201 "
      ]
     },
     "execution_count": 63,
     "metadata": {},
     "output_type": "execute_result"
    }
   ],
   "source": [
    "residuals(fm1)                                               # residuals (i.e., y - y_hat)"
   ]
  },
  {
   "cell_type": "code",
   "execution_count": 64,
   "metadata": {
    "collapsed": false
   },
   "outputs": [
    {
     "data": {
      "text/plain": [
       "9233.743609282785"
      ]
     },
     "execution_count": 64,
     "metadata": {},
     "output_type": "execute_result"
    }
   ],
   "source": [
    "# fit indices\n",
    "deviance(fm1)                                                "
   ]
  },
  {
   "cell_type": "code",
   "execution_count": 65,
   "metadata": {
    "collapsed": false
   },
   "outputs": [
    {
     "data": {
      "text/plain": [
       "983.7291928323847"
      ]
     },
     "execution_count": 65,
     "metadata": {},
     "output_type": "execute_result"
    }
   ],
   "source": [
    "aic(fm1)                                                     "
   ]
  },
  {
   "cell_type": "code",
   "execution_count": 66,
   "metadata": {
    "collapsed": false
   },
   "outputs": [
    {
     "data": {
      "text/plain": [
       "992.5326146317767"
      ]
     },
     "execution_count": 66,
     "metadata": {},
     "output_type": "execute_result"
    }
   ],
   "source": [
    "bic(fm1)"
   ]
  },
  {
   "cell_type": "code",
   "execution_count": 67,
   "metadata": {
    "collapsed": false
   },
   "outputs": [
    {
     "data": {
      "text/plain": [
       "5-element DataArrays.DataArray{Float64,1}:\n",
       "  6.63149\n",
       "  8.07508\n",
       "  9.51867\n",
       " 10.9623 \n",
       " 12.4059 "
      ]
     },
     "execution_count": 67,
     "metadata": {},
     "output_type": "execute_result"
    }
   ],
   "source": [
    "# make predictions with fitted model\n",
    "new_data = DataFrame(Age = [10, 20, 30, 40, 50])\n",
    "predict(fm1, new_data)"
   ]
  },
  {
   "cell_type": "code",
   "execution_count": 68,
   "metadata": {
    "collapsed": false
   },
   "outputs": [
    {
     "data": {
      "text/plain": [
       "DataFrames.DataFrameRegressionModel{GLM.LinearModel{GLM.LmResp{Array{Float64,1}},GLM.DensePredQR{Float64}},Array{Float64,2}}\n",
       "\n",
       "Formula: G2 ~ 1 + Age + Gleason\n",
       "\n",
       "Coefficients:\n",
       "             Estimate Std.Error  t value Pr(>|t|)\n",
       "(Intercept)  -8.91812    8.0433 -1.10876   0.2695\n",
       "Age          0.176913  0.116485  1.51877   0.1312\n",
       "Gleason       1.93296  0.503399  3.83982   0.0002\n"
      ]
     },
     "execution_count": 68,
     "metadata": {},
     "output_type": "execute_result"
    }
   ],
   "source": [
    "# Adding predictors\n",
    "fm2 = lm(G2 ~ 1 + Age + Gleason, stagec)                     # add Gleason score as predictor"
   ]
  },
  {
   "cell_type": "code",
   "execution_count": 69,
   "metadata": {
    "collapsed": false
   },
   "outputs": [
    {
     "data": {
      "text/plain": [
       "8189.27753135993"
      ]
     },
     "execution_count": 69,
     "metadata": {},
     "output_type": "execute_result"
    }
   ],
   "source": [
    "deviance(fm2)                                                "
   ]
  },
  {
   "cell_type": "code",
   "execution_count": 70,
   "metadata": {
    "collapsed": false
   },
   "outputs": [
    {
     "data": {
      "text/plain": [
       "951.2692270563475"
      ]
     },
     "execution_count": 70,
     "metadata": {},
     "output_type": "execute_result"
    }
   ],
   "source": [
    "aic(fm2)"
   ]
  },
  {
   "cell_type": "code",
   "execution_count": 71,
   "metadata": {
    "collapsed": false
   },
   "outputs": [
    {
     "data": {
      "text/plain": [
       "962.9198465992918"
      ]
     },
     "execution_count": 71,
     "metadata": {},
     "output_type": "execute_result"
    }
   ],
   "source": [
    "bic(fm2)"
   ]
  },
  {
   "cell_type": "code",
   "execution_count": 72,
   "metadata": {
    "collapsed": false
   },
   "outputs": [
    {
     "data": {
      "text/plain": [
       "DataFrames.DataFrameRegressionModel{GLM.LinearModel{GLM.LmResp{Array{Float64,1}},GLM.DensePredQR{Float64}},Array{Float64,2}}\n",
       "\n",
       "Formula: G2 ~ 1 + Age + Gleason + Grade\n",
       "\n",
       "Coefficients:\n",
       "             Estimate Std.Error  t value Pr(>|t|)\n",
       "(Intercept)  -9.19135   8.15383 -1.12724   0.2617\n",
       "Age          0.178597  0.117116  1.52496   0.1297\n",
       "Gleason       1.76439  0.872139  2.02306   0.0451\n",
       "Grade        0.472942   1.99455 0.237116   0.8129\n"
      ]
     },
     "execution_count": 72,
     "metadata": {},
     "output_type": "execute_result"
    }
   ],
   "source": [
    "fm3 = lm(G2 ~ 1 + Age + Gleason + Grade, stagec)            "
   ]
  },
  {
   "cell_type": "code",
   "execution_count": 73,
   "metadata": {
    "collapsed": false
   },
   "outputs": [
    {
     "data": {
      "text/plain": [
       "DataFrames.DataFrameRegressionModel{GLM.LinearModel{GLM.LmResp{Array{Float64,1}},GLM.DensePredQR{Float64}},Array{Float64,2}}\n",
       "\n",
       "Formula: G2 ~ 1 + Age + Gleason + EET + Gleason & EET\n",
       "\n",
       "Coefficients:\n",
       "               Estimate Std.Error   t value Pr(>|t|)\n",
       "(Intercept)    -4.97759   16.2193 -0.306893   0.7594\n",
       "Age            0.172599  0.118692   1.45417   0.1483\n",
       "Gleason         1.12909   2.11073  0.534929   0.5936\n",
       "EET            -2.25982   7.73058 -0.292321   0.7705\n",
       "Gleason & EET   0.48899   1.17624  0.415723   0.6783\n"
      ]
     },
     "execution_count": 73,
     "metadata": {},
     "output_type": "execute_result"
    }
   ],
   "source": [
    "# Adding interaction terms\n",
    "fm4 = lm(G2 ~ 1 + Age + Gleason*EET, stagec)                     "
   ]
  },
  {
   "cell_type": "markdown",
   "metadata": {},
   "source": [
    "### Binomial Logistic Regression\n",
    "Binomial logistic regression models are used when fitting models to dichotomous outcome variables (e.g., 0 and 1). "
   ]
  },
  {
   "cell_type": "code",
   "execution_count": 74,
   "metadata": {
    "collapsed": false
   },
   "outputs": [
    {
     "data": {
      "text/plain": [
       "DataFrames.DataFrameRegressionModel{GLM.GeneralizedLinearModel{GLM.GlmResp{Array{Float64,1},Distributions.Binomial{Float64},GLM.LogitLink},GLM.DensePredChol{Float64,Base.LinAlg.Cholesky{Float64,Array{Float64,2}}}},Array{Float64,2}}\n",
       "\n",
       "Formula: PgStat ~ 1 + Gleason\n",
       "\n",
       "Coefficients:\n",
       "             Estimate Std.Error  z value Pr(>|z|)\n",
       "(Intercept)  -4.93489   1.06153 -4.64884    <1e-5\n",
       "Gleason      0.685106  0.159095  4.30627    <1e-4\n"
      ]
     },
     "execution_count": 74,
     "metadata": {},
     "output_type": "execute_result"
    }
   ],
   "source": [
    "fm5 = glm(PgStat ~ 1 + Gleason, stagec, Binomial())          # defaults to logit-link"
   ]
  },
  {
   "cell_type": "code",
   "execution_count": 75,
   "metadata": {
    "collapsed": false
   },
   "outputs": [
    {
     "data": {
      "text/plain": [
       "2-element Array{Float64,1}:\n",
       " -4.93489 \n",
       "  0.685106"
      ]
     },
     "execution_count": 75,
     "metadata": {},
     "output_type": "execute_result"
    }
   ],
   "source": [
    "coef(fm5) "
   ]
  },
  {
   "cell_type": "code",
   "execution_count": 76,
   "metadata": {
    "collapsed": false
   },
   "outputs": [
    {
     "data": {
      "text/plain": [
       "2-element Array{Float64,1}:\n",
       " 1.06153 \n",
       " 0.159095"
      ]
     },
     "execution_count": 76,
     "metadata": {},
     "output_type": "execute_result"
    }
   ],
   "source": [
    "stderr(fm5)"
   ]
  },
  {
   "cell_type": "code",
   "execution_count": 77,
   "metadata": {
    "collapsed": false
   },
   "outputs": [
    {
     "data": {
      "text/plain": [
       "2×2 Array{Float64,2}:\n",
       " -7.01546   -2.85433 \n",
       "  0.373285   0.996927"
      ]
     },
     "execution_count": 77,
     "metadata": {},
     "output_type": "execute_result"
    }
   ],
   "source": [
    "confint(fm5)"
   ]
  },
  {
   "cell_type": "code",
   "execution_count": 78,
   "metadata": {
    "collapsed": false
   },
   "outputs": [
    {
     "data": {
      "text/plain": [
       "166.63636935531574"
      ]
     },
     "execution_count": 78,
     "metadata": {},
     "output_type": "execute_result"
    }
   ],
   "source": [
    "deviance(fm5)                                                "
   ]
  },
  {
   "cell_type": "code",
   "execution_count": 79,
   "metadata": {
    "collapsed": false
   },
   "outputs": [
    {
     "data": {
      "text/plain": [
       "170.63636935531554"
      ]
     },
     "execution_count": 79,
     "metadata": {},
     "output_type": "execute_result"
    }
   ],
   "source": [
    "aic(fm5)                                                     "
   ]
  },
  {
   "cell_type": "code",
   "execution_count": 80,
   "metadata": {
    "collapsed": false
   },
   "outputs": [
    {
     "data": {
      "text/plain": [
       "176.56205861583535"
      ]
     },
     "execution_count": 80,
     "metadata": {},
     "output_type": "execute_result"
    }
   ],
   "source": [
    "bic(fm5)"
   ]
  },
  {
   "cell_type": "markdown",
   "metadata": {},
   "source": [
    "### Poisson Regression\n",
    "Poisson regression is useful for modeling outcome variables that are in the form of count data."
   ]
  },
  {
   "cell_type": "code",
   "execution_count": 81,
   "metadata": {
    "collapsed": false,
    "scrolled": true
   },
   "outputs": [
    {
     "data": {
      "text/html": [
       "<table class=\"data-frame\"><tr><th></th><th>Y</th><th>Year</th><th>Corp</th></tr><tr><th>1</th><td>0</td><td>75</td><td>G</td></tr><tr><th>2</th><td>2</td><td>76</td><td>G</td></tr><tr><th>3</th><td>2</td><td>77</td><td>G</td></tr><tr><th>4</th><td>1</td><td>78</td><td>G</td></tr><tr><th>5</th><td>0</td><td>79</td><td>G</td></tr><tr><th>6</th><td>0</td><td>80</td><td>G</td></tr><tr><th>7</th><td>1</td><td>81</td><td>G</td></tr><tr><th>8</th><td>1</td><td>82</td><td>G</td></tr><tr><th>9</th><td>0</td><td>83</td><td>G</td></tr><tr><th>10</th><td>3</td><td>84</td><td>G</td></tr><tr><th>11</th><td>0</td><td>85</td><td>G</td></tr><tr><th>12</th><td>2</td><td>86</td><td>G</td></tr><tr><th>13</th><td>1</td><td>87</td><td>G</td></tr><tr><th>14</th><td>0</td><td>88</td><td>G</td></tr><tr><th>15</th><td>0</td><td>89</td><td>G</td></tr><tr><th>16</th><td>1</td><td>90</td><td>G</td></tr><tr><th>17</th><td>0</td><td>91</td><td>G</td></tr><tr><th>18</th><td>1</td><td>92</td><td>G</td></tr><tr><th>19</th><td>0</td><td>93</td><td>G</td></tr><tr><th>20</th><td>1</td><td>94</td><td>G</td></tr><tr><th>21</th><td>0</td><td>75</td><td>I</td></tr><tr><th>22</th><td>0</td><td>76</td><td>I</td></tr><tr><th>23</th><td>0</td><td>77</td><td>I</td></tr><tr><th>24</th><td>2</td><td>78</td><td>I</td></tr><tr><th>25</th><td>0</td><td>79</td><td>I</td></tr><tr><th>26</th><td>3</td><td>80</td><td>I</td></tr><tr><th>27</th><td>0</td><td>81</td><td>I</td></tr><tr><th>28</th><td>2</td><td>82</td><td>I</td></tr><tr><th>29</th><td>0</td><td>83</td><td>I</td></tr><tr><th>30</th><td>0</td><td>84</td><td>I</td></tr><tr><th>&vellip;</th><td>&vellip;</td><td>&vellip;</td><td>&vellip;</td></tr></table>"
      ],
      "text/plain": [
       "280×3 DataFrames.DataFrame\n",
       "│ Row │ Y │ Year │ Corp │\n",
       "├─────┼───┼──────┼──────┤\n",
       "│ 1   │ 0 │ 75   │ \"G\"  │\n",
       "│ 2   │ 2 │ 76   │ \"G\"  │\n",
       "│ 3   │ 2 │ 77   │ \"G\"  │\n",
       "│ 4   │ 1 │ 78   │ \"G\"  │\n",
       "│ 5   │ 0 │ 79   │ \"G\"  │\n",
       "│ 6   │ 0 │ 80   │ \"G\"  │\n",
       "│ 7   │ 1 │ 81   │ \"G\"  │\n",
       "│ 8   │ 1 │ 82   │ \"G\"  │\n",
       "│ 9   │ 0 │ 83   │ \"G\"  │\n",
       "│ 10  │ 3 │ 84   │ \"G\"  │\n",
       "│ 11  │ 0 │ 85   │ \"G\"  │\n",
       "⋮\n",
       "│ 269 │ 0 │ 83   │ \"XV\" │\n",
       "│ 270 │ 1 │ 84   │ \"XV\" │\n",
       "│ 271 │ 1 │ 85   │ \"XV\" │\n",
       "│ 272 │ 0 │ 86   │ \"XV\" │\n",
       "│ 273 │ 0 │ 87   │ \"XV\" │\n",
       "│ 274 │ 0 │ 88   │ \"XV\" │\n",
       "│ 275 │ 2 │ 89   │ \"XV\" │\n",
       "│ 276 │ 2 │ 90   │ \"XV\" │\n",
       "│ 277 │ 0 │ 91   │ \"XV\" │\n",
       "│ 278 │ 0 │ 92   │ \"XV\" │\n",
       "│ 279 │ 0 │ 93   │ \"XV\" │\n",
       "│ 280 │ 0 │ 94   │ \"XV\" │"
      ]
     },
     "execution_count": 81,
     "metadata": {},
     "output_type": "execute_result"
    }
   ],
   "source": [
    "prussian = dataset(\"pscl\", \"prussian\")                       # load Prussian horse kick data"
   ]
  },
  {
   "cell_type": "code",
   "execution_count": 82,
   "metadata": {
    "collapsed": false,
    "scrolled": false
   },
   "outputs": [
    {
     "data": {
      "text/plain": [
       "DataFrames.DataFrameRegressionModel{GLM.GeneralizedLinearModel{GLM.GlmResp{Array{Float64,1},Distributions.Poisson{Float64},GLM.LogLink},GLM.DensePredChol{Float64,Base.LinAlg.Cholesky{Float64,Array{Float64,2}}}},Array{Float64,2}}\n",
       "\n",
       "Formula: Y ~ 1 + Year + Corp\n",
       "\n",
       "Coefficients:\n",
       "               Estimate Std.Error    z value Pr(>|z|)\n",
       "(Intercept)    -1.81457   1.08726   -1.66893   0.0951\n",
       "Year          0.0187643 0.0124307    1.50951   0.1312\n",
       "Corp: I      3.85039e-9  0.353544 1.08908e-8   1.0000\n",
       "Corp: II      -0.287682  0.381869  -0.753353   0.4512\n",
       "Corp: III     -0.287682  0.381875  -0.753341   0.4512\n",
       "Corp: IV      -0.693147  0.433007   -1.60078   0.1094\n",
       "Corp: IX      -0.207639   0.37339  -0.556092   0.5781\n",
       "Corp: V       -0.374693  0.391672  -0.956651   0.3387\n",
       "Corp: VI      0.0606246  0.348312   0.174053   0.8618\n",
       "Corp: VII     -0.287682  0.381876   -0.75334   0.4512\n",
       "Corp: VIII    -0.826679  0.453155   -1.82427   0.0681\n",
       "Corp: X      -0.0645385  0.359393  -0.179576   0.8575\n",
       "Corp: XI       0.446287  0.320154    1.39398   0.1633\n",
       "Corp: XIV      0.405465  0.322746     1.2563   0.2090\n",
       "Corp: XV      -0.693147  0.432975   -1.60089   0.1094\n"
      ]
     },
     "execution_count": 82,
     "metadata": {},
     "output_type": "execute_result"
    }
   ],
   "source": [
    "fm6 = glm(Y ~ 1 + Year + Corp, prussian, Poisson())          # defaults to log link "
   ]
  },
  {
   "cell_type": "code",
   "execution_count": null,
   "metadata": {
    "collapsed": false
   },
   "outputs": [],
   "source": [
    "coef(fm6) \n",
    "stderr(fm6)\n",
    "confint(fm6)\n",
    "deviance(fm6)                                                \n",
    "aic(fm6)                                                     \n",
    "bic(fm6)"
   ]
  },
  {
   "cell_type": "markdown",
   "metadata": {},
   "source": [
    "---"
   ]
  },
  {
   "cell_type": "markdown",
   "metadata": {},
   "source": [
    "## Challenge Question 4\n",
    "A key assumption of linear regression is the normality of error terms. A simple but effective way to check this assumption is to examine a plot of the distribution of the fitted model's residual. \n",
    "\n",
    "Create a plot to check the assumption of normality of error terms for model `fm3` above.\n"
   ]
  },
  {
   "cell_type": "markdown",
   "metadata": {},
   "source": [
    "---"
   ]
  },
  {
   "cell_type": "markdown",
   "metadata": {},
   "source": [
    "---"
   ]
  },
  {
   "cell_type": "markdown",
   "metadata": {},
   "source": [
    "# Machine Learning"
   ]
  },
  {
   "cell_type": "markdown",
   "metadata": {},
   "source": [
    "Useful Packages:\n",
    "- DecisionTree\n",
    "- RandomForest\n",
    "- Lasso\n",
    "- GLMNet (for ridge regression, lasso, and elastic net)\n",
    "- LARS (lasso and elastic net)\n",
    "- Clustering\n",
    "- GradientBoosting\n",
    "- XGBoost\n",
    "- Mocha (deep neural nets)"
   ]
  },
  {
   "cell_type": "markdown",
   "metadata": {},
   "source": [
    "## Bagging\n",
    "Bagging is \"bootstrap aggregation\", and involves fitting a many individual classification or regression trees. Thus, bagging can be used with both categorical and continous data. The use of many trees improves the prediction accuracy of your fitted model over a single tree by decreasing the chance of overfitting your data (see bias/variance tradeoff)."
   ]
  },
  {
   "cell_type": "code",
   "execution_count": null,
   "metadata": {
    "collapsed": false
   },
   "outputs": [],
   "source": [
    "using DecisionTree"
   ]
  },
  {
   "cell_type": "code",
   "execution_count": null,
   "metadata": {
    "collapsed": false
   },
   "outputs": [],
   "source": [
    "# take only complete cases\n",
    "stagec_comp = stagec[complete_cases(stagec), :]\n",
    "\n",
    "is_tetraploid = stagec_comp[:Ploidy] .== \"tetraploid\"\n",
    "\n",
    "stagec_comp[:tetra] = is_tetraploid\n",
    "\n",
    "# must convert to Array\n",
    "y = convert(Array{Float64,1}, stagec_comp[:G2])\n",
    "X = convert(Array{Float64,2}, stagec_comp[[:Age, :Grade, :Gleason, :EET, :tetra]])\n",
    "\n",
    "fm7 = build_forest(y, X, 5, 500)"
   ]
  },
  {
   "cell_type": "code",
   "execution_count": null,
   "metadata": {
    "collapsed": false
   },
   "outputs": [],
   "source": [
    "apply_forest(fm7, [55.0, 3.0, 2.0, 1.0, 1.0])"
   ]
  },
  {
   "cell_type": "markdown",
   "metadata": {},
   "source": [
    "## Random Forest\n",
    "Random forests were developed after bagging, and are a generalization of the idea of taking bootstrap samples from your dataset and fitting many trees. Random forests differ from bagged trees in that for each split point in the tree, the algorithm only considers some subset of the predictors as candidates on which to split. This has the effect of further reducing the correlation between trees beyond what is already achieved by the bootstrapping. This reduces overfitting and improves prediction accuracy for new data."
   ]
  },
  {
   "cell_type": "code",
   "execution_count": null,
   "metadata": {
    "collapsed": false
   },
   "outputs": [],
   "source": [
    "fm8 = build_forest(y, X, 3, 500)"
   ]
  },
  {
   "cell_type": "code",
   "execution_count": null,
   "metadata": {
    "collapsed": false
   },
   "outputs": [],
   "source": [
    "# This is a quick function to obtain the mean-squared\n",
    "# error of a fitted random forest (or bagged tree) model.\n",
    "\n",
    "function mse(fitted, y, X)\n",
    "    yhat = apply_forest(fitted, X)\n",
    "    sqerr = (y .- yhat).^2\n",
    "    out = mean(sqerr)\n",
    "    return out\n",
    "end"
   ]
  },
  {
   "cell_type": "code",
   "execution_count": null,
   "metadata": {
    "collapsed": false
   },
   "outputs": [],
   "source": [
    "@show mse(fm7, y, X)\n",
    "@show mse(fm8, y, X);"
   ]
  },
  {
   "cell_type": "markdown",
   "metadata": {},
   "source": [
    "## Lasso\n",
    "The lasso (Least Angle Shrinkage and Selection Operator) is a form of regularized regression which penalizes the L1 norm of the vector of regression coefficients. This has the effect of shrinking the least important regression coefficients to zero. In this respect it is similar to ridge regression, which shrinks regression coefficients towards zero by penalizing the L2 (Euclidian) norm."
   ]
  },
  {
   "cell_type": "code",
   "execution_count": null,
   "metadata": {
    "collapsed": false
   },
   "outputs": [],
   "source": [
    "using Lasso\n",
    "swiss = dataset(\"datasets\", \"swiss\")"
   ]
  },
  {
   "cell_type": "code",
   "execution_count": null,
   "metadata": {
    "collapsed": false
   },
   "outputs": [],
   "source": [
    "Xswiss = convert(Array{Float64, 2}, swiss[:, 2:5])\n",
    "yswiss = convert(Array{Float64, 1}, swiss[:, 6])\n",
    "fm9 = fit(LassoPath, Xswiss, yswiss)"
   ]
  },
  {
   "cell_type": "code",
   "execution_count": null,
   "metadata": {
    "collapsed": false
   },
   "outputs": [],
   "source": [
    "fieldnames(fm9)"
   ]
  },
  {
   "cell_type": "code",
   "execution_count": null,
   "metadata": {
    "collapsed": false
   },
   "outputs": [],
   "source": [
    "@show fm9.λ\n",
    "full(fm9.coefs)"
   ]
  },
  {
   "cell_type": "markdown",
   "metadata": {},
   "source": [
    "---"
   ]
  },
  {
   "cell_type": "markdown",
   "metadata": {},
   "source": [
    "## Challenge Question 5\n",
    "Using the `aldh2` dataset from the `gap` package in R, try fitting a few random forest (or bagged tree) models that predict whether a given patient is an alcohol using their genetic information. <br>\n",
    "\n",
    "What is the prediction accuracy of your best model? What were the meta-paremeters of your best-fitting model? <br> \n",
    "\n",
    "The data can be loaded using the code below."
   ]
  },
  {
   "cell_type": "code",
   "execution_count": null,
   "metadata": {
    "collapsed": false
   },
   "outputs": [],
   "source": [
    "aldh2 = dataset(\"gap\", \"aldh2\")"
   ]
  },
  {
   "cell_type": "markdown",
   "metadata": {},
   "source": [
    "---"
   ]
  },
  {
   "cell_type": "markdown",
   "metadata": {},
   "source": [
    "---"
   ]
  },
  {
   "cell_type": "markdown",
   "metadata": {},
   "source": [
    "# Recommended Resources\n",
    "\n",
    "### Statistical Inference\n",
    "- Casella and Berger (2002) _Statistical Inference_\n",
    "- Wasserman (2004) _All of Statistics_\n",
    "\n",
    "### Linear Models\n",
    "- Gelman and Hill (2007) _Data Analysis Using Regression and Multilevel/Hierarchical_\n",
    "- Rencher and Schaalje (2008) _Linear Models in Statistics_\n",
    "\n",
    "### Generalized Linear Models\n",
    "- Agresti (2002) _Categorical Data Analysis_\n",
    "- Hosmer and Lemeshow (2000) _Applied Logistic Regression_\n",
    "\n",
    "### Machine Learning\n",
    "- Hastie, Tibshirani, & Friedman (2001) _Elements of Statistical Learning_\n",
    "- James, Witten, Hastie, & Tibshirani (2015) _An Introduction to Statistical Learning_\n",
    "- Kuhn and Johnson (2013) _Applied Predictive Modeling_"
   ]
  },
  {
   "cell_type": "code",
   "execution_count": null,
   "metadata": {
    "collapsed": true
   },
   "outputs": [],
   "source": []
  }
 ],
 "metadata": {
  "kernelspec": {
   "display_name": "Julia 0.5.0-rc2",
   "language": "julia",
   "name": "julia-0.5"
  },
  "language_info": {
   "file_extension": ".jl",
   "mimetype": "application/julia",
   "name": "julia",
   "version": "0.5.0"
  }
 },
 "nbformat": 4,
 "nbformat_minor": 0
}

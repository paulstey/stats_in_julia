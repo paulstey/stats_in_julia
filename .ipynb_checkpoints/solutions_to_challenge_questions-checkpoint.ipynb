{
 "cells": [
  {
   "cell_type": "markdown",
   "metadata": {},
   "source": [
    "# Solutions to Challenge Questions"
   ]
  },
  {
   "cell_type": "markdown",
   "metadata": {},
   "source": [
    "## Question 1\n",
    "Using the `stagec` dataset from the rpart package in R, find the Gleason score of oldest patient. As a hint, you may consider using the `indmax()` function."
   ]
  },
  {
   "cell_type": "code",
   "execution_count": null,
   "metadata": {
    "collapsed": true
   },
   "outputs": [],
   "source": [
    "using RDatasets\n",
    "stagec = datasets(\"rpart\", \"stagec\")"
   ]
  },
  {
   "cell_type": "code",
   "execution_count": null,
   "metadata": {
    "collapsed": true
   },
   "outputs": [],
   "source": [
    "row_idx = indmax(stagec[:Age])              # get row index for oldest patient\n",
    "stagec[row_idx, :Gleason]                   "
   ]
  },
  {
   "cell_type": "markdown",
   "metadata": {},
   "source": [
    "---"
   ]
  },
  {
   "cell_type": "markdown",
   "metadata": {},
   "source": [
    "## Question 2\n",
    "Using the `stagec` dataset, determine if patients with tetraploidy tumors have higher Gleason scores than patients with diploid tumors."
   ]
  },
  {
   "cell_type": "code",
   "execution_count": null,
   "metadata": {
    "collapsed": true
   },
   "outputs": [],
   "source": [
    "using RDatasets\n",
    "\n",
    "stagec = dataset(\"rpart\", \"stagec\")\n",
    "\n",
    "# get row indices\n",
    "tetra_idx = find(stagec[:Ploidy] .== \"tetraploid\");\n",
    "dip_idx = find(stagec[:Ploidy] .== \"diploid\");\n",
    "\n",
    "# get Gleason scores\n",
    "tetra_grp = stagec[tetra_idx, :Gleason];\n",
    "dip_grp = stagec[dip_idx, :Gleason];\n",
    "\n",
    "EqualVarianceTTest(dropna(tetra_grp), dropna(dip_grp))"
   ]
  },
  {
   "cell_type": "markdown",
   "metadata": {},
   "source": [
    "---"
   ]
  },
  {
   "cell_type": "markdown",
   "metadata": {},
   "source": [
    "## Question 3\n",
    "Create a plot to check the assumption of normality of error terms for model `fm3`."
   ]
  },
  {
   "cell_type": "code",
   "execution_count": null,
   "metadata": {
    "collapsed": false,
    "scrolled": true
   },
   "outputs": [],
   "source": [
    "using Plots, GLM, RDatasets\n",
    "pyplot()\n",
    "\n",
    "stagec = dataset(\"rpart\", \"stagec\")"
   ]
  },
  {
   "cell_type": "code",
   "execution_count": null,
   "metadata": {
    "collapsed": false,
    "scrolled": true
   },
   "outputs": [],
   "source": [
    "fm3 = lm(G2 ~ 1 + Age + Gleason + Grade, stagec)"
   ]
  },
  {
   "cell_type": "code",
   "execution_count": 11,
   "metadata": {
    "collapsed": false
   },
   "outputs": [
    {
     "data": {
      "text/plain": [
       "136-element Array{Float64,1}:\n",
       "   0.0177294\n",
       "  -5.1254   \n",
       "  -6.31508  \n",
       "   4.31429  \n",
       " -10.7614   \n",
       "  -4.08136  \n",
       "  11.2616   \n",
       "   3.15302  \n",
       "  -2.35413  \n",
       "  -8.62435  \n",
       "   1.35316  \n",
       "   1.42443  \n",
       "  -8.44874  \n",
       "   ⋮        \n",
       "  -3.4254   \n",
       "   1.80089  \n",
       "   0.288953 \n",
       " -12.7842   \n",
       "   2.16755  \n",
       "  -2.10368  \n",
       "  -2.09382  \n",
       "  -4.93119  \n",
       "  -6.68806  \n",
       "  25.3025   \n",
       "  -2.33224  \n",
       "  -5.56961  "
      ]
     },
     "execution_count": 11,
     "metadata": {},
     "output_type": "execute_result"
    }
   ],
   "source": [
    "resid = residuals(fm3)"
   ]
  },
  {
   "cell_type": "code",
   "execution_count": 12,
   "metadata": {
    "collapsed": false,
    "scrolled": false
   },
   "outputs": [
    {
     "data": {
      "text/html": [
       "<img src=\"data:image/png;base64,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\" />"
      ]
     },
     "execution_count": 12,
     "metadata": {},
     "output_type": "execute_result"
    },
    {
     "name": "stderr",
     "output_type": "stream",
     "text": [
      "/anaconda/lib/python2.7/site-packages/matplotlib/font_manager.py:1288: UserWarning: findfont: Font family [u'Helvetica'] not found. Falling back to Bitstream Vera Sans\n",
      "  (prop.get_family(), self.defaultFamily[fontext]))\n"
     ]
    }
   ],
   "source": [
    "histogram(resid)"
   ]
  },
  {
   "cell_type": "code",
   "execution_count": null,
   "metadata": {
    "collapsed": true
   },
   "outputs": [],
   "source": []
  }
 ],
 "metadata": {
  "kernelspec": {
   "display_name": "Julia 0.5.0-rc2",
   "language": "julia",
   "name": "julia-0.5"
  },
  "language_info": {
   "file_extension": ".jl",
   "mimetype": "application/julia",
   "name": "julia",
   "version": "0.5.0"
  }
 },
 "nbformat": 4,
 "nbformat_minor": 0
}

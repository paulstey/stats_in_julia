{
 "cells": [
  {
   "cell_type": "markdown",
   "metadata": {},
   "source": [
    "# Vectors and _N_-Dimensional Arrays"
   ]
  },
  {
   "cell_type": "code",
   "execution_count": null,
   "metadata": {
    "collapsed": true
   },
   "outputs": [],
   "source": [
    "v = [4, 5, 6]"
   ]
  },
  {
   "cell_type": "code",
   "execution_count": null,
   "metadata": {
    "collapsed": true
   },
   "outputs": [],
   "source": [
    "u = [1.2, 4.5, 6.5]"
   ]
  },
  {
   "cell_type": "code",
   "execution_count": null,
   "metadata": {
    "collapsed": true
   },
   "outputs": [],
   "source": [
    "w = [\"dog\", \"cat\", \"bird\"]"
   ]
  },
  {
   "cell_type": "markdown",
   "metadata": {},
   "source": [
    "### Grow Vector in Place"
   ]
  },
  {
   "cell_type": "code",
   "execution_count": null,
   "metadata": {
    "collapsed": false,
    "scrolled": true
   },
   "outputs": [],
   "source": [
    "a = Int[]                       # initialize empty vector to be filled with Ints"
   ]
  },
  {
   "cell_type": "code",
   "execution_count": null,
   "metadata": {
    "collapsed": true
   },
   "outputs": [],
   "source": [
    "push!(a, 12)"
   ]
  },
  {
   "cell_type": "code",
   "execution_count": null,
   "metadata": {
    "collapsed": true
   },
   "outputs": [],
   "source": [
    "push!(a, 1000)"
   ]
  },
  {
   "cell_type": "code",
   "execution_count": null,
   "metadata": {
    "collapsed": true
   },
   "outputs": [],
   "source": [
    "push!(a, 3.14)                  # ERROR: trying to push Float into vector of Ints"
   ]
  },
  {
   "cell_type": "code",
   "execution_count": null,
   "metadata": {
    "collapsed": true
   },
   "outputs": [],
   "source": [
    "s = String[]                    # initialize empty vector of strings"
   ]
  },
  {
   "cell_type": "code",
   "execution_count": null,
   "metadata": {
    "collapsed": true
   },
   "outputs": [],
   "source": [
    "push!(s, \"this\")\n",
    "push!(s, \"is\")\n",
    "push!(s, \"a string vector\")"
   ]
  },
  {
   "cell_type": "markdown",
   "metadata": {},
   "source": [
    "###Indexing a Vector"
   ]
  },
  {
   "cell_type": "code",
   "execution_count": null,
   "metadata": {
    "collapsed": true
   },
   "outputs": [],
   "source": [
    "s[2]                            # get second element"
   ]
  },
  {
   "cell_type": "code",
   "execution_count": null,
   "metadata": {
    "collapsed": true
   },
   "outputs": [],
   "source": [
    "s[3]                            # third element"
   ]
  },
  {
   "cell_type": "code",
   "execution_count": null,
   "metadata": {
    "collapsed": true
   },
   "outputs": [],
   "source": [
    "s[1] = \"that\"                   # assign to first element"
   ]
  },
  {
   "cell_type": "markdown",
   "metadata": {},
   "source": [
    "### Slicing a Vector"
   ]
  },
  {
   "cell_type": "code",
   "execution_count": null,
   "metadata": {
    "collapsed": true
   },
   "outputs": [],
   "source": [
    "s[1:2]                          # get subset of vector (1st and 3rd element)"
   ]
  },
  {
   "cell_type": "code",
   "execution_count": null,
   "metadata": {
    "collapsed": true
   },
   "outputs": [],
   "source": [
    "s[2:end]                        # subset from 2nd element to last element"
   ]
  },
  {
   "cell_type": "markdown",
   "metadata": {},
   "source": [
    "## _N_-Dimensional Arrays"
   ]
  },
  {
   "cell_type": "code",
   "execution_count": null,
   "metadata": {
    "collapsed": false,
    "scrolled": true
   },
   "outputs": [],
   "source": [
    "A = Array{Float64}(5, 3)        # initialize 5-by-3 matrix (start as all zeros)"
   ]
  },
  {
   "cell_type": "code",
   "execution_count": null,
   "metadata": {
    "collapsed": true
   },
   "outputs": [],
   "source": [
    "Z = zeros(5, 3)                 # same as above"
   ]
  },
  {
   "cell_type": "code",
   "execution_count": null,
   "metadata": {
    "collapsed": true
   },
   "outputs": [],
   "source": [
    "B = [1 2 3;\n",
    "     4 5 6;\n",
    "     7 8 9]"
   ]
  },
  {
   "cell_type": "markdown",
   "metadata": {},
   "source": [
    "### Indexing and Slicing Matrix (or _N_-dimensional array)"
   ]
  },
  {
   "cell_type": "code",
   "execution_count": null,
   "metadata": {
    "collapsed": true
   },
   "outputs": [],
   "source": [
    "B[3, 1]                         # gets entry in third row first column"
   ]
  },
  {
   "cell_type": "code",
   "execution_count": null,
   "metadata": {
    "collapsed": true
   },
   "outputs": [],
   "source": [
    "B[2, :]                         # gets all of second row"
   ]
  },
  {
   "cell_type": "code",
   "execution_count": null,
   "metadata": {
    "collapsed": true
   },
   "outputs": [],
   "source": [
    "B[:, 3]                         # gets all of third column"
   ]
  },
  {
   "cell_type": "markdown",
   "metadata": {},
   "source": [
    "## Reading Data from Flat File"
   ]
  },
  {
   "cell_type": "code",
   "execution_count": null,
   "metadata": {
    "collapsed": true
   },
   "outputs": [],
   "source": [
    "d = readdlm(\"somedata.csv\", ',')"
   ]
  },
  {
   "cell_type": "code",
   "execution_count": null,
   "metadata": {
    "collapsed": true
   },
   "outputs": [],
   "source": [
    "d1 = readdlm(\"otherdata.csv\", '\\t')"
   ]
  },
  {
   "cell_type": "code",
   "execution_count": null,
   "metadata": {
    "collapsed": true
   },
   "outputs": [],
   "source": [
    "d2 = readcsv(\"somedata.csv\")                                 # equivalent to readdlm() with ','"
   ]
  },
  {
   "cell_type": "code",
   "execution_count": null,
   "metadata": {
    "collapsed": true
   },
   "outputs": [],
   "source": [
    "d3 = readcsv(\"somedata.csv\", header = true)                  # treat first line as column headings"
   ]
  },
  {
   "cell_type": "code",
   "execution_count": null,
   "metadata": {
    "collapsed": true
   },
   "outputs": [],
   "source": [
    "d4 = readcsv(\"somedata.csv\", header = true, skipstart = 3)   # skip first 3 lines "
   ]
  },
  {
   "cell_type": "markdown",
   "metadata": {},
   "source": [
    "---"
   ]
  },
  {
   "cell_type": "markdown",
   "metadata": {},
   "source": [
    "---"
   ]
  },
  {
   "cell_type": "markdown",
   "metadata": {},
   "source": [
    "# DataFrame Objects"
   ]
  },
  {
   "cell_type": "markdown",
   "metadata": {},
   "source": [
    "### Advantages of `DataFrame` objects\n",
    "- _de facto_ object for data analysis\n",
    "- NA type for missing data\n",
    "- factor-like type for model fitting "
   ]
  },
  {
   "cell_type": "code",
   "execution_count": null,
   "metadata": {
    "collapsed": true
   },
   "outputs": [],
   "source": [
    "using DataFrames"
   ]
  },
  {
   "cell_type": "code",
   "execution_count": null,
   "metadata": {
    "collapsed": true
   },
   "outputs": [],
   "source": [
    "df1 = readtable(\"somedata.csv\")"
   ]
  },
  {
   "cell_type": "code",
   "execution_count": null,
   "metadata": {
    "collapsed": true
   },
   "outputs": [],
   "source": [
    "df2 = readtable(\"somedata.csv\", makefactors = true)"
   ]
  },
  {
   "cell_type": "code",
   "execution_count": null,
   "metadata": {
    "collapsed": true
   },
   "outputs": [],
   "source": [
    "df3 = readtable(\"somedata.csv\", makefactors = true, seperator = '\\t')"
   ]
  },
  {
   "cell_type": "code",
   "execution_count": null,
   "metadata": {
    "collapsed": true
   },
   "outputs": [],
   "source": [
    "df4 = readtable(\"somedata.csv\", nastring = \"999\")"
   ]
  },
  {
   "cell_type": "code",
   "execution_count": null,
   "metadata": {
    "collapsed": true
   },
   "outputs": [],
   "source": [
    "df5 = readtable(\"somedata.csv\", nastring = [\"\", \"NA\", \"999\")"
   ]
  },
  {
   "cell_type": "code",
   "execution_count": null,
   "metadata": {
    "collapsed": true
   },
   "outputs": [],
   "source": [
    "df1[:age]                     # entire `age` column\n",
    "df1[3, :condition]            # third participant's `condition`\n",
    "df1[4, :]                     # all of row 4"
   ]
  },
  {
   "cell_type": "markdown",
   "metadata": {},
   "source": [
    "## Challenge Question 1"
   ]
  },
  {
   "cell_type": "markdown",
   "metadata": {},
   "source": [
    "Using the `stagec` dataset from the rpart package in R, find the Gleason score of oldest patient. As a hint, you may consider using the `indmax()` function."
   ]
  },
  {
   "cell_type": "code",
   "execution_count": null,
   "metadata": {
    "collapsed": true
   },
   "outputs": [],
   "source": [
    "using RDatasets  \n",
    "\n",
    "stagec = dataset(\"rpart\", \"stagec\")"
   ]
  },
  {
   "cell_type": "markdown",
   "metadata": {},
   "source": [
    "---"
   ]
  },
  {
   "cell_type": "markdown",
   "metadata": {},
   "source": [
    "# Descriptive Statistics\n",
    "Useful Packages:\n",
    "- StatsBase"
   ]
  },
  {
   "cell_type": "code",
   "execution_count": null,
   "metadata": {
    "collapsed": true
   },
   "outputs": [],
   "source": [
    "x = randn(100)                # generate 100 draws from standard Gaussian"
   ]
  },
  {
   "cell_type": "code",
   "execution_count": null,
   "metadata": {
    "collapsed": true
   },
   "outputs": [],
   "source": [
    "mean(x)\n",
    "median(x)\n",
    "mode(x)\n",
    "std(x)\n",
    "var(x)\n",
    "minimum(x)\n",
    "maximum(x)"
   ]
  },
  {
   "cell_type": "markdown",
   "metadata": {},
   "source": [
    "### Descriptives with `DataFrame`"
   ]
  },
  {
   "cell_type": "code",
   "execution_count": null,
   "metadata": {
    "collapsed": true
   },
   "outputs": [],
   "source": [
    "describe(stagec)               # get many useful descriptive stats\n",
    "\n",
    "mean(stagec[:Age])             # get mean of Age column\n",
    "\n",
    "mean(stagec[:Gleason])         # returns NA (not what we want)\n",
    "mean(dropna(stagec[:G2]))      # dropna() removes NA values"
   ]
  },
  {
   "cell_type": "markdown",
   "metadata": {},
   "source": [
    "---"
   ]
  },
  {
   "cell_type": "markdown",
   "metadata": {},
   "source": [
    "---"
   ]
  },
  {
   "cell_type": "markdown",
   "metadata": {},
   "source": [
    "# Inferential Statistics"
   ]
  },
  {
   "cell_type": "markdown",
   "metadata": {},
   "source": [
    "### Useful Packages:\n",
    "- HypothesisTests (Binomial test, t-tests, $\\chi^2$-test, and many more...)\n",
    "- GLM (linear and generalized linear models)\n",
    "- MixedModels (Multi-level (or Mixed-effects) models)"
   ]
  },
  {
   "cell_type": "markdown",
   "metadata": {},
   "source": [
    "## Binomial Test"
   ]
  },
  {
   "cell_type": "markdown",
   "metadata": {},
   "source": [
    "The binomial test is a statistical test of dichotomous data's (e.g., \"success\" and \"failure\") deviation from expected distribution. Binomial tests can be used to answer questions of this form: _If the true probability of success is $P$, then what is the probability of the data we have observed?_"
   ]
  },
  {
   "cell_type": "code",
   "execution_count": null,
   "metadata": {
    "collapsed": true
   },
   "outputs": [],
   "source": [
    "# Coin Tossing Example:\n",
    "# Simulate data from Binomial, test \n",
    "# hypothesis data came from fair coin\n",
    "\n",
    "using HypothesisTests\n",
    "using Distributions\n",
    "\n",
    "binom = Binomial(1, 0.6)                        # initialize Distribution object Binom(1, 0.6) \n",
    "\n",
    "srand(137)                                      # set seed for reproducibility\n",
    "x = rand(binom, 10)                             # take 10 random draws from our distribution\n",
    "\n",
    "xbool = convert(Array{Bool,1}, x)               # cast x to vector of Booleans\n",
    "BinomialTest(xbool, 0.5)                        # test null hypothesis that p = 0.5\n"
   ]
  },
  {
   "cell_type": "markdown",
   "metadata": {},
   "source": [
    "## Student's _T_-test "
   ]
  },
  {
   "cell_type": "markdown",
   "metadata": {},
   "source": [
    "Extremely common statistical test for differences in means between two groups on some continous variable. _T_-tests are often used to investigate the effects of some new treatment versus a control group."
   ]
  },
  {
   "cell_type": "code",
   "execution_count": null,
   "metadata": {
    "collapsed": true
   },
   "outputs": [],
   "source": [
    "# Life Expectancy Example:\n",
    "# Simulate data from Gaussian, test whether smokers \n",
    "# and non-smokers have same life expectancy \n",
    "\n",
    "non_smokers_gaussian = Normal(75, 5)\n",
    "smokers_gaussian = Normal(65, 7)\n",
    "\n",
    "srand(137)\n",
    "\n",
    "non_smokers = rand(non_smokers_gaussian, 30)     # take 30 random draws from Gaussian\n",
    "smokers = rand(smokers_gaussian, 30)\n",
    "\n",
    "EqualVarianceTTest(smokers, non_smokers)         # two-sample t-test (assumes equal variances)"
   ]
  },
  {
   "cell_type": "markdown",
   "metadata": {},
   "source": [
    "## Pearson's Correlation\n",
    "Pearson's correlation is a measure of the linear relationship between two continous variables. The resulting correlation coefficient, $r$, ranges between $1$ and $-1$. Positive values of $r$ indicate a positive association between the variables (e.g., hours of studying and GPA), while negative values indicate a negative relation between variables (e.g., beers-per-week and GPA)."
   ]
  },
  {
   "cell_type": "code",
   "execution_count": null,
   "metadata": {
    "collapsed": true
   },
   "outputs": [],
   "source": [
    "# correlation between two variables in vectors\n",
    "x = randn(100)\n",
    "y = randn(100)\n",
    "\n",
    "cor(x, y)\n",
    "\n",
    "\n",
    "# pairwise correlation of all variables in a matrix\n",
    "A = randn(100, 5)\n",
    "cor(A)\n",
    "\n",
    "\n",
    "# correlation of variables in a DataFrame object\n",
    "cor(stagec[:Age], stagec[:Grade])"
   ]
  },
  {
   "cell_type": "markdown",
   "metadata": {},
   "source": [
    "## Challenge Question 2\n",
    "Using the `stagec` dataset from above, determine if patients with tetraploidy tumors have higher Gleason scores than patients with diploid tumors."
   ]
  },
  {
   "cell_type": "markdown",
   "metadata": {},
   "source": [
    "---"
   ]
  },
  {
   "cell_type": "markdown",
   "metadata": {},
   "source": [
    "## Linear and Generalized Linear Models\n",
    "Linear regression models and their generalizations represent one of the most powerful and fundamental classes of models in all of statistics. These models are tremendously useful for making inferences as well as for making predictions. They are ubiquitous across scientific disciplines. Furthermore, linear and generalized linear models also serve as the foundation for some of the most promising advances in machine learning and artificial intelligence."
   ]
  },
  {
   "cell_type": "markdown",
   "metadata": {},
   "source": [
    "### Linear Regression Models"
   ]
  },
  {
   "cell_type": "code",
   "execution_count": null,
   "metadata": {
    "collapsed": true
   },
   "outputs": [],
   "source": [
    "using GLM\n",
    "\n",
    "fm1 = lm(G2 ~ 1 + Age, stagec)                               # fit linear model regressing G2 on Age"
   ]
  },
  {
   "cell_type": "code",
   "execution_count": null,
   "metadata": {
    "collapsed": true
   },
   "outputs": [],
   "source": [
    "# basic info for fitted model\n",
    "coef(fm1) \n",
    "stderr(fm1)\n",
    "confint(fm1)\n",
    "residuals(fm1)"
   ]
  },
  {
   "cell_type": "code",
   "execution_count": null,
   "metadata": {
    "collapsed": true
   },
   "outputs": [],
   "source": [
    "# fit indices\n",
    "deviance(fm1)                                                \n",
    "aic(fm1)                                                     \n",
    "bic(fm1)"
   ]
  },
  {
   "cell_type": "code",
   "execution_count": null,
   "metadata": {
    "collapsed": true
   },
   "outputs": [],
   "source": [
    "# make predictions with fitted model\n",
    "new_data = DataFrame(Age = [10, 20, 30, 40, 50])\n",
    "predict(fm1, new_data)"
   ]
  },
  {
   "cell_type": "code",
   "execution_count": null,
   "metadata": {
    "collapsed": true
   },
   "outputs": [],
   "source": [
    "# Adding predictors\n",
    "fm2 = lm(G2 ~ 1 + Age + Gleason, stagec)                     # add Gleason score as predictor\n",
    "deviance(fm2)                                                \n",
    "aic(fm2)                                                     \n",
    "bic(fm2)"
   ]
  },
  {
   "cell_type": "code",
   "execution_count": null,
   "metadata": {
    "collapsed": true
   },
   "outputs": [],
   "source": [
    "fm3 = lm(G2 ~ 1 + Age + Gleason + Grade, stagec)            "
   ]
  },
  {
   "cell_type": "code",
   "execution_count": null,
   "metadata": {
    "collapsed": true
   },
   "outputs": [],
   "source": [
    "# Adding interaction terms\n",
    "fm4 = lm(G2 ~ 1 + Age + Gleason*EET, stagec)                     "
   ]
  },
  {
   "cell_type": "markdown",
   "metadata": {},
   "source": [
    "### Binomial Logistic Regression"
   ]
  },
  {
   "cell_type": "code",
   "execution_count": null,
   "metadata": {
    "collapsed": true
   },
   "outputs": [],
   "source": [
    "fm5 = glm(PgStat ~ 1 + Gleason, stagec, Binomial())          # defaults to logit-link"
   ]
  },
  {
   "cell_type": "code",
   "execution_count": null,
   "metadata": {
    "collapsed": true
   },
   "outputs": [],
   "source": [
    "coef(fm5) \n",
    "stderr(fm5)\n",
    "confint(fm5)"
   ]
  },
  {
   "cell_type": "code",
   "execution_count": null,
   "metadata": {
    "collapsed": true
   },
   "outputs": [],
   "source": [
    "deviance(fm5)                                                \n",
    "aic(fm5)                                                     \n",
    "bic(fm5)"
   ]
  },
  {
   "cell_type": "markdown",
   "metadata": {},
   "source": [
    "### Poisson Regression"
   ]
  },
  {
   "cell_type": "code",
   "execution_count": null,
   "metadata": {
    "collapsed": false,
    "scrolled": true
   },
   "outputs": [],
   "source": [
    "prussian = dataset(\"pscl\", \"prussian\")                       # load Prussian horse kick data"
   ]
  },
  {
   "cell_type": "code",
   "execution_count": null,
   "metadata": {
    "collapsed": false,
    "scrolled": false
   },
   "outputs": [],
   "source": [
    "fm6 = glm(Y ~ 1 + Year + Corp, prussian, Poisson())          # defaults to log link "
   ]
  },
  {
   "cell_type": "code",
   "execution_count": null,
   "metadata": {
    "collapsed": true
   },
   "outputs": [],
   "source": [
    "coef(fm6) \n",
    "stderr(fm6)\n",
    "confint(fm6)\n",
    "deviance(fm6)                                                \n",
    "aic(fm6)                                                     \n",
    "bic(fm6)"
   ]
  }
 ],
 "metadata": {
  "kernelspec": {
   "display_name": "Julia 0.5.0-rc2",
   "language": "julia",
   "name": "julia-0.5"
  },
  "language_info": {
   "file_extension": ".jl",
   "mimetype": "application/julia",
   "name": "julia",
   "version": "0.5.0"
  }
 },
 "nbformat": 4,
 "nbformat_minor": 0
}
